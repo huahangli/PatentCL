{
 "cells": [
  {
   "cell_type": "code",
   "execution_count": 1,
   "metadata": {},
   "outputs": [
    {
     "name": "stdout",
     "output_type": "stream",
     "text": [
      "Wed May 18 19:29:58 2022       \n",
      "+-----------------------------------------------------------------------------+\n",
      "| NVIDIA-SMI 510.60.02    Driver Version: 510.60.02    CUDA Version: 11.6     |\n",
      "|-------------------------------+----------------------+----------------------+\n",
      "| GPU  Name        Persistence-M| Bus-Id        Disp.A | Volatile Uncorr. ECC |\n",
      "| Fan  Temp  Perf  Pwr:Usage/Cap|         Memory-Usage | GPU-Util  Compute M. |\n",
      "|                               |                      |               MIG M. |\n",
      "|===============================+======================+======================|\n",
      "|   0  NVIDIA A40          On   | 00000000:41:00.0 Off |                    0 |\n",
      "|  0%   39C    P8    32W / 300W |      0MiB / 46068MiB |      0%      Default |\n",
      "|                               |                      |                  N/A |\n",
      "+-------------------------------+----------------------+----------------------+\n",
      "                                                                               \n",
      "+-----------------------------------------------------------------------------+\n",
      "| Processes:                                                                  |\n",
      "|  GPU   GI   CI        PID   Type   Process name                  GPU Memory |\n",
      "|        ID   ID                                                   Usage      |\n",
      "|=============================================================================|\n",
      "|  No running processes found                                                 |\n",
      "+-----------------------------------------------------------------------------+\n"
     ]
    }
   ],
   "source": [
    "!nvidia-smi"
   ]
  },
  {
   "cell_type": "code",
   "execution_count": 1,
   "metadata": {},
   "outputs": [],
   "source": [
    "import pandas as pd\n",
    "import numpy as np\n",
    "import random\n",
    "from tqdm.auto import tqdm\n",
    "import time\n",
    "import torch\n",
    "import torch.nn as nn\n",
    "import torch.nn.functional as F\n",
    "from torch.utils.data import Dataset, DataLoader\n",
    "\n",
    "from transformers import BertTokenizerFast as BertTokenizer, BertModel, AdamW, get_linear_schedule_with_warmup\n",
    "from sklearn.model_selection import train_test_split\n",
    "from sklearn.metrics import classification_report, multilabel_confusion_matrix\n",
    "from torch.cuda.amp import autocast as autocast\n",
    "from torch.cuda.amp import GradScaler as GradScaler\n",
    "import os\n",
    "\n",
    "# device = torch.device(\"cuda\" if torch.cuda.is_available() else \"cpu\")\n",
    "\n",
    "# BERT_MODEL_NAME = 'bert-base-uncased'\n",
    "# tokenizer = BertTokenizer.from_pretrained('bert-base-uncased')\n",
    "\n",
    "# EPOCHS = 1\n",
    "# MAX_TOKEN_COUNT = 512\n",
    "# BATCH_SIZE = 32"
   ]
  },
  {
   "cell_type": "code",
   "execution_count": 3,
   "metadata": {},
   "outputs": [],
   "source": [
    "def setup_seed(seed):\n",
    "    torch.manual_seed(seed)\n",
    "    torch.cuda.manual_seed_all(seed)\n",
    "    np.random.seed(seed)\n",
    "    random.seed(seed)\n",
    "    torch.backends.cudnn.deterministic = True\n",
    "# 设置随机数种子\n",
    "setup_seed(20)"
   ]
  },
  {
   "cell_type": "code",
   "execution_count": 4,
   "metadata": {},
   "outputs": [
    {
     "name": "stdout",
     "output_type": "stream",
     "text": [
      "CPU times: user 35.5 s, sys: 3min 23s, total: 3min 58s\n",
      "Wall time: 52.5 s\n"
     ]
    }
   ],
   "source": [
    "%%time \n",
    "train_df=pd.read_feather(\"Hierarchical major.feather\")\n",
    "\n",
    "\n",
    "# LABEL_COLUMNS=train_df.columns[11:]\n",
    "# LABEL_COLUMNS"
   ]
  },
  {
   "cell_type": "code",
   "execution_count": 5,
   "metadata": {},
   "outputs": [],
   "source": [
    "val_df=pd.read_feather(\"./autodl-nas/CoPatE/USPTO-2M_Validation.feather\")"
   ]
  },
  {
   "cell_type": "code",
   "execution_count": 6,
   "metadata": {},
   "outputs": [],
   "source": [
    "LABEL_COLUMNS_3 = train_df.columns[11:-139]\n",
    "LABEL_COLUMNS_2 =train_df.columns[-129:]\n",
    "LABEL_COLUMNS_1 = train_df.columns[-138:-129]"
   ]
  },
  {
   "cell_type": "code",
   "execution_count": 7,
   "metadata": {},
   "outputs": [],
   "source": [
    "class PatentDataset(Dataset):\n",
    "    \"\"\"\n",
    "    Pass pandas dataframe, and tokeizer along with the max token length[128 default]\n",
    "    \n",
    "    Example: \n",
    "    -------\n",
    "    train_dataset = ToxicCommentsDataset(\n",
    "      train_df,\n",
    "      tokenizer,\n",
    "      max_token_len=MAX_TOKEN_COUNT\n",
    "    )\n",
    "\n",
    "    sample_item = train_dataset[0]\n",
    "    \n",
    "    \"\"\"\n",
    "    \n",
    "    \n",
    "    def __init__(\n",
    "        self,\n",
    "        data: pd.DataFrame,\n",
    "        tokenizer: BertTokenizer,\n",
    "        max_token_len: int = 512,\n",
    "        test= False\n",
    "    ):\n",
    "        self.data = data\n",
    "        self.tokenizer = tokenizer\n",
    "        self.max_token_len = max_token_len\n",
    "        self.valid = test\n",
    "        \n",
    "    \n",
    "    def __len__(self):\n",
    "        return len(self.data)\n",
    "    \n",
    "    \n",
    "    def __getitem__(self, index: int):\n",
    "        data_row = self.data.iloc[index]\n",
    "\n",
    "        if not self.valid:\n",
    "#             comment_text = data_row['major claim']\n",
    "            \n",
    "            comment_text = data_row['major claim']\n",
    "            \n",
    "            label_3 = data_row[LABEL_COLUMNS_3]\n",
    "            label_2 = data_row[LABEL_COLUMNS_2]\n",
    "            label_1 = data_row[LABEL_COLUMNS_1]\n",
    "            \n",
    "        else:\n",
    "            index_claims = range(len(data_row.claims))\n",
    "            index_claims = random.sample(index_claims,k=len(data_row.claims))\n",
    "            claims = [data_row.claims[i] for i in index_claims]\n",
    "            comment_text = \"\".join(claims)\n",
    "#             comment_text = \"\".join(data_row['claims'])\n",
    "            label_3 = data_row[LABEL_COLUMNS_3]\n",
    "        \n",
    "        encoding = self.tokenizer.encode_plus(\n",
    "            comment_text,\n",
    "            max_length=self.max_token_len,\n",
    "            padding=\"max_length\",\n",
    "            truncation=True,\n",
    "            add_special_tokens=True, # [CLS] & [SEP]\n",
    "            return_token_type_ids=False,\n",
    "            return_attention_mask=True, #attention_mask\n",
    "            return_tensors='pt',\n",
    "        )\n",
    "        \n",
    "        if not self.valid:\n",
    "            return dict(\n",
    "            comment_text=comment_text,\n",
    "            input_ids = encoding[\"input_ids\"].flatten(),\n",
    "            attention_mask=encoding[\"attention_mask\"].flatten(),\n",
    "            label_1=torch.FloatTensor(label_1),\n",
    "            label_2=torch.FloatTensor(label_2),\n",
    "            label_3=torch.FloatTensor(label_3),\n",
    "                \n",
    "        )\n",
    "        else:\n",
    "            return dict(\n",
    "                comment_text=comment_text,\n",
    "                input_ids = encoding[\"input_ids\"].flatten(),\n",
    "                attention_mask=encoding[\"attention_mask\"].flatten(),\n",
    "                label_3=torch.FloatTensor(label_3)\n",
    "            )\n",
    "        "
   ]
  },
  {
   "cell_type": "code",
   "execution_count": 8,
   "metadata": {},
   "outputs": [],
   "source": [
    "train_dataset = PatentDataset(\n",
    "  train_df,\n",
    "  tokenizer,\n",
    "  max_token_len=MAX_TOKEN_COUNT\n",
    ")\n",
    "\n",
    "val_dataset = PatentDataset(\n",
    "  val_df,\n",
    "  tokenizer,\n",
    "  max_token_len=MAX_TOKEN_COUNT,\n",
    "  test=True\n",
    ")"
   ]
  },
  {
   "cell_type": "code",
   "execution_count": 9,
   "metadata": {},
   "outputs": [],
   "source": [
    "train_dataloader = DataLoader(train_dataset, batch_size=BATCH_SIZE, shuffle=True,drop_last = True,pin_memory=True)\n",
    "val_dataloader = DataLoader(val_dataset, batch_size=BATCH_SIZE, shuffle=False, drop_last = True,pin_memory=True)"
   ]
  },
  {
   "cell_type": "code",
   "execution_count": 10,
   "metadata": {},
   "outputs": [
    {
     "name": "stderr",
     "output_type": "stream",
     "text": [
      "Some weights of the model checkpoint at bert-base-uncased were not used when initializing BertModel: ['cls.seq_relationship.weight', 'cls.predictions.transform.LayerNorm.bias', 'cls.predictions.bias', 'cls.predictions.decoder.weight', 'cls.predictions.transform.dense.bias', 'cls.seq_relationship.bias', 'cls.predictions.transform.LayerNorm.weight', 'cls.predictions.transform.dense.weight']\n",
      "- This IS expected if you are initializing BertModel from the checkpoint of a model trained on another task or with another architecture (e.g. initializing a BertForSequenceClassification model from a BertForPreTraining model).\n",
      "- This IS NOT expected if you are initializing BertModel from the checkpoint of a model that you expect to be exactly identical (initializing a BertForSequenceClassification model from a BertForSequenceClassification model).\n"
     ]
    }
   ],
   "source": [
    "Bert_model = BertModel.from_pretrained(BERT_MODEL_NAME,return_dict = True).to(device)"
   ]
  },
  {
   "cell_type": "code",
   "execution_count": 11,
   "metadata": {},
   "outputs": [],
   "source": [
    "Tags_df = pd.read_feather(\"Tags.feather\")"
   ]
  },
  {
   "cell_type": "code",
   "execution_count": 12,
   "metadata": {},
   "outputs": [],
   "source": [
    "class Tags_datasets(Dataset):\n",
    "    \n",
    "    def __init__(\n",
    "        self,\n",
    "        data: pd.DataFrame,\n",
    "        tokenizer: BertTokenizer,\n",
    "        max_token_len: int = 512\n",
    "    ):\n",
    "        self.data = data\n",
    "        self.tokenizer = tokenizer\n",
    "        self.max_token_len = max_token_len\n",
    "    \n",
    "    def __len__(self):\n",
    "        return len(self.data)\n",
    "    \n",
    "        \n",
    "    def __getitem__(self, index: int):\n",
    "        data_row = self.data.iloc[index]\n",
    "        labels = data_row.Label\n",
    "        tags = data_row.Tags\n",
    "        \n",
    "        encoding = self.tokenizer.encode_plus(\n",
    "            tags,\n",
    "            max_length=self.max_token_len,\n",
    "            padding=\"max_length\",\n",
    "            truncation=True,\n",
    "            return_tensors='pt',\n",
    "        )\n",
    "        \n",
    "        return dict(\n",
    "            index=index,\n",
    "            label = labels,\n",
    "            input_ids=encoding['input_ids'].flatten(),\n",
    "            attention_mask = encoding['attention_mask'].flatten()\n",
    "        )"
   ]
  },
  {
   "cell_type": "code",
   "execution_count": 13,
   "metadata": {},
   "outputs": [],
   "source": [
    "Tags_dataset = Tags_datasets(data = Tags_df,tokenizer = tokenizer, max_token_len = MAX_TOKEN_COUNT)\n",
    "Tags_dataloader = DataLoader(Tags_dataset, batch_size = 1)"
   ]
  },
  {
   "cell_type": "code",
   "execution_count": 14,
   "metadata": {},
   "outputs": [
    {
     "data": {
      "application/vnd.jupyter.widget-view+json": {
       "model_id": "f5ac4f26d59d4eb78d21872cfc8311ec",
       "version_major": 2,
       "version_minor": 0
      },
      "text/plain": [
       "  0%|          | 0/674 [00:00<?, ?it/s]"
      ]
     },
     "metadata": {},
     "output_type": "display_data"
    }
   ],
   "source": [
    "tags_embeddings = {}\n",
    "\n",
    "for step,batch in tqdm(enumerate(Tags_dataloader),total = len(Tags_dataloader)):\n",
    "    label = batch['label'][0]\n",
    "    input_ids = batch['input_ids'].to(device)\n",
    "    attention_mask = batch['attention_mask'].to(device)\n",
    "    \n",
    "    with torch.no_grad():\n",
    "        output = Bert_model(input_ids,attention_mask = attention_mask)\n",
    "    tag_embeddings = output.pooler_output.detach().cpu()\n",
    "    tags_embeddings[label] = tag_embeddings\n",
    "\n",
    "\n"
   ]
  },
  {
   "cell_type": "code",
   "execution_count": 15,
   "metadata": {},
   "outputs": [],
   "source": [
    "tags_embedding = np.concatenate([tags_embeddings[key] for key in LABEL_COLUMNS_3],axis = 0)\n",
    "tags_embedding = torch.tensor(tags_embedding)"
   ]
  },
  {
   "cell_type": "code",
   "execution_count": 16,
   "metadata": {},
   "outputs": [],
   "source": [
    "tags_embedding = tags_embedding.to(device)"
   ]
  },
  {
   "cell_type": "code",
   "execution_count": 17,
   "metadata": {},
   "outputs": [],
   "source": [
    "# Contrastive learning loss funcation\n",
    "\n",
    "class ConLoss(nn.Module):\n",
    "    \n",
    "    def __init__(self, temperature = 0.1):\n",
    "        super().__init__()\n",
    "        self.temperature = temperature\n",
    "        \n",
    "    def forward(self, embeddings, label_1,label_2,label_3):\n",
    "       \n",
    "        # embeddings (batch_size,bert_hidden_layer) , labels (batch_size,num_classes)\n",
    "        similarities = F.cosine_similarity(embeddings.unsqueeze(1),embeddings.unsqueeze(0),dim=2)/self.temperature\n",
    "#         print(similarities)\n",
    "        \n",
    "        # mask\n",
    "        logits_mask = ~torch.eye(BATCH_SIZE,dtype=torch.bool).to(device)\n",
    "        labels_mask = ~torch.eye(BATCH_SIZE,dtype=torch.bool).to(device)\n",
    "\n",
    "        exp_logits = torch.exp(similarities) * logits_mask\n",
    "        loss = torch.log(exp_logits.sum(1,keepdim=True)) - similarities\n",
    "        \n",
    "        # labels \n",
    "        weight_1 = torch.matmul(label_1,label_1.T)\n",
    "        weight_2 = torch.matmul(label_2,label_2.T)\n",
    "        weight_3 = torch.matmul(label_3,label_3.T)\n",
    "\n",
    "        weight_1 = weight_1 / torch.diag(weight_1)\n",
    "        weight_1 = weight_1 * labels_mask\n",
    "        weight_1 = torch.where(weight_1!=1,torch.zeros_like(weight_1).to(device),weight_1)\n",
    "        weight_1 = weight_1/torch.sum(weight_1)\n",
    "        \n",
    "        weight_2 = weight_2 / torch.diag(weight_2)\n",
    "        weight_2 = weight_2 * labels_mask\n",
    "        weight_2 = torch.where(weight_2!=1,torch.zeros_like(weight_2).to(device),weight_2)\n",
    "        weight_2 = weight_2/torch.sum(weight_2)\n",
    "        \n",
    "        weight_3 = weight_3 / torch.diag(weight_3)\n",
    "        weight_3 = weight_3 * labels_mask\n",
    "        weight_3 = torch.where(weight_3!=1,torch.zeros_like(weight_3).to(device),weight_3)\n",
    "        weight_3 = weight_3/torch.sum(weight_3)\n",
    "        \n",
    "        weight = weight_1*0.2 + weight_2*0.3 + weight_3*0.5\n",
    "        \n",
    "        loss = weight * loss\n",
    "        loss = torch.mean(loss)\n",
    "        return loss\n",
    "        \n"
   ]
  },
  {
   "cell_type": "code",
   "execution_count": 18,
   "metadata": {},
   "outputs": [],
   "source": [
    "class BertNetwork(nn.Module):\n",
    "\n",
    "    def __init__(self, n_classes: int,labels_embeddings: torch.Tensor, n_training_steps=None, n_warmup_steps=None):\n",
    "        super().__init__()\n",
    "        self.bert = BertModel.from_pretrained(BERT_MODEL_NAME, return_dict=True) #load the pretrained bert model\n",
    "        self.classifier = nn.Linear(self.bert.config.hidden_size, n_classes) # add a linear layer to the bert\n",
    "        self.n_training_steps = n_training_steps\n",
    "        self.n_warmup_steps = n_warmup_steps\n",
    "        self.criterion = nn.BCEWithLogitsLoss()\n",
    "        self.Weight_1 = nn.Linear(n_classes,1)\n",
    "        self.dropout = nn.Dropout(self.bert.config.hidden_dropout_prob)\n",
    "        self.batch_labels_embeddings = labels_embeddings.expand(BATCH_SIZE,n_classes,self.bert.config.hidden_size)\n",
    "        self.batch_labels_embeddings = self.batch_labels_embeddings.transpose(1, 2) # batch_size * 768 * 664\n",
    "        self.batch_labels_embeddings.requires_grad = False\n",
    "        \n",
    "    def forward(self, input_ids, attention_mask):\n",
    "        outputs = self.bert(input_ids, attention_mask=attention_mask)\n",
    "        outputs = outputs.last_hidden_state\n",
    "        \n",
    "        # label-wise attention\n",
    "        att = torch.bmm(outputs,self.batch_labels_embeddings)\n",
    "        att = F.softmax(att,dim=1)\n",
    "        joint_labels_output = torch.bmm(outputs.transpose(1,2),att)\n",
    "        joint_labels_output = F.relu(self.Weight_1(joint_labels_output).squeeze(2))\n",
    "\n",
    "        return joint_labels_output"
   ]
  },
  {
   "cell_type": "code",
   "execution_count": 19,
   "metadata": {},
   "outputs": [],
   "source": [
    "class Classifier(nn.Module):\n",
    "    \n",
    "    def __init__(self, n_classes: int ):\n",
    "        super().__init__()\n",
    "        self.classifier = nn.Linear(768,n_classes)\n",
    "        self.dropout = nn.Dropout(0.10)\n",
    "        self.criterion = nn.BCEWithLogitsLoss()\n",
    "        \n",
    "    def forward(self,embeddings,labels = None):\n",
    "        \n",
    "        output = self.classifier(self.dropout(embeddings))\n",
    "        \n",
    "        if labels is not None:\n",
    "            loss = self.criterion(output,labels)\n",
    "            output = (loss,output)\n",
    "        \n",
    "        return output"
   ]
  },
  {
   "cell_type": "code",
   "execution_count": 20,
   "metadata": {},
   "outputs": [
    {
     "name": "stderr",
     "output_type": "stream",
     "text": [
      "Some weights of the model checkpoint at bert-base-uncased were not used when initializing BertModel: ['cls.seq_relationship.weight', 'cls.predictions.transform.LayerNorm.bias', 'cls.predictions.bias', 'cls.predictions.decoder.weight', 'cls.predictions.transform.dense.bias', 'cls.seq_relationship.bias', 'cls.predictions.transform.LayerNorm.weight', 'cls.predictions.transform.dense.weight']\n",
      "- This IS expected if you are initializing BertModel from the checkpoint of a model trained on another task or with another architecture (e.g. initializing a BertForSequenceClassification model from a BertForPreTraining model).\n",
      "- This IS NOT expected if you are initializing BertModel from the checkpoint of a model that you expect to be exactly identical (initializing a BertForSequenceClassification model from a BertForSequenceClassification model).\n"
     ]
    },
    {
     "data": {
      "text/plain": [
       "(6248, 62484)"
      ]
     },
     "execution_count": 20,
     "metadata": {},
     "output_type": "execute_result"
    }
   ],
   "source": [
    "model = BertNetwork(len(LABEL_COLUMNS_3),tags_embedding).to(device)\n",
    "Conloss =  ConLoss().to(device)\n",
    "classifier = Classifier(len(LABEL_COLUMNS_3)).to(device)\n",
    "N_EPOCHS = EPOCHS\n",
    "\n",
    "steps_per_epoch=len(train_df) // BATCH_SIZE\n",
    "total_training_steps = steps_per_epoch * N_EPOCHS\n",
    "warmup_steps = total_training_steps // 10\n",
    "warmup_steps, total_training_steps"
   ]
  },
  {
   "cell_type": "code",
   "execution_count": 21,
   "metadata": {},
   "outputs": [
    {
     "name": "stderr",
     "output_type": "stream",
     "text": [
      "/root/miniconda3/lib/python3.8/site-packages/transformers/optimization.py:306: FutureWarning: This implementation of AdamW is deprecated and will be removed in a future version. Use the PyTorch implementation torch.optim.AdamW instead, or set `no_deprecation_warning=True` to disable this warning\n",
      "  warnings.warn(\n"
     ]
    }
   ],
   "source": [
    "# optimizer = AdamW(model.parameters(), lr=2e-4)\n",
    "\n",
    "optimizer = AdamW([\n",
    "                {'params': model.parameters()},\n",
    "                {'params': classifier.parameters()}],\n",
    "                lr=1e-4\n",
    ")\n",
    "\n",
    "scheduler = get_linear_schedule_with_warmup(\n",
    "    optimizer,\n",
    "    num_warmup_steps=warmup_steps,\n",
    "    num_training_steps=total_training_steps\n",
    ")"
   ]
  },
  {
   "cell_type": "code",
   "execution_count": 22,
   "metadata": {},
   "outputs": [],
   "source": [
    "from sklearn.metrics import roc_auc_score\n",
    "from sklearn.metrics import precision_score\n",
    "\n",
    "# function for evaluating the model\n",
    "def evaluate(mydataloader):\n",
    "\n",
    "    print(\"\\nEvaluating...\")\n",
    "    #t0 = time.time()\n",
    "    # deactivate dropout layers\n",
    "    model.eval()\n",
    "    classifier.eval()\n",
    "    total_loss, total_accuracy = 0, 0\n",
    "\n",
    "    # empty list to save the model predictions\n",
    "    total_preds = []\n",
    "    total_labels = []\n",
    "\n",
    "    # iterate over batches\n",
    "    for step,batch in tqdm(enumerate(mydataloader),total=len(mydataloader),desc='Eval'):\n",
    "\n",
    "        input_ids = batch[\"input_ids\"].to(device)\n",
    "        attention_mask = batch[\"attention_mask\"].to(device)\n",
    "#         label_1 = batch['label_1'].to(device)\n",
    "#         label_2 = batch['label_2'].to(device)\n",
    "        label_3 = batch['label_3'].to(device)\n",
    "        # deactivate autograd\n",
    "        with autocast():\n",
    "            with torch.no_grad():\n",
    "                outputs = model(input_ids, attention_mask)\n",
    "#                 loss1 = Conloss(outputs,label_1=label_1,label_2=label_2,label_3=label_3)\n",
    "                loss2,outputs = classifier(outputs,label_3)\n",
    "                if step%1000 ==0:\n",
    "                    print(f\"loss contrastive :loss1  loss classifier: {loss2}\")\n",
    "                outputs = torch.sigmoid(outputs)\n",
    "\n",
    "#                 loss = loss1 +loss2\n",
    "                loss = loss2\n",
    "                total_loss = total_loss + loss.float().item()\n",
    "\n",
    "                outputs = outputs.detach().float().cpu().numpy()\n",
    "                labels = label_3.detach().float().cpu().numpy()\n",
    "                total_preds.append(outputs)\n",
    "                total_labels.append(labels)\n",
    "\n",
    "\n",
    "    # compute the validation loss of the epoch\n",
    "    avg_loss = total_loss / len(mydataloader)\n",
    "\n",
    "    total_preds  = np.concatenate(total_preds, axis=0)\n",
    "    total_labels = np.concatenate(total_labels, axis=0)\n",
    "    model.train()\n",
    "    print(f\"Evaluate loss {total_loss / len(mydataloader)}\")\n",
    "    return avg_loss, total_preds, total_labels"
   ]
  },
  {
   "cell_type": "code",
   "execution_count": 24,
   "metadata": {},
   "outputs": [],
   "source": [
    "# function to train the model\n",
    "def train():\n",
    "    \n",
    "    now=time.strftime('%Y-%m-%d %H:%M:%S', time.localtime())\n",
    "    best_valid_loss = float('inf')\n",
    "    model.train()\n",
    "    classifier.train()\n",
    "    total_loss, total_accuracy = 0, 0\n",
    "    avg_loss = 0\n",
    "    scaler = GradScaler()\n",
    "\n",
    "    # empty list to save model predictions\n",
    "    total_preds=[]\n",
    "    # iterate over batches\n",
    "    for step,batch in tqdm(enumerate(train_dataloader),total=len(train_dataloader),desc=\"Train\"):\n",
    "        \n",
    "        if step%10000 == 0 and step!=0:\n",
    "            valid_loss,_,_ = evaluate(val_dataloader)\n",
    "            if valid_loss < best_valid_loss:\n",
    "                best_valid_loss = valid_loss\n",
    "                torch.save(model.state_dict(), f\"./model/CoPatE_lr_5e-5_{now}.pt\")\n",
    "        input_ids = batch[\"input_ids\"].to(device)\n",
    "        attention_mask = batch[\"attention_mask\"].to(device)\n",
    "        label_1 = batch['label_1'].to(device)\n",
    "        label_2 = batch['label_2'].to(device)\n",
    "        label_3 = batch['label_3'].to(device)  \n",
    "        if step > 0.8*len(train_dataloader):\n",
    "            with autocast():\n",
    "                outputs = model(input_ids, attention_mask)\n",
    "                loss1 = Conloss(outputs,label_1=label_1,label_2=label_2,label_3=label_3)\n",
    "                loss2,_ = classifier(outputs,label_3)\n",
    "                loss = loss1 + loss2\n",
    "\n",
    "            optimizer.zero_grad()\n",
    "            if step%100 == 0:\n",
    "                print(f\"STEP {step}: loss contrastive :{loss1}  loss classifier: {loss2}\")\n",
    "        else:\n",
    "            with autocast():\n",
    "                outputs = model(input_ids, attention_mask)\n",
    "                loss,_ = classifier(outputs,label_3)\n",
    "            optimizer.zero_grad()\n",
    "            if step%100 == 0:\n",
    "                print(f\"STEP {step}: loss classifier: {loss}\")\n",
    "        # add on to the total loss\n",
    "        losses.append(loss.item())\n",
    "        total_loss = total_loss + loss.item()\n",
    "        scaler.scale(loss).backward()\n",
    "\n",
    "        scaler.unscale_(optimizer)\n",
    "        # clip the the gradients to 1.0. It helps in preventing the exploding gradient problem\n",
    "        torch.nn.utils.clip_grad_norm_(model.parameters(), 1.0)\n",
    "\n",
    "        scaler.step(optimizer)\n",
    "        scheduler.step()\n",
    "        scaler.update()\n",
    "        # model predictions are stored on GPU. So, push it to CPU\n",
    "        outputs=outputs.detach().float().cpu().numpy()\n",
    "\n",
    "        # append the model predictions\n",
    "        total_preds.append(outputs)\n",
    "\n",
    "    # compute the training loss of the epoch\n",
    "    avg_loss = total_loss / len(train_dataloader)\n",
    "    print(f\"{step}: {avg_loss}\")\n",
    "  \n",
    "\n",
    "    # predictions are in the form of (no. of batches, size of batch, no. of classes).\n",
    "    # reshape the predictions in form of (number of samples, no. of classes)\n",
    "    total_preds  = np.concatenate(total_preds, axis=0)\n",
    "\n",
    "    #returns the loss and predictions\n",
    "    return avg_loss, total_preds"
   ]
  },
  {
   "cell_type": "code",
   "execution_count": null,
   "metadata": {
    "collapsed": true,
    "jupyter": {
     "outputs_hidden": true
    },
    "tags": []
   },
   "outputs": [
    {
     "data": {
      "application/vnd.jupyter.widget-view+json": {
       "model_id": "275cb4391aae4cb3a324558cc677ccc0",
       "version_major": 2,
       "version_minor": 0
      },
      "text/plain": [
       "Train:   0%|          | 0/62484 [00:00<?, ?it/s]"
      ]
     },
     "metadata": {},
     "output_type": "display_data"
    },
    {
     "name": "stdout",
     "output_type": "stream",
     "text": [
      "STEP 0: loss classifier: 0.006539450027048588\n",
      "STEP 100: loss classifier: 0.005286253523081541\n",
      "STEP 200: loss classifier: 0.00577233312651515\n",
      "STEP 300: loss classifier: 0.006785879377275705\n",
      "STEP 400: loss classifier: 0.006582504138350487\n",
      "STEP 500: loss classifier: 0.0052382079884409904\n",
      "STEP 600: loss classifier: 0.005633514374494553\n",
      "STEP 700: loss classifier: 0.00442507304251194\n",
      "STEP 800: loss classifier: 0.006413094699382782\n",
      "STEP 900: loss classifier: 0.005706325173377991\n",
      "STEP 1000: loss classifier: 0.005523086991161108\n",
      "STEP 1100: loss classifier: 0.00558877270668745\n",
      "STEP 1200: loss classifier: 0.005359854083508253\n",
      "STEP 1300: loss classifier: 0.0065163918770849705\n",
      "STEP 1400: loss classifier: 0.003570703323930502\n",
      "STEP 1500: loss classifier: 0.007230360526591539\n",
      "STEP 1600: loss classifier: 0.00527672516182065\n",
      "STEP 1700: loss classifier: 0.00831750500947237\n",
      "STEP 1800: loss classifier: 0.00614092405885458\n",
      "STEP 1900: loss classifier: 0.004562295041978359\n",
      "STEP 2000: loss classifier: 0.005175690166652203\n",
      "STEP 2100: loss classifier: 0.004328576382249594\n",
      "STEP 2200: loss classifier: 0.004973523318767548\n",
      "STEP 2300: loss classifier: 0.005874122492969036\n",
      "STEP 2400: loss classifier: 0.006074834614992142\n",
      "STEP 2500: loss classifier: 0.005165891721844673\n",
      "STEP 2600: loss classifier: 0.006347378250211477\n",
      "STEP 2700: loss classifier: 0.004414495546370745\n",
      "STEP 2800: loss classifier: 0.0064386771991848946\n",
      "STEP 2900: loss classifier: 0.006268524099141359\n",
      "STEP 3000: loss classifier: 0.004725339822471142\n",
      "STEP 3100: loss classifier: 0.007049886975437403\n",
      "STEP 3200: loss classifier: 0.00693482905626297\n",
      "STEP 3300: loss classifier: 0.004265408031642437\n",
      "STEP 3400: loss classifier: 0.005237014498561621\n",
      "STEP 3500: loss classifier: 0.004754994995892048\n",
      "STEP 3600: loss classifier: 0.005606966558843851\n",
      "STEP 3700: loss classifier: 0.004462642595171928\n",
      "STEP 3800: loss classifier: 0.005920844618231058\n",
      "STEP 3900: loss classifier: 0.005650793667882681\n",
      "STEP 4000: loss classifier: 0.005147247575223446\n",
      "STEP 4100: loss classifier: 0.004062294028699398\n",
      "STEP 4200: loss classifier: 0.004970716778188944\n",
      "STEP 4300: loss classifier: 0.0050108847208321095\n",
      "STEP 4400: loss classifier: 0.007277118042111397\n",
      "STEP 4500: loss classifier: 0.006438725627958775\n",
      "STEP 4600: loss classifier: 0.004815090913325548\n",
      "STEP 4700: loss classifier: 0.00442942650988698\n",
      "STEP 4800: loss classifier: 0.00474846176803112\n",
      "STEP 4900: loss classifier: 0.005198792088776827\n",
      "STEP 5000: loss classifier: 0.005849637556821108\n",
      "STEP 5100: loss classifier: 0.004946219269186258\n",
      "STEP 5200: loss classifier: 0.0060136509127914906\n",
      "STEP 5300: loss classifier: 0.0045106373727321625\n",
      "STEP 5400: loss classifier: 0.004464352037757635\n",
      "STEP 5500: loss classifier: 0.006076584104448557\n",
      "STEP 5600: loss classifier: 0.005465583875775337\n",
      "STEP 5700: loss classifier: 0.00516209751367569\n",
      "STEP 5800: loss classifier: 0.0053649479523301125\n",
      "STEP 5900: loss classifier: 0.007043303456157446\n",
      "STEP 6000: loss classifier: 0.003617412643507123\n",
      "STEP 6100: loss classifier: 0.006839101202785969\n",
      "STEP 6200: loss classifier: 0.004684781655669212\n",
      "STEP 6300: loss classifier: 0.0053743477910757065\n",
      "STEP 6400: loss classifier: 0.004571681376546621\n",
      "STEP 6500: loss classifier: 0.004600910935550928\n",
      "STEP 6600: loss classifier: 0.006448788568377495\n",
      "STEP 6700: loss classifier: 0.005160000640898943\n",
      "STEP 6800: loss classifier: 0.0034001213498413563\n",
      "STEP 6900: loss classifier: 0.007344665005803108\n",
      "STEP 7000: loss classifier: 0.005656437948346138\n",
      "STEP 7100: loss classifier: 0.006074117962270975\n",
      "STEP 7200: loss classifier: 0.006808861158788204\n",
      "STEP 7300: loss classifier: 0.005906104110181332\n",
      "STEP 7400: loss classifier: 0.004647815600037575\n",
      "STEP 7500: loss classifier: 0.003704444970935583\n",
      "STEP 7600: loss classifier: 0.003730964846909046\n",
      "STEP 7700: loss classifier: 0.005923544522374868\n",
      "STEP 7800: loss classifier: 0.005582320503890514\n",
      "STEP 7900: loss classifier: 0.005360080860555172\n",
      "STEP 8000: loss classifier: 0.004627963528037071\n",
      "STEP 8100: loss classifier: 0.007505163084715605\n",
      "STEP 8200: loss classifier: 0.003970326390117407\n",
      "STEP 8300: loss classifier: 0.004550638608634472\n",
      "STEP 8400: loss classifier: 0.006320187821984291\n",
      "STEP 8500: loss classifier: 0.00592668866738677\n",
      "STEP 8600: loss classifier: 0.005469313357025385\n",
      "STEP 8700: loss classifier: 0.0039873141795396805\n",
      "STEP 8800: loss classifier: 0.006450480315834284\n",
      "STEP 8900: loss classifier: 0.005404149182140827\n",
      "STEP 9000: loss classifier: 0.004969788249582052\n",
      "STEP 9100: loss classifier: 0.006224627606570721\n",
      "STEP 9200: loss classifier: 0.004452972207218409\n",
      "STEP 9300: loss classifier: 0.004743544850498438\n",
      "STEP 9400: loss classifier: 0.005608418490737677\n",
      "STEP 9500: loss classifier: 0.006287720985710621\n",
      "STEP 9600: loss classifier: 0.0059137484058737755\n",
      "STEP 9700: loss classifier: 0.004379655234515667\n",
      "STEP 9800: loss classifier: 0.005186283495277166\n",
      "STEP 9900: loss classifier: 0.003130205674096942\n",
      "\n",
      "Evaluating...\n"
     ]
    },
    {
     "data": {
      "application/vnd.jupyter.widget-view+json": {
       "model_id": "bfb40b96cfa2467a9b3e162b5b6a6b7a",
       "version_major": 2,
       "version_minor": 0
      },
      "text/plain": [
       "Eval:   0%|          | 0/1634 [00:00<?, ?it/s]"
      ]
     },
     "metadata": {},
     "output_type": "display_data"
    },
    {
     "name": "stdout",
     "output_type": "stream",
     "text": [
      "loss contrastive :loss1  loss classifier: 0.005678244866430759\n",
      "loss contrastive :loss1  loss classifier: 0.004505077842622995\n",
      "Evaluate loss 0.005179616474293428\n",
      "STEP 10000: loss classifier: 0.003268686356022954\n",
      "STEP 10100: loss classifier: 0.0038966115098446608\n",
      "STEP 10200: loss classifier: 0.004677766002714634\n",
      "STEP 10300: loss classifier: 0.003893543966114521\n",
      "STEP 10400: loss classifier: 0.005082374904304743\n",
      "STEP 10500: loss classifier: 0.006504149176180363\n",
      "STEP 10600: loss classifier: 0.004028094932436943\n",
      "STEP 10700: loss classifier: 0.005414608400315046\n",
      "STEP 10800: loss classifier: 0.005910307168960571\n",
      "STEP 10900: loss classifier: 0.0037751924246549606\n",
      "STEP 11000: loss classifier: 0.005412472411990166\n",
      "STEP 11100: loss classifier: 0.004746235907077789\n",
      "STEP 11200: loss classifier: 0.004026717506349087\n",
      "STEP 11300: loss classifier: 0.00552744185552001\n",
      "STEP 11400: loss classifier: 0.005490193609148264\n",
      "STEP 11500: loss classifier: 0.005467909388244152\n",
      "STEP 11600: loss classifier: 0.004169811494648457\n",
      "STEP 11700: loss classifier: 0.006914353463798761\n",
      "STEP 11800: loss classifier: 0.005483405664563179\n",
      "STEP 11900: loss classifier: 0.004582169931381941\n",
      "STEP 12000: loss classifier: 0.0038280775770545006\n",
      "STEP 12100: loss classifier: 0.003453893354162574\n",
      "STEP 12200: loss classifier: 0.0032416675239801407\n",
      "STEP 12300: loss classifier: 0.005106169730424881\n",
      "STEP 12400: loss classifier: 0.0035235772375017405\n",
      "STEP 12500: loss classifier: 0.00561627559363842\n",
      "STEP 12600: loss classifier: 0.005738398991525173\n",
      "STEP 12700: loss classifier: 0.003878540126606822\n",
      "STEP 12800: loss classifier: 0.004083945881575346\n",
      "STEP 12900: loss classifier: 0.004049836192280054\n",
      "STEP 13000: loss classifier: 0.00510528776794672\n",
      "STEP 13100: loss classifier: 0.006889869458973408\n",
      "STEP 13200: loss classifier: 0.004974223207682371\n",
      "STEP 13300: loss classifier: 0.004655224736779928\n",
      "STEP 13400: loss classifier: 0.004989681299775839\n",
      "STEP 13500: loss classifier: 0.005113368853926659\n",
      "STEP 13600: loss classifier: 0.005444637965410948\n",
      "STEP 13700: loss classifier: 0.0054906015284359455\n",
      "STEP 13800: loss classifier: 0.005651654675602913\n",
      "STEP 13900: loss classifier: 0.004732327535748482\n",
      "STEP 14000: loss classifier: 0.004026091191917658\n",
      "STEP 14100: loss classifier: 0.004848966374993324\n",
      "STEP 14200: loss classifier: 0.005857745185494423\n",
      "STEP 14300: loss classifier: 0.003427040297538042\n",
      "STEP 14400: loss classifier: 0.00439917016774416\n",
      "STEP 14500: loss classifier: 0.003745216876268387\n",
      "STEP 14600: loss classifier: 0.005445610266178846\n",
      "STEP 14700: loss classifier: 0.004421268589794636\n",
      "STEP 14800: loss classifier: 0.00370035064406693\n",
      "STEP 14900: loss classifier: 0.004925579763948917\n",
      "STEP 15000: loss classifier: 0.0052367146126925945\n",
      "STEP 15100: loss classifier: 0.00462749321013689\n",
      "STEP 15200: loss classifier: 0.004251559730619192\n",
      "STEP 15300: loss classifier: 0.004231981933116913\n",
      "STEP 15400: loss classifier: 0.006167885381728411\n",
      "STEP 15500: loss classifier: 0.004680795595049858\n",
      "STEP 15600: loss classifier: 0.0061109126545488834\n",
      "STEP 15700: loss classifier: 0.005531971342861652\n",
      "STEP 15800: loss classifier: 0.003876479109749198\n",
      "STEP 15900: loss classifier: 0.004435302224010229\n",
      "STEP 16000: loss classifier: 0.00429546320810914\n",
      "STEP 16100: loss classifier: 0.004747147671878338\n",
      "STEP 16200: loss classifier: 0.0032267202623188496\n",
      "STEP 16300: loss classifier: 0.004396313801407814\n",
      "STEP 16400: loss classifier: 0.006031619384884834\n",
      "STEP 16500: loss classifier: 0.004430909641087055\n",
      "STEP 16600: loss classifier: 0.0044727446511387825\n",
      "STEP 16700: loss classifier: 0.003072087885811925\n",
      "STEP 16800: loss classifier: 0.0049435729160904884\n",
      "STEP 16900: loss classifier: 0.00625812029466033\n",
      "STEP 17000: loss classifier: 0.004164530895650387\n",
      "STEP 17100: loss classifier: 0.00490039587020874\n",
      "STEP 17200: loss classifier: 0.004136967938393354\n",
      "STEP 17300: loss classifier: 0.0064944373443722725\n",
      "STEP 17400: loss classifier: 0.004682906437665224\n",
      "STEP 17500: loss classifier: 0.005466298665851355\n",
      "STEP 17600: loss classifier: 0.003498862963169813\n",
      "STEP 17700: loss classifier: 0.006092342082411051\n",
      "STEP 17800: loss classifier: 0.004946501459926367\n",
      "STEP 17900: loss classifier: 0.0041702184826135635\n",
      "STEP 18000: loss classifier: 0.00591060658916831\n",
      "STEP 18100: loss classifier: 0.004028259310871363\n",
      "STEP 18200: loss classifier: 0.005959364585578442\n",
      "STEP 18300: loss classifier: 0.0042628017254173756\n",
      "STEP 18400: loss classifier: 0.0038272924721240997\n",
      "STEP 18500: loss classifier: 0.0048021250404417515\n",
      "STEP 18600: loss classifier: 0.005067909136414528\n",
      "STEP 18700: loss classifier: 0.0045791021548211575\n",
      "STEP 18800: loss classifier: 0.0031887213699519634\n",
      "STEP 18900: loss classifier: 0.0032324977219104767\n",
      "STEP 19000: loss classifier: 0.003831632435321808\n",
      "STEP 19100: loss classifier: 0.005328596103936434\n",
      "STEP 19200: loss classifier: 0.00544862262904644\n",
      "STEP 19300: loss classifier: 0.003920784220099449\n",
      "STEP 19400: loss classifier: 0.0037143512163311243\n",
      "STEP 19500: loss classifier: 0.004596956539899111\n",
      "STEP 19600: loss classifier: 0.00617477810010314\n",
      "STEP 19700: loss classifier: 0.005155806429684162\n",
      "STEP 19800: loss classifier: 0.004806154407560825\n",
      "STEP 19900: loss classifier: 0.004553326405584812\n",
      "\n",
      "Evaluating...\n"
     ]
    },
    {
     "data": {
      "application/vnd.jupyter.widget-view+json": {
       "model_id": "7cb1c12755734d4ca3e62d29647c609f",
       "version_major": 2,
       "version_minor": 0
      },
      "text/plain": [
       "Eval:   0%|          | 0/1634 [00:00<?, ?it/s]"
      ]
     },
     "metadata": {},
     "output_type": "display_data"
    },
    {
     "name": "stdout",
     "output_type": "stream",
     "text": [
      "loss contrastive :loss1  loss classifier: 0.005192983895540237\n",
      "loss contrastive :loss1  loss classifier: 0.0043900529853999615\n",
      "Evaluate loss 0.004882681305916932\n",
      "STEP 20000: loss classifier: 0.0031283122953027487\n",
      "STEP 20100: loss classifier: 0.0062094018794596195\n",
      "STEP 20200: loss classifier: 0.005252518225461245\n",
      "STEP 20300: loss classifier: 0.004182801581919193\n",
      "STEP 20400: loss classifier: 0.006056245416402817\n",
      "STEP 20500: loss classifier: 0.004632787313312292\n",
      "STEP 20600: loss classifier: 0.004803474526852369\n",
      "STEP 20700: loss classifier: 0.004556267522275448\n",
      "STEP 20800: loss classifier: 0.004039531573653221\n",
      "STEP 20900: loss classifier: 0.0046360306441783905\n",
      "STEP 21000: loss classifier: 0.0033480986021459103\n",
      "STEP 21100: loss classifier: 0.0044764308258891106\n",
      "STEP 21200: loss classifier: 0.0042644077911973\n",
      "STEP 21300: loss classifier: 0.004757292568683624\n",
      "STEP 21400: loss classifier: 0.004079400096088648\n",
      "STEP 21500: loss classifier: 0.004243966657668352\n",
      "STEP 21600: loss classifier: 0.0051841107197105885\n",
      "STEP 21700: loss classifier: 0.003999486565589905\n",
      "STEP 21800: loss classifier: 0.004800343420356512\n",
      "STEP 21900: loss classifier: 0.0034183887764811516\n",
      "STEP 22000: loss classifier: 0.0037320987321436405\n",
      "STEP 22100: loss classifier: 0.003605759935453534\n",
      "STEP 22200: loss classifier: 0.004718656651675701\n",
      "STEP 22300: loss classifier: 0.0036060726270079613\n",
      "STEP 22400: loss classifier: 0.006691909395158291\n",
      "STEP 22500: loss classifier: 0.0039035503286868334\n",
      "STEP 22600: loss classifier: 0.005770361516624689\n",
      "STEP 22700: loss classifier: 0.005181009881198406\n",
      "STEP 22800: loss classifier: 0.005599325988441706\n",
      "STEP 22900: loss classifier: 0.005007367115467787\n",
      "STEP 23000: loss classifier: 0.0038173117209225893\n",
      "STEP 23100: loss classifier: 0.004175203386694193\n",
      "STEP 23200: loss classifier: 0.0032995499204844236\n",
      "STEP 23300: loss classifier: 0.006531176622956991\n",
      "STEP 23400: loss classifier: 0.0026647939812391996\n",
      "STEP 23500: loss classifier: 0.004684073384851217\n",
      "STEP 23600: loss classifier: 0.0052034491673111916\n",
      "STEP 23700: loss classifier: 0.0038820309564471245\n",
      "STEP 23800: loss classifier: 0.005303988698869944\n",
      "STEP 23900: loss classifier: 0.005913442000746727\n",
      "STEP 24000: loss classifier: 0.004170616623014212\n",
      "STEP 24100: loss classifier: 0.004910001531243324\n",
      "STEP 24200: loss classifier: 0.005289814434945583\n",
      "STEP 24300: loss classifier: 0.004002076108008623\n",
      "STEP 24400: loss classifier: 0.0048272861167788506\n",
      "STEP 24500: loss classifier: 0.003768939757719636\n",
      "STEP 24600: loss classifier: 0.005686006974428892\n",
      "STEP 24700: loss classifier: 0.0036138445138931274\n",
      "STEP 24800: loss classifier: 0.004803616553544998\n",
      "STEP 24900: loss classifier: 0.004019830375909805\n",
      "STEP 25000: loss classifier: 0.005481757689267397\n",
      "STEP 25100: loss classifier: 0.0034742814023047686\n",
      "STEP 25200: loss classifier: 0.004294014070183039\n",
      "STEP 25300: loss classifier: 0.005713063292205334\n",
      "STEP 25400: loss classifier: 0.003961819689720869\n",
      "STEP 25500: loss classifier: 0.005820206832140684\n",
      "STEP 25600: loss classifier: 0.004417858086526394\n",
      "STEP 25700: loss classifier: 0.0045083435252308846\n",
      "STEP 25800: loss classifier: 0.005173299461603165\n",
      "STEP 25900: loss classifier: 0.007341837976127863\n",
      "STEP 26000: loss classifier: 0.006515072658658028\n",
      "STEP 26100: loss classifier: 0.006313210818916559\n",
      "STEP 26200: loss classifier: 0.004093687050044537\n",
      "STEP 26300: loss classifier: 0.004453397821635008\n",
      "STEP 26400: loss classifier: 0.005020456854254007\n",
      "STEP 26500: loss classifier: 0.0029351655393838882\n",
      "STEP 26600: loss classifier: 0.0032718933653086424\n",
      "STEP 26700: loss classifier: 0.003566149389371276\n",
      "STEP 26800: loss classifier: 0.005358760245144367\n",
      "STEP 26900: loss classifier: 0.003494714153930545\n",
      "STEP 27000: loss classifier: 0.005667104385793209\n",
      "STEP 27100: loss classifier: 0.005773637909442186\n",
      "STEP 27200: loss classifier: 0.0034466376528143883\n",
      "STEP 27300: loss classifier: 0.004065452143549919\n",
      "STEP 27400: loss classifier: 0.005535781849175692\n",
      "STEP 27500: loss classifier: 0.0050195734947919846\n",
      "STEP 27600: loss classifier: 0.0038595644291490316\n",
      "STEP 27700: loss classifier: 0.004676543641835451\n",
      "STEP 27800: loss classifier: 0.005052830092608929\n",
      "STEP 27900: loss classifier: 0.005169201642274857\n",
      "STEP 28000: loss classifier: 0.005618671886622906\n",
      "STEP 28100: loss classifier: 0.006025626324117184\n",
      "STEP 28200: loss classifier: 0.0050669326446950436\n",
      "STEP 28300: loss classifier: 0.006466419901698828\n",
      "STEP 28400: loss classifier: 0.004735690541565418\n",
      "STEP 28500: loss classifier: 0.0052511063404381275\n",
      "STEP 28600: loss classifier: 0.0038249753415584564\n",
      "STEP 28700: loss classifier: 0.006495116278529167\n",
      "STEP 28800: loss classifier: 0.005678198300302029\n",
      "STEP 28900: loss classifier: 0.005347545724362135\n",
      "STEP 29000: loss classifier: 0.005053682252764702\n",
      "STEP 29100: loss classifier: 0.00427790405228734\n",
      "STEP 29200: loss classifier: 0.0043044122867286205\n",
      "STEP 29300: loss classifier: 0.004247817676514387\n",
      "STEP 29400: loss classifier: 0.005226552952080965\n",
      "STEP 29500: loss classifier: 0.004059361293911934\n",
      "STEP 29600: loss classifier: 0.0031901467591524124\n",
      "STEP 29700: loss classifier: 0.0038596910890191793\n",
      "STEP 29800: loss classifier: 0.005160023458302021\n",
      "STEP 29900: loss classifier: 0.0039044516161084175\n",
      "\n",
      "Evaluating...\n"
     ]
    },
    {
     "data": {
      "application/vnd.jupyter.widget-view+json": {
       "model_id": "8d8f7ad99aa14a8c8509d3d76ed87a16",
       "version_major": 2,
       "version_minor": 0
      },
      "text/plain": [
       "Eval:   0%|          | 0/1634 [00:00<?, ?it/s]"
      ]
     },
     "metadata": {},
     "output_type": "display_data"
    },
    {
     "name": "stdout",
     "output_type": "stream",
     "text": [
      "loss contrastive :loss1  loss classifier: 0.0051286290399730206\n",
      "loss contrastive :loss1  loss classifier: 0.003897738875821233\n",
      "Evaluate loss 0.004662337076862775\n",
      "STEP 30000: loss classifier: 0.005140595603734255\n",
      "STEP 30100: loss classifier: 0.0047587184235453606\n",
      "STEP 30200: loss classifier: 0.005003014579415321\n",
      "STEP 30300: loss classifier: 0.003529478795826435\n",
      "STEP 30400: loss classifier: 0.003717755666002631\n",
      "STEP 30500: loss classifier: 0.005274747498333454\n",
      "STEP 30600: loss classifier: 0.0057831620797514915\n",
      "STEP 30700: loss classifier: 0.004950101487338543\n",
      "STEP 30800: loss classifier: 0.0038335053250193596\n",
      "STEP 30900: loss classifier: 0.0038451431319117546\n",
      "STEP 31000: loss classifier: 0.005153605714440346\n",
      "STEP 31100: loss classifier: 0.006822861731052399\n",
      "STEP 31200: loss classifier: 0.004872429650276899\n",
      "STEP 31300: loss classifier: 0.004087185952812433\n",
      "STEP 31400: loss classifier: 0.005991858895868063\n",
      "STEP 31500: loss classifier: 0.004975345451384783\n",
      "STEP 31600: loss classifier: 0.005487479735165834\n",
      "STEP 31700: loss classifier: 0.003201665822416544\n",
      "STEP 31800: loss classifier: 0.0044185081496834755\n",
      "STEP 31900: loss classifier: 0.004878288600593805\n",
      "STEP 32000: loss classifier: 0.005917881149798632\n",
      "STEP 32100: loss classifier: 0.003804215230047703\n",
      "STEP 32200: loss classifier: 0.003976164851337671\n",
      "STEP 32300: loss classifier: 0.0050465865060687065\n",
      "STEP 32400: loss classifier: 0.004576367326080799\n",
      "STEP 32500: loss classifier: 0.0038441787473857403\n",
      "STEP 32600: loss classifier: 0.004302906338125467\n",
      "STEP 32700: loss classifier: 0.006487242877483368\n",
      "STEP 32800: loss classifier: 0.004079633858054876\n",
      "STEP 32900: loss classifier: 0.005126351024955511\n",
      "STEP 33000: loss classifier: 0.006483091972768307\n",
      "STEP 33100: loss classifier: 0.004719126503914595\n",
      "STEP 33200: loss classifier: 0.005190897732973099\n",
      "STEP 33300: loss classifier: 0.003881746670231223\n",
      "STEP 33400: loss classifier: 0.0052955262362957\n",
      "STEP 33500: loss classifier: 0.0033951583318412304\n",
      "STEP 33600: loss classifier: 0.0037379772402346134\n",
      "STEP 33700: loss classifier: 0.005341857671737671\n",
      "STEP 33800: loss classifier: 0.005504686385393143\n",
      "STEP 33900: loss classifier: 0.003546756925061345\n",
      "STEP 34000: loss classifier: 0.005359571892768145\n",
      "STEP 34100: loss classifier: 0.005308416206389666\n",
      "STEP 34200: loss classifier: 0.005642709322273731\n",
      "STEP 34300: loss classifier: 0.004647449590265751\n",
      "STEP 34400: loss classifier: 0.0038230102509260178\n",
      "STEP 34500: loss classifier: 0.003993525635451078\n",
      "STEP 34600: loss classifier: 0.0047010635025799274\n",
      "STEP 34700: loss classifier: 0.0041621592827141285\n",
      "STEP 34800: loss classifier: 0.00332854432053864\n",
      "STEP 34900: loss classifier: 0.004707727115601301\n",
      "STEP 35000: loss classifier: 0.006171169690787792\n",
      "STEP 35100: loss classifier: 0.0036570285446941853\n",
      "STEP 35200: loss classifier: 0.004913306795060635\n",
      "STEP 35300: loss classifier: 0.0038171259220689535\n",
      "STEP 35400: loss classifier: 0.003526105545461178\n",
      "STEP 35500: loss classifier: 0.0058119166642427444\n",
      "STEP 35600: loss classifier: 0.005884627345949411\n",
      "STEP 35700: loss classifier: 0.005058834329247475\n",
      "STEP 35800: loss classifier: 0.00487087108194828\n",
      "STEP 35900: loss classifier: 0.0034024491906166077\n",
      "STEP 36000: loss classifier: 0.004243271891027689\n",
      "STEP 36100: loss classifier: 0.006283887661993504\n",
      "STEP 36200: loss classifier: 0.0066113555803895\n",
      "STEP 36300: loss classifier: 0.004290493670850992\n",
      "STEP 36400: loss classifier: 0.007166322786360979\n",
      "STEP 36500: loss classifier: 0.0032176475506275892\n",
      "STEP 36600: loss classifier: 0.004118143115192652\n",
      "STEP 36700: loss classifier: 0.002966440049931407\n",
      "STEP 36800: loss classifier: 0.00500953895971179\n",
      "STEP 36900: loss classifier: 0.004067226778715849\n",
      "STEP 37000: loss classifier: 0.0031520959455519915\n",
      "STEP 37100: loss classifier: 0.004945349879562855\n",
      "STEP 37200: loss classifier: 0.004485675133764744\n",
      "STEP 37300: loss classifier: 0.005772233474999666\n",
      "STEP 37400: loss classifier: 0.005387640092521906\n",
      "STEP 37500: loss classifier: 0.0048598297871649265\n",
      "STEP 37600: loss classifier: 0.00406272429972887\n",
      "STEP 37700: loss classifier: 0.0037462322507053614\n",
      "STEP 37800: loss classifier: 0.004369313828647137\n",
      "STEP 37900: loss classifier: 0.0039619444869458675\n",
      "STEP 38000: loss classifier: 0.004404722712934017\n",
      "STEP 38100: loss classifier: 0.005146901588886976\n",
      "STEP 38200: loss classifier: 0.0041359793394804\n",
      "STEP 38300: loss classifier: 0.004206749610602856\n",
      "STEP 38400: loss classifier: 0.003490335075184703\n",
      "STEP 38500: loss classifier: 0.005287167150527239\n",
      "STEP 38600: loss classifier: 0.0036068109329789877\n",
      "STEP 38700: loss classifier: 0.0033238844480365515\n",
      "STEP 38800: loss classifier: 0.0030940519645810127\n",
      "STEP 38900: loss classifier: 0.004877639468759298\n",
      "STEP 39000: loss classifier: 0.003833677154034376\n",
      "STEP 39100: loss classifier: 0.005546800326555967\n",
      "STEP 39200: loss classifier: 0.003808568697422743\n",
      "STEP 39300: loss classifier: 0.006247335113584995\n",
      "STEP 39400: loss classifier: 0.003956025466322899\n",
      "STEP 39500: loss classifier: 0.004374841693788767\n",
      "STEP 39600: loss classifier: 0.0053808498196303844\n",
      "STEP 39700: loss classifier: 0.003565568011254072\n",
      "STEP 39800: loss classifier: 0.004572767298668623\n"
     ]
    }
   ],
   "source": [
    "train_loss, _ = train()"
   ]
  },
  {
   "cell_type": "code",
   "execution_count": 25,
   "metadata": {},
   "outputs": [
    {
     "data": {
      "application/vnd.jupyter.widget-view+json": {
       "model_id": "e25bcb96e74a4186881ffea25ba5079b",
       "version_major": 2,
       "version_minor": 0
      },
      "text/plain": [
       "Train:   0%|          | 0/62484 [00:00<?, ?it/s]"
      ]
     },
     "metadata": {},
     "output_type": "display_data"
    },
    {
     "name": "stdout",
     "output_type": "stream",
     "text": [
      "STEP 0: loss classifier: 0.698204517364502\n",
      "STEP 100: loss classifier: 0.6855059266090393\n",
      "STEP 200: loss classifier: 0.594409167766571\n",
      "STEP 300: loss classifier: 0.46241897344589233\n",
      "STEP 400: loss classifier: 0.3067774474620819\n",
      "STEP 500: loss classifier: 0.1650008261203766\n",
      "STEP 600: loss classifier: 0.07319805026054382\n",
      "STEP 700: loss classifier: 0.03505728393793106\n",
      "STEP 800: loss classifier: 0.025783732533454895\n",
      "STEP 900: loss classifier: 0.02103722095489502\n",
      "STEP 1000: loss classifier: 0.02005934901535511\n",
      "STEP 1100: loss classifier: 0.01715826615691185\n",
      "STEP 1200: loss classifier: 0.015239284373819828\n",
      "STEP 1300: loss classifier: 0.013688690029084682\n",
      "STEP 1400: loss classifier: 0.014107989147305489\n",
      "STEP 1500: loss classifier: 0.01434738002717495\n",
      "STEP 1600: loss classifier: 0.013854528777301311\n",
      "STEP 1700: loss classifier: 0.011854343116283417\n",
      "STEP 1800: loss classifier: 0.012707356363534927\n",
      "STEP 1900: loss classifier: 0.014921237714588642\n",
      "STEP 2000: loss classifier: 0.012868174351751804\n",
      "STEP 2100: loss classifier: 0.009907693602144718\n",
      "STEP 2200: loss classifier: 0.00863589532673359\n",
      "STEP 2300: loss classifier: 0.0104157580062747\n",
      "STEP 2400: loss classifier: 0.011718387715518475\n",
      "STEP 2500: loss classifier: 0.009547681547701359\n",
      "STEP 2600: loss classifier: 0.009946126490831375\n",
      "STEP 2700: loss classifier: 0.009613019414246082\n",
      "STEP 2800: loss classifier: 0.00786697119474411\n",
      "STEP 2900: loss classifier: 0.007780824322253466\n",
      "STEP 3000: loss classifier: 0.007612088229507208\n",
      "STEP 3100: loss classifier: 0.00534756388515234\n",
      "STEP 3200: loss classifier: 0.00828883983194828\n",
      "STEP 3300: loss classifier: 0.00895617250353098\n",
      "STEP 3400: loss classifier: 0.007896911352872849\n",
      "STEP 3500: loss classifier: 0.006263919174671173\n",
      "STEP 3600: loss classifier: 0.0071296123787760735\n",
      "STEP 3700: loss classifier: 0.005151770077645779\n",
      "STEP 3800: loss classifier: 0.0073849777691066265\n",
      "STEP 3900: loss classifier: 0.006696608383208513\n",
      "STEP 4000: loss classifier: 0.006369698327034712\n",
      "STEP 4100: loss classifier: 0.0054801348596811295\n",
      "STEP 4200: loss classifier: 0.00972902774810791\n",
      "STEP 4300: loss classifier: 0.008005121722817421\n",
      "STEP 4400: loss classifier: 0.00800585001707077\n",
      "STEP 4500: loss classifier: 0.008691396564245224\n",
      "STEP 4600: loss classifier: 0.006283788476139307\n",
      "STEP 4700: loss classifier: 0.006007783114910126\n",
      "STEP 4800: loss classifier: 0.007847919128835201\n",
      "STEP 4900: loss classifier: 0.008123530074954033\n",
      "STEP 5000: loss classifier: 0.006280933506786823\n",
      "STEP 5100: loss classifier: 0.0063791130669415\n",
      "STEP 5200: loss classifier: 0.00670361053198576\n",
      "STEP 5300: loss classifier: 0.005408150609582663\n"
     ]
    },
    {
     "ename": "KeyboardInterrupt",
     "evalue": "",
     "output_type": "error",
     "traceback": [
      "\u001b[0;31m---------------------------------------------------------------------------\u001b[0m",
      "\u001b[0;31mKeyboardInterrupt\u001b[0m                         Traceback (most recent call last)",
      "\u001b[0;32m/tmp/ipykernel_320/4225496060.py\u001b[0m in \u001b[0;36m<module>\u001b[0;34m\u001b[0m\n\u001b[1;32m      1\u001b[0m \u001b[0mlosses\u001b[0m \u001b[0;34m=\u001b[0m \u001b[0;34m[\u001b[0m\u001b[0;34m]\u001b[0m\u001b[0;34m\u001b[0m\u001b[0;34m\u001b[0m\u001b[0m\n\u001b[0;32m----> 2\u001b[0;31m \u001b[0mtrain_loss\u001b[0m\u001b[0;34m,\u001b[0m \u001b[0m_\u001b[0m \u001b[0;34m=\u001b[0m \u001b[0mtrain\u001b[0m\u001b[0;34m(\u001b[0m\u001b[0;34m)\u001b[0m\u001b[0;34m\u001b[0m\u001b[0;34m\u001b[0m\u001b[0m\n\u001b[0m",
      "\u001b[0;32m/tmp/ipykernel_320/2670906992.py\u001b[0m in \u001b[0;36mtrain\u001b[0;34m()\u001b[0m\n\u001b[1;32m     43\u001b[0m                 \u001b[0mprint\u001b[0m\u001b[0;34m(\u001b[0m\u001b[0;34mf\"STEP {step}: loss classifier: {loss}\"\u001b[0m\u001b[0;34m)\u001b[0m\u001b[0;34m\u001b[0m\u001b[0;34m\u001b[0m\u001b[0m\n\u001b[1;32m     44\u001b[0m         \u001b[0;31m# add on to the total loss\u001b[0m\u001b[0;34m\u001b[0m\u001b[0;34m\u001b[0m\u001b[0;34m\u001b[0m\u001b[0m\n\u001b[0;32m---> 45\u001b[0;31m         \u001b[0mlosses\u001b[0m\u001b[0;34m.\u001b[0m\u001b[0mappend\u001b[0m\u001b[0;34m(\u001b[0m\u001b[0mloss\u001b[0m\u001b[0;34m.\u001b[0m\u001b[0mitem\u001b[0m\u001b[0;34m(\u001b[0m\u001b[0;34m)\u001b[0m\u001b[0;34m)\u001b[0m\u001b[0;34m\u001b[0m\u001b[0;34m\u001b[0m\u001b[0m\n\u001b[0m\u001b[1;32m     46\u001b[0m         \u001b[0mtotal_loss\u001b[0m \u001b[0;34m=\u001b[0m \u001b[0mtotal_loss\u001b[0m \u001b[0;34m+\u001b[0m \u001b[0mloss\u001b[0m\u001b[0;34m.\u001b[0m\u001b[0mitem\u001b[0m\u001b[0;34m(\u001b[0m\u001b[0;34m)\u001b[0m\u001b[0;34m\u001b[0m\u001b[0;34m\u001b[0m\u001b[0m\n\u001b[1;32m     47\u001b[0m         \u001b[0mscaler\u001b[0m\u001b[0;34m.\u001b[0m\u001b[0mscale\u001b[0m\u001b[0;34m(\u001b[0m\u001b[0mloss\u001b[0m\u001b[0;34m)\u001b[0m\u001b[0;34m.\u001b[0m\u001b[0mbackward\u001b[0m\u001b[0;34m(\u001b[0m\u001b[0;34m)\u001b[0m\u001b[0;34m\u001b[0m\u001b[0;34m\u001b[0m\u001b[0m\n",
      "\u001b[0;31mKeyboardInterrupt\u001b[0m: "
     ]
    }
   ],
   "source": [
    "losses = []\n",
    "train_loss, _ = train()\n"
   ]
  },
  {
   "cell_type": "code",
   "execution_count": 2,
   "metadata": {},
   "outputs": [],
   "source": [
    "import matplotlib.pyplot as plt\n"
   ]
  },
  {
   "cell_type": "code",
   "execution_count": 27,
   "metadata": {},
   "outputs": [],
   "source": [
    "losses_with_tags = losses"
   ]
  },
  {
   "cell_type": "code",
   "execution_count": 3,
   "metadata": {},
   "outputs": [],
   "source": [
    "losses_without_tags = pd.read_csv(\"losses_without_tags 1e-4.csv\",header=0,index_col=0)"
   ]
  },
  {
   "cell_type": "code",
   "execution_count": 4,
   "metadata": {},
   "outputs": [],
   "source": [
    "losses_without_tags = losses_without_tags.T.to_dict()[0].values()"
   ]
  },
  {
   "cell_type": "code",
   "execution_count": 5,
   "metadata": {},
   "outputs": [],
   "source": [
    "losses_without_tags = list(losses_without_tags)"
   ]
  },
  {
   "cell_type": "code",
   "execution_count": 25,
   "metadata": {},
   "outputs": [],
   "source": [
    "k=26"
   ]
  },
  {
   "cell_type": "code",
   "execution_count": 7,
   "metadata": {},
   "outputs": [],
   "source": [
    "with open(\"losses_Tags_1e-4.txt\",'r') as fr:\n",
    "    data=fr.readlines()"
   ]
  },
  {
   "cell_type": "code",
   "execution_count": 20,
   "metadata": {},
   "outputs": [],
   "source": [
    "losses_with_tags = [float(data[i].split()[-1]) for i in range(50)]"
   ]
  },
  {
   "cell_type": "code",
   "execution_count": 6,
   "metadata": {},
   "outputs": [],
   "source": [
    "l2 = [x for i,x in enumerate(losses_without_tags) if i%100==0][:50]"
   ]
  },
  {
   "cell_type": "code",
   "execution_count": 16,
   "metadata": {},
   "outputs": [],
   "source": [
    "l1 =[x for i,x in enumerate(losses_with_tags) if i%100==0][:50]"
   ]
  },
  {
   "cell_type": "code",
   "execution_count": 21,
   "metadata": {},
   "outputs": [],
   "source": [
    "l1 = losses_with_tags"
   ]
  },
  {
   "cell_type": "code",
   "execution_count": 55,
   "metadata": {},
   "outputs": [
    {
     "data": {
      "image/png": "[encoded data removed]",
      "text/plain": [
       "<Figure size 432x288 with 1 Axes>"
      ]
     },
     "metadata": {
      "needs_background": "light"
     },
     "output_type": "display_data"
    }
   ],
   "source": [
    "import matplotlib.pyplot as plt\n",
    "plt.plot(range(k),l3[:k])\n",
    "plt.plot(range(k),l4[:k])\n",
    "plt.plot(range(k),l2[:k])\n",
    "plt.plot(range(k),l1[:k])\n",
    "plt.show()"
   ]
  },
  {
   "cell_type": "code",
   "execution_count": 30,
   "metadata": {},
   "outputs": [],
   "source": [
    "losses_without_tags_1 = pd.read_csv(\"losses lr 5e-5.csv\",index_col=0)"
   ]
  },
  {
   "cell_type": "code",
   "execution_count": 41,
   "metadata": {},
   "outputs": [],
   "source": [
    "l3 = list(losses_without_tags_1.to_dict()['0'].values())"
   ]
  },
  {
   "cell_type": "code",
   "execution_count": 42,
   "metadata": {},
   "outputs": [],
   "source": [
    "losses_with_tags_1 = pd.read_csv(\"losses_Tags 5e-5.csv\",index_col=0)"
   ]
  },
  {
   "cell_type": "code",
   "execution_count": 44,
   "metadata": {},
   "outputs": [],
   "source": [
    "l4 = list(losses_with_tags_1.to_dict()['0'].values())"
   ]
  },
  {
   "cell_type": "code",
   "execution_count": 91,
   "metadata": {},
   "outputs": [
    {
     "data": {
      "image/png": "[encoded data removed]",
      "text/plain": [
       "<Figure size 3600x1200 with 2 Axes>"
      ]
     },
     "metadata": {
      "needs_background": "light"
     },
     "output_type": "display_data"
    }
   ],
   "source": [
    "import matplotlib.pyplot as plt\n",
    "\n",
    "fig = plt.figure(figsize=(12,4),dpi=300)\n",
    "plt.subplot(121)\n",
    "plt.plot(range(k),l2[:k],linestyle='-.',label='CoPatE_without_Tags',marker='<')\n",
    "plt.plot(range(k),l1[:k],linestyle='-.',label='CoPatE',marker='>')\n",
    "plt.title(\"(a) lr = 1e-4\",x=0.5,y=-0.25, fontdict={\"family\": \"Times New Roman\", \"size\": 12})\n",
    "plt.xlabel('Training steps', fontdict={\"family\": \"Times New Roman\", \"size\": 12})\n",
    "plt.ylabel('Loss', fontdict={\"family\": \"Times New Roman\", \"size\": 12})\n",
    "\n",
    "plt.legend()\n",
    "plt.subplot(122)\n",
    "plt.plot(range(k),l3[:k],linestyle='-.',label='CoPatE_without_Tags',marker='<')\n",
    "plt.plot(range(k),l4[:k],linestyle='-.',label='CoPatE',marker='>')\n",
    "plt.title(\"(b) lr = 5e-5\",x=0.5,y=-0.25, fontdict={\"family\": \"Times New Roman\", \"size\": 12})\n",
    "plt.xlabel('Training steps', fontdict={\"family\": \"Times New Roman\", \"size\": 12})\n",
    "plt.ylabel('Loss', fontdict={\"family\": \"Times New Roman\", \"size\": 12})\n",
    "plt.legend()\n",
    "fig.savefig(\"losses decending.pdf\",bbox_inches='tight')\n",
    "plt.show()"
   ]
  },
  {
   "cell_type": "code",
   "execution_count": null,
   "metadata": {},
   "outputs": [],
   "source": [
    "torch.save(classifier.state_dict(), f\"./model/CoPatE_classifier_lr_5e-5_{now}.pt\")"
   ]
  },
  {
   "cell_type": "markdown",
   "metadata": {},
   "source": [
    "## Training"
   ]
  },
  {
   "cell_type": "code",
   "execution_count": 26,
   "metadata": {},
   "outputs": [
    {
     "data": {
      "text/plain": [
       "<All keys matched successfully>"
      ]
     },
     "execution_count": 26,
     "metadata": {},
     "output_type": "execute_result"
    }
   ],
   "source": [
    "model.load_state_dict(torch.load(\"./model/CoPatE_final.pt\"))\n",
    "classifier.load_state_dict(torch.load(\"./model/CoPatE_classifier_final.pt\"))\n",
    "    "
   ]
  },
  {
   "cell_type": "code",
   "execution_count": 33,
   "metadata": {},
   "outputs": [
    {
     "name": "stderr",
     "output_type": "stream",
     "text": [
      "/root/miniconda3/lib/python3.8/site-packages/sklearn/metrics/_classification.py:1318: UndefinedMetricWarning: Precision is ill-defined and being set to 0.0 in labels with no predicted samples. Use `zero_division` parameter to control this behavior.\n",
      "  _warn_prf(average, modifier, msg_start, len(result))\n",
      "/root/miniconda3/lib/python3.8/site-packages/sklearn/metrics/_classification.py:1318: UndefinedMetricWarning: Recall is ill-defined and being set to 0.0 in labels with no true samples. Use `zero_division` parameter to control this behavior.\n",
      "  _warn_prf(average, modifier, msg_start, len(result))\n",
      "/root/miniconda3/lib/python3.8/site-packages/sklearn/metrics/_classification.py:1580: UndefinedMetricWarning: F-score is ill-defined and being set to 0.0 in labels with no true nor predicted samples. Use `zero_division` parameter to control this behavior.\n",
      "  _warn_prf(average, \"true nor predicted\", \"F-score is\", len(true_sum))\n"
     ]
    }
   ],
   "source": [
    "import numpy as np\n",
    "import pandas as pd\n",
    "from sklearn.metrics import (accuracy_score, precision_score, recall_score, f1_score, roc_auc_score)\n",
    "\n",
    "\n",
    "true = np.array(total_labels)\n",
    "pred = np.array(total_preds>0.5)\n",
    "\n",
    "dic = {\n",
    "    \"Accuracy\" : accuracy_score(true,pred),\n",
    "    \"Precision-micro\" : precision_score(true,pred,average='micro'),\n",
    "    \"Precision-macro\" : precision_score(true,pred,average='macro'),\n",
    "    \"recall-micro\" : recall_score(true,pred,average='micro'),\n",
    "    \"recall-macro\" : recall_score(true,pred,average='macro'),\n",
    "    \"f1_micro\" : f1_score(true,pred,average='micro'),\n",
    "    \"f1-macro\" : f1_score(true,pred,average='macro')\n",
    "}"
   ]
  },
  {
   "cell_type": "code",
   "execution_count": 46,
   "metadata": {},
   "outputs": [
    {
     "data": {
      "text/plain": [
       "{'Accuracy': 0.4128605769230769,\n",
       " 'Precision-micro': 0.8163063211751114,\n",
       " 'Precision-macro': 0.4383201502545192,\n",
       " 'recall-micro': 0.5383108402263822,\n",
       " 'recall-macro': 0.2781757794217007,\n",
       " 'f1_micro': 0.6487833672197809,\n",
       " 'f1-macro': 0.32267381847952}"
      ]
     },
     "execution_count": 46,
     "metadata": {},
     "output_type": "execute_result"
    }
   ],
   "source": [
    "# CoPatE lr 5e-5\n",
    "# k = 5 \n",
    "dic"
   ]
  },
  {
   "cell_type": "code",
   "execution_count": 35,
   "metadata": {},
   "outputs": [
    {
     "data": {
      "text/plain": [
       "{'Accuracy': 0.41185897435897434,\n",
       " 'Precision-micro': 0.8182578164186591,\n",
       " 'Precision-macro': 0.43324047869837756,\n",
       " 'recall-micro': 0.5326512842838484,\n",
       " 'recall-macro': 0.276700314323264,\n",
       " 'f1_micro': 0.6452633660755488,\n",
       " 'f1-macro': 0.32074197267429944}"
      ]
     },
     "execution_count": 35,
     "metadata": {},
     "output_type": "execute_result"
    }
   ],
   "source": [
    "# CoPatE lr 5e-5\n",
    "# k = 3 \n",
    "dic"
   ]
  },
  {
   "cell_type": "code",
   "execution_count": 42,
   "metadata": {},
   "outputs": [
    {
     "data": {
      "text/plain": [
       "{'Accuracy': 0.3870192307692308,\n",
       " 'Precision-micro': 0.8152213026268442,\n",
       " 'Precision-macro': 0.42394439589242405,\n",
       " 'recall-micro': 0.4931432303003918,\n",
       " 'recall-macro': 0.25397483904525403,\n",
       " 'f1_micro': 0.6145395361453954,\n",
       " 'f1-macro': 0.3008877394184272}"
      ]
     },
     "execution_count": 42,
     "metadata": {},
     "output_type": "execute_result"
    }
   ],
   "source": [
    "# CoPatE lr 5e-5\n",
    "# k =1 \n",
    "dic"
   ]
  },
  {
   "cell_type": "code",
   "execution_count": 30,
   "metadata": {},
   "outputs": [
    {
     "data": {
      "text/plain": [
       "{'Accuracy': 0.40224358974358976,\n",
       " 'Precision-micro': 0.8105420188960716,\n",
       " 'Precision-macro': 0.42904585301665904,\n",
       " 'recall-micro': 0.5322159338267305,\n",
       " 'recall-macro': 0.27312973463919726,\n",
       " 'f1_micro': 0.6425333420931607,\n",
       " 'f1-macro': 0.3175687870825584}"
      ]
     },
     "execution_count": 30,
     "metadata": {},
     "output_type": "execute_result"
    }
   ],
   "source": [
    "# CoPatE lr 5e-5\n",
    "# first 512\n",
    "dic"
   ]
  },
  {
   "cell_type": "code",
   "execution_count": 34,
   "metadata": {},
   "outputs": [
    {
     "data": {
      "text/plain": [
       "{'Accuracy': 0.40184294871794873,\n",
       " 'Precision-micro': 0.8077496274217586,\n",
       " 'Precision-macro': 0.42080530628782864,\n",
       " 'recall-micro': 0.5309098824553766,\n",
       " 'recall-macro': 0.267595798359459,\n",
       " 'f1_micro': 0.6407040126091811,\n",
       " 'f1-macro': 0.3121689450876504}"
      ]
     },
     "execution_count": 34,
     "metadata": {},
     "output_type": "execute_result"
    }
   ],
   "source": [
    "# CoPatE lr 5e-5\n",
    "# random\n",
    "dic"
   ]
  },
  {
   "cell_type": "code",
   "execution_count": 27,
   "metadata": {},
   "outputs": [],
   "source": [
    "test_df = pd.read_feather(\"Test.feather\")"
   ]
  },
  {
   "cell_type": "code",
   "execution_count": 32,
   "metadata": {},
   "outputs": [
    {
     "name": "stdout",
     "output_type": "stream",
     "text": [
      "\n",
      "Evaluating...\n"
     ]
    },
    {
     "data": {
      "application/vnd.jupyter.widget-view+json": {
       "model_id": "4eebce5eed7c460f963b7e96c93d72ef",
       "version_major": 2,
       "version_minor": 0
      },
      "text/plain": [
       "Eval:   0%|          | 0/156 [00:00<?, ?it/s]"
      ]
     },
     "metadata": {},
     "output_type": "display_data"
    },
    {
     "name": "stdout",
     "output_type": "stream",
     "text": [
      "loss contrastive :loss1  loss classifier: 0.005369642749428749\n",
      "Evaluate loss 0.005041858215684978\n"
     ]
    }
   ],
   "source": [
    "test_dataset = PatentDataset(\n",
    "  test_df,\n",
    "  tokenizer,\n",
    "  max_token_len=MAX_TOKEN_COUNT,\n",
    "  test = True\n",
    ")\n",
    "test_dataloader = DataLoader(test_dataset, batch_size=32, shuffle=False,drop_last=True)\n",
    "\n",
    "avg_loss, total_preds, total_labels = evaluate(test_dataloader)"
   ]
  },
  {
   "cell_type": "code",
   "execution_count": 43,
   "metadata": {},
   "outputs": [],
   "source": [
    "class PatentDataset(Dataset):\n",
    "    \"\"\"\n",
    "    Pass pandas dataframe, and tokeizer along with the max token length[128 default]\n",
    "    \n",
    "    Example: \n",
    "    -------\n",
    "    train_dataset = ToxicCommentsDataset(\n",
    "      train_df,\n",
    "      tokenizer,\n",
    "      max_token_len=MAX_TOKEN_COUNT\n",
    "    )\n",
    "\n",
    "    sample_item = train_dataset[0]\n",
    "    \n",
    "    \"\"\"\n",
    "    \n",
    "    \n",
    "    def __init__(\n",
    "        self,\n",
    "        data: pd.DataFrame,\n",
    "        tokenizer: BertTokenizer,\n",
    "        max_token_len: int = 512,\n",
    "        test= False\n",
    "    ):\n",
    "        self.data = data\n",
    "        self.tokenizer = tokenizer\n",
    "        self.max_token_len = max_token_len\n",
    "        self.valid = test\n",
    "        \n",
    "    \n",
    "    def __len__(self):\n",
    "        return len(self.data)\n",
    "    \n",
    "    \n",
    "    def __getitem__(self, index: int):\n",
    "        data_row = self.data.iloc[index]\n",
    "\n",
    "        if not self.valid:\n",
    "            comment_text = data_row['major claim 5']\n",
    "            label_3 = data_row[LABEL_COLUMNS_3]\n",
    "            label_2 = data_row[LABEL_COLUMNS_2]\n",
    "            label_1 = data_row[LABEL_COLUMNS_1]\n",
    "            \n",
    "        else:\n",
    "            comment_text = data_row['major claim 5']\n",
    "            label_3 = data_row[LABEL_COLUMNS_3]\n",
    "        \n",
    "        encoding = self.tokenizer.encode_plus(\n",
    "            comment_text,\n",
    "            max_length=self.max_token_len,\n",
    "            padding=\"max_length\",\n",
    "            truncation=True,\n",
    "            add_special_tokens=True, # [CLS] & [SEP]\n",
    "            return_token_type_ids=False,\n",
    "            return_attention_mask=True, #attention_mask\n",
    "            return_tensors='pt',\n",
    "        )\n",
    "        \n",
    "        if not self.valid:\n",
    "            return dict(\n",
    "            comment_text=comment_text,\n",
    "            input_ids = encoding[\"input_ids\"].flatten(),\n",
    "            attention_mask=encoding[\"attention_mask\"].flatten(),\n",
    "            label_1=torch.FloatTensor(label_1),\n",
    "            label_2=torch.FloatTensor(label_2),\n",
    "            label_3=torch.FloatTensor(label_3),\n",
    "                \n",
    "        )\n",
    "        else:\n",
    "            return dict(\n",
    "                comment_text=comment_text,\n",
    "                input_ids = encoding[\"input_ids\"].flatten(),\n",
    "                attention_mask=encoding[\"attention_mask\"].flatten(),\n",
    "                label_3=torch.FloatTensor(label_3)\n",
    "            )\n",
    "        "
   ]
  },
  {
   "cell_type": "code",
   "execution_count": 46,
   "metadata": {},
   "outputs": [],
   "source": [
    "class PatentDataset(Dataset):\n",
    "    \"\"\"\n",
    "    Pass pandas dataframe, and tokeizer along with the max token length[128 default]\n",
    "    \n",
    "    Example: \n",
    "    -------\n",
    "    train_dataset = ToxicCommentsDataset(\n",
    "      train_df,\n",
    "      tokenizer,\n",
    "      max_token_len=MAX_TOKEN_COUNT\n",
    "    )\n",
    "\n",
    "    sample_item = train_dataset[0]\n",
    "    \n",
    "    \"\"\"\n",
    "    \n",
    "    \n",
    "    def __init__(\n",
    "        self,\n",
    "        data: pd.DataFrame,\n",
    "        tokenizer: BertTokenizer,\n",
    "        max_token_len: int = 512\n",
    "    ):\n",
    "        self.data = data\n",
    "        self.tokenizer = tokenizer\n",
    "        self.max_token_len = max_token_len\n",
    "        \n",
    "    \n",
    "    def __len__(self):\n",
    "        return len(self.data)\n",
    "    \n",
    "    \n",
    "    def __getitem__(self, index: int):\n",
    "        data_row = self.data.iloc[index]\n",
    "        \n",
    "        \n",
    "        comment_text = data_row['major claim 5']\n",
    "#         comment_text = \"\".join(data_row['claim'])\n",
    "        \n",
    "#         index_claims = range(len(data_row.claims))\n",
    "#         index_claims = random.sample(index_claims,k=len(data_row.claims))\n",
    "#         claims = [data_row.claims[i] for i in index_claims]\n",
    "#         comment_text = \"\".join(claims)\n",
    "        \n",
    "        query = data_row.publication_title.lower()\n",
    "        \n",
    "        encoding = self.tokenizer.batch_encode_plus(\n",
    "            [query, comment_text],\n",
    "            max_length=self.max_token_len,\n",
    "            padding=\"max_length\",\n",
    "            truncation=True,\n",
    "            add_special_tokens=True,\n",
    "            return_tensors='pt',\n",
    "        )\n",
    "        \n",
    "        return dict(\n",
    "            index = index,\n",
    "            comment_text=comment_text,\n",
    "            query = query,\n",
    "            input_ids = encoding[\"input_ids\"],\n",
    "            attention_mask=encoding[\"attention_mask\"]\n",
    "        )\n"
   ]
  },
  {
   "cell_type": "code",
   "execution_count": 47,
   "metadata": {},
   "outputs": [],
   "source": [
    "test_dataset = PatentDataset(\n",
    "  test_df,\n",
    "  tokenizer,\n",
    "  max_token_len=512\n",
    ")\n",
    "test_dataloader = DataLoader(test_dataset, batch_size=32, shuffle=False,drop_last=True)"
   ]
  },
  {
   "cell_type": "code",
   "execution_count": 48,
   "metadata": {},
   "outputs": [
    {
     "data": {
      "application/vnd.jupyter.widget-view+json": {
       "model_id": "f84ef46e25804055bb01ec761ac1a46d",
       "version_major": 2,
       "version_minor": 0
      },
      "text/plain": [
       "  0%|          | 0/156 [00:00<?, ?it/s]"
      ]
     },
     "metadata": {},
     "output_type": "display_data"
    }
   ],
   "source": [
    "query_patent = {}\n",
    "for step,batch in tqdm(enumerate(test_dataloader),total = len(test_dataloader)):\n",
    "    input_ids = batch['input_ids'].transpose(0,1).to(device)\n",
    "    attention_mask = batch['attention_mask'].transpose(0,1).to(device)\n",
    "    with autocast():\n",
    "        with torch.no_grad():\n",
    "            query_cls_embedding = model.bert(input_ids[0],attention_mask[0]).last_hidden_state[:,0]\n",
    "            patent_cls_embedding = model.bert(input_ids[1],attention_mask[1]).last_hidden_state[:,0]\n",
    "    index = batch['index']\n",
    "    for i,patent in enumerate(index):\n",
    "        q = query_cls_embedding[i].detach().float().cpu()\n",
    "        v = patent_cls_embedding[i].detach().float().cpu()\n",
    "        query_patent[int(patent)] = (q,v)"
   ]
  },
  {
   "cell_type": "code",
   "execution_count": 49,
   "metadata": {},
   "outputs": [],
   "source": [
    "query_list = [v[0] for v in query_patent.values()]\n",
    "patent_list = [v[1] for v in query_patent.values()]\n",
    "\n",
    "query_matrix = torch.vstack(query_list)\n",
    "patent_matrix = torch.vstack(patent_list)"
   ]
  },
  {
   "cell_type": "code",
   "execution_count": 50,
   "metadata": {},
   "outputs": [
    {
     "data": {
      "application/vnd.jupyter.widget-view+json": {
       "model_id": "12cf0e34ef3741e6845b3bf77a69a26a",
       "version_major": 2,
       "version_minor": 0
      },
      "text/plain": [
       "  0%|          | 0/4992 [00:00<?, ?it/s]"
      ]
     },
     "metadata": {},
     "output_type": "display_data"
    },
    {
     "name": "stdout",
     "output_type": "stream",
     "text": [
      "Top@100 precision: 0.238\n",
      "Top@100 recall: 0.488\n",
      "Top@200 precision: 0.196\n",
      "Top@200 recall: 0.598\n",
      "Top@500 precision: 0.131\n",
      "Top@500 recall: 0.753\n"
     ]
    }
   ],
   "source": [
    "# k = 5\n",
    "\n",
    "K0 = 100\n",
    "K1 = 200\n",
    "K2 = 500\n",
    "\n",
    "precision_0 = []\n",
    "recall_0 = []\n",
    "\n",
    "precision_1 = []\n",
    "recall_1 = []\n",
    "\n",
    "precision_2 = []\n",
    "recall_2 = []\n",
    "\n",
    "# for i in tqdm(range(len(query_matrix))):\n",
    "for i in tqdm(range(len(query_matrix))):    \n",
    "    relv_patents = test_df['relv_patents'][i]\n",
    "    similarities = F.cosine_similarity(query_matrix[i].expand_as(patent_matrix),patent_matrix)\n",
    "    \n",
    "    _,indices_0 = torch.topk(similarities,k=K0)\n",
    "    indices_0 = indices_0.numpy()\n",
    "    retrievaled = len(np.intersect1d(indices_0,relv_patents))\n",
    "\n",
    "    precision_0.append(retrievaled/K0)\n",
    "    recall_0.append(retrievaled/len(relv_patents))\n",
    "    \n",
    "    _,indices_1 = torch.topk(similarities,k=K1)\n",
    "    indices_1 = indices_1.numpy()\n",
    "    retrievaled = len(np.intersect1d(indices_1,relv_patents))\n",
    "    precision_1.append(retrievaled/K1)\n",
    "    recall_1.append(retrievaled/len(relv_patents))\n",
    "    \n",
    "    _,indices_2 = torch.topk(similarities,k=K2)\n",
    "    indices_2 = indices_2.numpy()\n",
    "    retrievaled = len(np.intersect1d(indices_2,relv_patents))\n",
    "    precision_2.append(retrievaled/K2)\n",
    "    recall_2.append(retrievaled/len(relv_patents))\n",
    "\n",
    "print(f\"Top@{K0} precision: {np.mean(precision_0):.3f}\")\n",
    "print(f\"Top@{K0} recall: {np.mean(recall_0):.3f}\")\n",
    "print(f\"Top@{K1} precision: {np.mean(precision_1):.3f}\")\n",
    "print(f\"Top@{K1} recall: {np.mean(recall_1):.3f}\")\n",
    "print(f\"Top@{K2} precision: {np.mean(precision_2):.3f}\")\n",
    "print(f\"Top@{K2} recall: {np.mean(recall_2):.3f}\")"
   ]
  },
  {
   "cell_type": "code",
   "execution_count": 40,
   "metadata": {},
   "outputs": [
    {
     "data": {
      "application/vnd.jupyter.widget-view+json": {
       "model_id": "156f132ea11d40b9af134a705b41149f",
       "version_major": 2,
       "version_minor": 0
      },
      "text/plain": [
       "  0%|          | 0/4992 [00:00<?, ?it/s]"
      ]
     },
     "metadata": {},
     "output_type": "display_data"
    },
    {
     "name": "stdout",
     "output_type": "stream",
     "text": [
      "Top@100 precision: 0.237\n",
      "Top@100 recall: 0.484\n",
      "Top@200 precision: 0.196\n",
      "Top@200 recall: 0.595\n",
      "Top@500 precision: 0.131\n",
      "Top@500 recall: 0.752\n"
     ]
    }
   ],
   "source": [
    "# first \n",
    "\n",
    "K0 = 100\n",
    "K1 = 200\n",
    "K2 = 500\n",
    "\n",
    "precision_0 = []\n",
    "recall_0 = []\n",
    "\n",
    "precision_1 = []\n",
    "recall_1 = []\n",
    "\n",
    "precision_2 = []\n",
    "recall_2 = []\n",
    "\n",
    "# for i in tqdm(range(len(query_matrix))):\n",
    "for i in tqdm(range(len(query_matrix))):    \n",
    "    relv_patents = test_df['relv_patents'][i]\n",
    "    similarities = F.cosine_similarity(query_matrix[i].expand_as(patent_matrix),patent_matrix)\n",
    "    \n",
    "    _,indices_0 = torch.topk(similarities,k=K0)\n",
    "    indices_0 = indices_0.numpy()\n",
    "    retrievaled = len(np.intersect1d(indices_0,relv_patents))\n",
    "\n",
    "    precision_0.append(retrievaled/K0)\n",
    "    recall_0.append(retrievaled/len(relv_patents))\n",
    "    \n",
    "    _,indices_1 = torch.topk(similarities,k=K1)\n",
    "    indices_1 = indices_1.numpy()\n",
    "    retrievaled = len(np.intersect1d(indices_1,relv_patents))\n",
    "    precision_1.append(retrievaled/K1)\n",
    "    recall_1.append(retrievaled/len(relv_patents))\n",
    "    \n",
    "    _,indices_2 = torch.topk(similarities,k=K2)\n",
    "    indices_2 = indices_2.numpy()\n",
    "    retrievaled = len(np.intersect1d(indices_2,relv_patents))\n",
    "    precision_2.append(retrievaled/K2)\n",
    "    recall_2.append(retrievaled/len(relv_patents))\n",
    "\n",
    "print(f\"Top@{K0} precision: {np.mean(precision_0):.3f}\")\n",
    "print(f\"Top@{K0} recall: {np.mean(recall_0):.3f}\")\n",
    "print(f\"Top@{K1} precision: {np.mean(precision_1):.3f}\")\n",
    "print(f\"Top@{K1} recall: {np.mean(recall_1):.3f}\")\n",
    "print(f\"Top@{K2} precision: {np.mean(precision_2):.3f}\")\n",
    "print(f\"Top@{K2} recall: {np.mean(recall_2):.3f}\")"
   ]
  },
  {
   "cell_type": "code",
   "execution_count": 45,
   "metadata": {},
   "outputs": [
    {
     "data": {
      "application/vnd.jupyter.widget-view+json": {
       "model_id": "1dac81175e2d469da496a065f8b8bf0c",
       "version_major": 2,
       "version_minor": 0
      },
      "text/plain": [
       "  0%|          | 0/4992 [00:00<?, ?it/s]"
      ]
     },
     "metadata": {},
     "output_type": "display_data"
    },
    {
     "name": "stdout",
     "output_type": "stream",
     "text": [
      "Top@100 precision: 0.236\n",
      "Top@100 recall: 0.479\n",
      "Top@200 precision: 0.194\n",
      "Top@200 recall: 0.591\n",
      "Top@500 precision: 0.130\n",
      "Top@500 recall: 0.749\n"
     ]
    }
   ],
   "source": [
    "# random \n",
    "\n",
    "K0 = 100\n",
    "K1 = 200\n",
    "K2 = 500\n",
    "\n",
    "precision_0 = []\n",
    "recall_0 = []\n",
    "\n",
    "precision_1 = []\n",
    "recall_1 = []\n",
    "\n",
    "precision_2 = []\n",
    "recall_2 = []\n",
    "\n",
    "# for i in tqdm(range(len(query_matrix))):\n",
    "for i in tqdm(range(len(query_matrix))):    \n",
    "    relv_patents = test_df['relv_patents'][i]\n",
    "    similarities = F.cosine_similarity(query_matrix[i].expand_as(patent_matrix),patent_matrix)\n",
    "    \n",
    "    _,indices_0 = torch.topk(similarities,k=K0)\n",
    "    indices_0 = indices_0.numpy()\n",
    "    retrievaled = len(np.intersect1d(indices_0,relv_patents))\n",
    "\n",
    "    precision_0.append(retrievaled/K0)\n",
    "    recall_0.append(retrievaled/len(relv_patents))\n",
    "    \n",
    "    _,indices_1 = torch.topk(similarities,k=K1)\n",
    "    indices_1 = indices_1.numpy()\n",
    "    retrievaled = len(np.intersect1d(indices_1,relv_patents))\n",
    "    precision_1.append(retrievaled/K1)\n",
    "    recall_1.append(retrievaled/len(relv_patents))\n",
    "    \n",
    "    _,indices_2 = torch.topk(similarities,k=K2)\n",
    "    indices_2 = indices_2.numpy()\n",
    "    retrievaled = len(np.intersect1d(indices_2,relv_patents))\n",
    "    precision_2.append(retrievaled/K2)\n",
    "    recall_2.append(retrievaled/len(relv_patents))\n",
    "\n",
    "print(f\"Top@{K0} precision: {np.mean(precision_0):.3f}\")\n",
    "print(f\"Top@{K0} recall: {np.mean(recall_0):.3f}\")\n",
    "print(f\"Top@{K1} precision: {np.mean(precision_1):.3f}\")\n",
    "print(f\"Top@{K1} recall: {np.mean(recall_1):.3f}\")\n",
    "print(f\"Top@{K2} precision: {np.mean(precision_2):.3f}\")\n",
    "print(f\"Top@{K2} recall: {np.mean(recall_2):.3f}\")"
   ]
  },
  {
   "cell_type": "code",
   "execution_count": null,
   "metadata": {},
   "outputs": [],
   "source": []
  }
 ],
 "metadata": {
  "kernelspec": {
   "display_name": "Python 3 (ipykernel)",
   "language": "python",
   "name": "python3"
  },
  "language_info": {
   "codemirror_mode": {
    "name": "ipython",
    "version": 3
   },
   "file_extension": ".py",
   "mimetype": "text/x-python",
   "name": "python",
   "nbconvert_exporter": "python",
   "pygments_lexer": "ipython3",
   "version": "3.9.7"
  },
  "widgets": {
   "application/vnd.jupyter.widget-state+json": {
    "state": {
     "164dc99c25814f6ab80b1620d5bbdccb": {
      "model_module": "@jupyter-widgets/controls",
      "model_module_version": "1.5.0",
      "model_name": "FloatProgressModel",
      "state": {
       "layout": "IPY_MODEL_5445e44543df4f0593767b43681f48f0",
       "max": 86055,
       "style": "IPY_MODEL_ccb7249e92c14924821f89b126e0cacd",
       "value": 85982
      }
     },
     "1d50adeb23e542a5aa98f7de96d6a9d7": {
      "model_module": "@jupyter-widgets/controls",
      "model_module_version": "1.5.0",
      "model_name": "ProgressStyleModel",
      "state": {
       "description_width": ""
      }
     },
     "1e895d0af15b4ff2a6c2ad14a91f5748": {
      "model_module": "@jupyter-widgets/controls",
      "model_module_version": "1.5.0",
      "model_name": "FloatProgressModel",
      "state": {
       "layout": "IPY_MODEL_c903ce8ed8c54437b67158c54da3a22a",
       "max": 10757,
       "style": "IPY_MODEL_f8a513de577440318b252bef4f2da141",
       "value": 9544
      }
     },
     "20a637e61a934dc3a1c79ed24c7cecd1": {
      "model_module": "@jupyter-widgets/controls",
      "model_module_version": "1.5.0",
      "model_name": "HTMLModel",
      "state": {
       "layout": "IPY_MODEL_6ec90b1f56454be6b23a9bbfc75ffcf1",
       "style": "IPY_MODEL_6d5cbecbab2a45b28710fe24e4ac6de6",
       "value": " 85982/86055 [11:24:22&lt;00:35,  2.06it/s]"
      }
     },
     "2748d0831de24a3288e63ff82496a7d9": {
      "model_module": "@jupyter-widgets/controls",
      "model_module_version": "1.5.0",
      "model_name": "FloatProgressModel",
      "state": {
       "layout": "IPY_MODEL_90cfa066ef354ea2b1ee38ef9a5f8099",
       "max": 5,
       "style": "IPY_MODEL_593f5fe9c83d4b85a4fbd9fd447b8e9a"
      }
     },
     "2b90dffa457c429f99c92d510b048761": {
      "model_module": "@jupyter-widgets/controls",
      "model_module_version": "1.5.0",
      "model_name": "DescriptionStyleModel",
      "state": {
       "description_width": ""
      }
     },
     "309c7152a11d4c1381a88e9c451751c9": {
      "model_module": "@jupyter-widgets/controls",
      "model_module_version": "1.5.0",
      "model_name": "DescriptionStyleModel",
      "state": {
       "description_width": ""
      }
     },
     "37e133be36cf4b31a6e83448ade7534b": {
      "model_module": "@jupyter-widgets/controls",
      "model_module_version": "1.5.0",
      "model_name": "FloatProgressModel",
      "state": {
       "layout": "IPY_MODEL_728b2a6ea0f0465282eb7464e28b8f85",
       "max": 86055,
       "style": "IPY_MODEL_1d50adeb23e542a5aa98f7de96d6a9d7",
       "value": 44175
      }
     },
     "3896630326114e08b072c857b038bc1a": {
      "model_module": "@jupyter-widgets/base",
      "model_module_version": "1.2.0",
      "model_name": "LayoutModel",
      "state": {}
     },
     "3a7d8d6da3f54f238b0afea6e7ee2b85": {
      "model_module": "@jupyter-widgets/controls",
      "model_module_version": "1.5.0",
      "model_name": "HTMLModel",
      "state": {
       "layout": "IPY_MODEL_a467379af6fb4610af04419257bcd97e",
       "style": "IPY_MODEL_2b90dffa457c429f99c92d510b048761",
       "value": "Eval:  89%"
      }
     },
     "3ae8ae0bda93481196c4f129a01bf000": {
      "model_module": "@jupyter-widgets/controls",
      "model_module_version": "1.5.0",
      "model_name": "HTMLModel",
      "state": {
       "layout": "IPY_MODEL_f50ae3f29d31451f941bca0d4a03a215",
       "style": "IPY_MODEL_8ee2175173904a2eb2d9aba4753e15d6",
       "value": " 44175/86055 [5:52:16&lt;4:55:35,  2.36it/s]"
      }
     },
     "4314a58991154b8e862b9b2e0aebef2c": {
      "model_module": "@jupyter-widgets/controls",
      "model_module_version": "1.5.0",
      "model_name": "HBoxModel",
      "state": {
       "children": [
        "IPY_MODEL_f12a82db3205424182376a8b167778d1",
        "IPY_MODEL_37e133be36cf4b31a6e83448ade7534b",
        "IPY_MODEL_3ae8ae0bda93481196c4f129a01bf000"
       ],
       "layout": "IPY_MODEL_3896630326114e08b072c857b038bc1a"
      }
     },
     "434444785a7e447e87e0cad98313ad1f": {
      "model_module": "@jupyter-widgets/controls",
      "model_module_version": "1.5.0",
      "model_name": "DescriptionStyleModel",
      "state": {
       "description_width": ""
      }
     },
     "5445e44543df4f0593767b43681f48f0": {
      "model_module": "@jupyter-widgets/base",
      "model_module_version": "1.2.0",
      "model_name": "LayoutModel",
      "state": {}
     },
     "556f902dd03b49fbb6bf7120e444631e": {
      "model_module": "@jupyter-widgets/controls",
      "model_module_version": "1.5.0",
      "model_name": "DescriptionStyleModel",
      "state": {
       "description_width": ""
      }
     },
     "573e3df279c94dcdbcca6d4fbc2baba5": {
      "model_module": "@jupyter-widgets/base",
      "model_module_version": "1.2.0",
      "model_name": "LayoutModel",
      "state": {}
     },
     "593f5fe9c83d4b85a4fbd9fd447b8e9a": {
      "model_module": "@jupyter-widgets/controls",
      "model_module_version": "1.5.0",
      "model_name": "ProgressStyleModel",
      "state": {
       "description_width": ""
      }
     },
     "6c8675f1019348b090dcfd9a695e28ca": {
      "model_module": "@jupyter-widgets/controls",
      "model_module_version": "1.5.0",
      "model_name": "DescriptionStyleModel",
      "state": {
       "description_width": ""
      }
     },
     "6d5cbecbab2a45b28710fe24e4ac6de6": {
      "model_module": "@jupyter-widgets/controls",
      "model_module_version": "1.5.0",
      "model_name": "DescriptionStyleModel",
      "state": {
       "description_width": ""
      }
     },
     "6ec90b1f56454be6b23a9bbfc75ffcf1": {
      "model_module": "@jupyter-widgets/base",
      "model_module_version": "1.2.0",
      "model_name": "LayoutModel",
      "state": {}
     },
     "6ef42ab2cf214b2a9c161320cab5eaf4": {
      "model_module": "@jupyter-widgets/controls",
      "model_module_version": "1.5.0",
      "model_name": "HTMLModel",
      "state": {
       "layout": "IPY_MODEL_e5da622f865b4be589d33d9bf11bff95",
       "style": "IPY_MODEL_309c7152a11d4c1381a88e9c451751c9",
       "value": "  0%"
      }
     },
     "728b2a6ea0f0465282eb7464e28b8f85": {
      "model_module": "@jupyter-widgets/base",
      "model_module_version": "1.2.0",
      "model_name": "LayoutModel",
      "state": {}
     },
     "8ee2175173904a2eb2d9aba4753e15d6": {
      "model_module": "@jupyter-widgets/controls",
      "model_module_version": "1.5.0",
      "model_name": "DescriptionStyleModel",
      "state": {
       "description_width": ""
      }
     },
     "90cfa066ef354ea2b1ee38ef9a5f8099": {
      "model_module": "@jupyter-widgets/base",
      "model_module_version": "1.2.0",
      "model_name": "LayoutModel",
      "state": {}
     },
     "9820aa3240884437b73ec6ac97f9bfeb": {
      "model_module": "@jupyter-widgets/base",
      "model_module_version": "1.2.0",
      "model_name": "LayoutModel",
      "state": {}
     },
     "9a7a893bdc5b4996bb0af662499a1031": {
      "model_module": "@jupyter-widgets/controls",
      "model_module_version": "1.5.0",
      "model_name": "HBoxModel",
      "state": {
       "children": [
        "IPY_MODEL_3a7d8d6da3f54f238b0afea6e7ee2b85",
        "IPY_MODEL_1e895d0af15b4ff2a6c2ad14a91f5748",
        "IPY_MODEL_d8a58dc7a14847c380437b483941f7b8"
       ],
       "layout": "IPY_MODEL_bb728dc1babb44c59b277d6c0fae77d1"
      }
     },
     "9acb681f98d74355b0d50fd3392c7ec2": {
      "model_module": "@jupyter-widgets/base",
      "model_module_version": "1.2.0",
      "model_name": "LayoutModel",
      "state": {}
     },
     "a3685fa7e19d4cc78a84fe0f9a47d392": {
      "model_module": "@jupyter-widgets/base",
      "model_module_version": "1.2.0",
      "model_name": "LayoutModel",
      "state": {}
     },
     "a467379af6fb4610af04419257bcd97e": {
      "model_module": "@jupyter-widgets/base",
      "model_module_version": "1.2.0",
      "model_name": "LayoutModel",
      "state": {}
     },
     "ad8d9ad1431f4ab2961b70feb3bffef4": {
      "model_module": "@jupyter-widgets/base",
      "model_module_version": "1.2.0",
      "model_name": "LayoutModel",
      "state": {}
     },
     "bb728dc1babb44c59b277d6c0fae77d1": {
      "model_module": "@jupyter-widgets/base",
      "model_module_version": "1.2.0",
      "model_name": "LayoutModel",
      "state": {}
     },
     "c0bbf35d93224082a7f0abddb98cecf8": {
      "model_module": "@jupyter-widgets/base",
      "model_module_version": "1.2.0",
      "model_name": "LayoutModel",
      "state": {}
     },
     "c15c1985d6914f08b96560a7231ee0ae": {
      "model_module": "@jupyter-widgets/controls",
      "model_module_version": "1.5.0",
      "model_name": "HTMLModel",
      "state": {
       "layout": "IPY_MODEL_a3685fa7e19d4cc78a84fe0f9a47d392",
       "style": "IPY_MODEL_434444785a7e447e87e0cad98313ad1f",
       "value": " 0/5 [00:00&lt;?, ?it/s]"
      }
     },
     "c903ce8ed8c54437b67158c54da3a22a": {
      "model_module": "@jupyter-widgets/base",
      "model_module_version": "1.2.0",
      "model_name": "LayoutModel",
      "state": {}
     },
     "ccb7249e92c14924821f89b126e0cacd": {
      "model_module": "@jupyter-widgets/controls",
      "model_module_version": "1.5.0",
      "model_name": "ProgressStyleModel",
      "state": {
       "description_width": ""
      }
     },
     "d5e99427fc1a466589e96bf94e2e0b89": {
      "model_module": "@jupyter-widgets/controls",
      "model_module_version": "1.5.0",
      "model_name": "HBoxModel",
      "state": {
       "children": [
        "IPY_MODEL_6ef42ab2cf214b2a9c161320cab5eaf4",
        "IPY_MODEL_2748d0831de24a3288e63ff82496a7d9",
        "IPY_MODEL_c15c1985d6914f08b96560a7231ee0ae"
       ],
       "layout": "IPY_MODEL_c0bbf35d93224082a7f0abddb98cecf8"
      }
     },
     "d8a58dc7a14847c380437b483941f7b8": {
      "model_module": "@jupyter-widgets/controls",
      "model_module_version": "1.5.0",
      "model_name": "HTMLModel",
      "state": {
       "layout": "IPY_MODEL_ad8d9ad1431f4ab2961b70feb3bffef4",
       "style": "IPY_MODEL_f1587b8254aa4fe995d0262ff5c0ff0d",
       "value": " 9544/10757 [25:20&lt;03:20,  6.06it/s]"
      }
     },
     "e5da622f865b4be589d33d9bf11bff95": {
      "model_module": "@jupyter-widgets/base",
      "model_module_version": "1.2.0",
      "model_name": "LayoutModel",
      "state": {}
     },
     "e6911c72c9fb4701bf09e05c358cc971": {
      "model_module": "@jupyter-widgets/controls",
      "model_module_version": "1.5.0",
      "model_name": "HBoxModel",
      "state": {
       "children": [
        "IPY_MODEL_f16d3926bf7d42f3a864c8aaf75d8fa2",
        "IPY_MODEL_164dc99c25814f6ab80b1620d5bbdccb",
        "IPY_MODEL_20a637e61a934dc3a1c79ed24c7cecd1"
       ],
       "layout": "IPY_MODEL_573e3df279c94dcdbcca6d4fbc2baba5"
      }
     },
     "f12a82db3205424182376a8b167778d1": {
      "model_module": "@jupyter-widgets/controls",
      "model_module_version": "1.5.0",
      "model_name": "HTMLModel",
      "state": {
       "layout": "IPY_MODEL_9820aa3240884437b73ec6ac97f9bfeb",
       "style": "IPY_MODEL_6c8675f1019348b090dcfd9a695e28ca",
       "value": "Train:  49%"
      }
     },
     "f1587b8254aa4fe995d0262ff5c0ff0d": {
      "model_module": "@jupyter-widgets/controls",
      "model_module_version": "1.5.0",
      "model_name": "DescriptionStyleModel",
      "state": {
       "description_width": ""
      }
     },
     "f16d3926bf7d42f3a864c8aaf75d8fa2": {
      "model_module": "@jupyter-widgets/controls",
      "model_module_version": "1.5.0",
      "model_name": "HTMLModel",
      "state": {
       "layout": "IPY_MODEL_9acb681f98d74355b0d50fd3392c7ec2",
       "style": "IPY_MODEL_556f902dd03b49fbb6bf7120e444631e",
       "value": "Train: 100%"
      }
     },
     "f50ae3f29d31451f941bca0d4a03a215": {
      "model_module": "@jupyter-widgets/base",
      "model_module_version": "1.2.0",
      "model_name": "LayoutModel",
      "state": {}
     },
     "f8a513de577440318b252bef4f2da141": {
      "model_module": "@jupyter-widgets/controls",
      "model_module_version": "1.5.0",
      "model_name": "ProgressStyleModel",
      "state": {
       "description_width": ""
      }
     }
    },
    "version_major": 2,
    "version_minor": 0
   }
  }
 },
 "nbformat": 4,
 "nbformat_minor": 4
}
