{
 "cells": [
  {
   "cell_type": "code",
   "execution_count": 1,
   "metadata": {},
   "outputs": [
    {
     "name": "stdout",
     "output_type": "stream",
     "text": [
      "Mon May 16 23:10:50 2022       \n",
      "+-----------------------------------------------------------------------------+\n",
      "| NVIDIA-SMI 510.60.02    Driver Version: 510.60.02    CUDA Version: 11.6     |\n",
      "|-------------------------------+----------------------+----------------------+\n",
      "| GPU  Name        Persistence-M| Bus-Id        Disp.A | Volatile Uncorr. ECC |\n",
      "| Fan  Temp  Perf  Pwr:Usage/Cap|         Memory-Usage | GPU-Util  Compute M. |\n",
      "|                               |                      |               MIG M. |\n",
      "|===============================+======================+======================|\n",
      "|   0  NVIDIA A40          On   | 00000000:23:00.0 Off |                    0 |\n",
      "|  0%   24C    P8    29W / 300W |      0MiB / 46068MiB |      0%      Default |\n",
      "|                               |                      |                  N/A |\n",
      "+-------------------------------+----------------------+----------------------+\n",
      "                                                                               \n",
      "+-----------------------------------------------------------------------------+\n",
      "| Processes:                                                                  |\n",
      "|  GPU   GI   CI        PID   Type   Process name                  GPU Memory |\n",
      "|        ID   ID                                                   Usage      |\n",
      "|=============================================================================|\n",
      "|  No running processes found                                                 |\n",
      "+-----------------------------------------------------------------------------+\n"
     ]
    }
   ],
   "source": [
    "!nvidia-smi"
   ]
  },
  {
   "cell_type": "code",
   "execution_count": 2,
   "metadata": {},
   "outputs": [],
   "source": [
    "import pandas as pd\n",
    "import numpy as np\n",
    "import random\n",
    "from tqdm.auto import tqdm\n",
    "import time\n",
    "import torch\n",
    "import torch.nn as nn\n",
    "import torch.nn.functional as F\n",
    "from torch.utils.data import Dataset, DataLoader\n",
    "\n",
    "from transformers import BertTokenizerFast as BertTokenizer, BertModel, AdamW, get_linear_schedule_with_warmup\n",
    "from sklearn.model_selection import train_test_split\n",
    "from sklearn.metrics import classification_report, multilabel_confusion_matrix\n",
    "from torch.cuda.amp import autocast as autocast\n",
    "from torch.cuda.amp import GradScaler as GradScaler\n",
    "import os\n",
    "\n",
    "\n",
    "device = torch.device(\"cuda\" if torch.cuda.is_available() else \"cpu\")\n",
    "\n",
    "BERT_MODEL_NAME = 'bert-base-uncased'\n",
    "tokenizer = BertTokenizer.from_pretrained('bert-base-uncased')\n",
    "\n",
    "EPOCHS = 1\n",
    "MAX_TOKEN_COUNT = 512\n",
    "BATCH_SIZE = 32"
   ]
  },
  {
   "cell_type": "code",
   "execution_count": 3,
   "metadata": {},
   "outputs": [],
   "source": [
    "def setup_seed(seed):\n",
    "    torch.manual_seed(seed)\n",
    "    torch.cuda.manual_seed_all(seed)\n",
    "    np.random.seed(seed)\n",
    "    random.seed(seed)\n",
    "    torch.backends.cudnn.deterministic = True\n",
    "# 设置随机数种子\n",
    "setup_seed(20)"
   ]
  },
  {
   "cell_type": "code",
   "execution_count": 4,
   "metadata": {},
   "outputs": [
    {
     "name": "stdout",
     "output_type": "stream",
     "text": [
      "CPU times: user 217 ms, sys: 680 ms, total: 897 ms\n",
      "Wall time: 201 ms\n"
     ]
    }
   ],
   "source": [
    "%%time \n",
    "# train_df=pd.read_feather(\"./autodl-nas/major.feather\")\n",
    "# val_df=pd.read_feather(\"./autodl-nas/USPTO-2M_Validation.feather\")\n",
    "\n",
    "\n",
    "test_df = pd.read_feather(\"Test.feather\")"
   ]
  },
  {
   "cell_type": "code",
   "execution_count": 7,
   "metadata": {},
   "outputs": [],
   "source": [
    "LABEL_COLUMNS_3 = test_df.columns[11:-7]"
   ]
  },
  {
   "cell_type": "code",
   "execution_count": 8,
   "metadata": {},
   "outputs": [
    {
     "data": {
      "text/html": [
       "<div>\n",
       "<style scoped>\n",
       "    .dataframe tbody tr th:only-of-type {\n",
       "        vertical-align: middle;\n",
       "    }\n",
       "\n",
       "    .dataframe tbody tr th {\n",
       "        vertical-align: top;\n",
       "    }\n",
       "\n",
       "    .dataframe thead th {\n",
       "        text-align: right;\n",
       "    }\n",
       "</style>\n",
       "<table border=\"1\" class=\"dataframe\">\n",
       "  <thead>\n",
       "    <tr style=\"text-align: right;\">\n",
       "      <th></th>\n",
       "      <th>publication_title</th>\n",
       "      <th>sections</th>\n",
       "      <th>section_classes</th>\n",
       "      <th>section_class_subclasses</th>\n",
       "      <th>section_class_subclass_groups</th>\n",
       "      <th>cpc_sections</th>\n",
       "      <th>cpc_section_classes</th>\n",
       "      <th>cpc_section_class_subclasses</th>\n",
       "      <th>cpc_section_class_subclass_groups</th>\n",
       "      <th>abstract</th>\n",
       "      <th>...</th>\n",
       "      <th>G16Y</th>\n",
       "      <th>G06J</th>\n",
       "      <th>E99Z</th>\n",
       "      <th>relv_patents</th>\n",
       "      <th>major claim</th>\n",
       "      <th>len_k_3</th>\n",
       "      <th>major claim 1</th>\n",
       "      <th>len_k_1</th>\n",
       "      <th>major claim 5</th>\n",
       "      <th>len_k_5</th>\n",
       "    </tr>\n",
       "  </thead>\n",
       "  <tbody>\n",
       "    <tr>\n",
       "      <th>0</th>\n",
       "      <td>HANGING POCKET WITH TAMPER DETECTION</td>\n",
       "      <td>B</td>\n",
       "      <td>B65</td>\n",
       "      <td>B65D</td>\n",
       "      <td>B65D 75/14,B65D 75/52,B65D 75/56</td>\n",
       "      <td>[B]</td>\n",
       "      <td>[B65]</td>\n",
       "      <td>[B65D]</td>\n",
       "      <td>[B65D 75/14, B65D 2575/565, B65D 75/566, B65D ...</td>\n",
       "      <td>A hanging pocket for point-of-sale display is ...</td>\n",
       "      <td>...</td>\n",
       "      <td>0</td>\n",
       "      <td>0</td>\n",
       "      <td>0</td>\n",
       "      <td>[0, 239, 245, 309, 401, 613, 764, 1061, 1067, ...</td>\n",
       "      <td>A hanging pocket for point-of-sale display, th...</td>\n",
       "      <td>476</td>\n",
       "      <td>A hanging pocket for point-of-sale display, th...</td>\n",
       "      <td>134</td>\n",
       "      <td>A hanging pocket for point-of-sale display, th...</td>\n",
       "      <td>546</td>\n",
       "    </tr>\n",
       "    <tr>\n",
       "      <th>1</th>\n",
       "      <td>CRYSTALS FOR DETECTING NEUTRONS, GAMMA RAYS, A...</td>\n",
       "      <td>C,G</td>\n",
       "      <td>C07,G01,C30</td>\n",
       "      <td>C07F,G01T,C30B</td>\n",
       "      <td>C07F 5/00,G01T 1/202,G01T 3/06,C30B 15/00</td>\n",
       "      <td>[C, G]</td>\n",
       "      <td>[C07, C30, G01]</td>\n",
       "      <td>[C07F, C30B, G01T]</td>\n",
       "      <td>[C07F 5/003, C30B 15/002, G01T 3/06, G01T 1/2023]</td>\n",
       "      <td>The present disclosure discloses a method for ...</td>\n",
       "      <td>...</td>\n",
       "      <td>0</td>\n",
       "      <td>0</td>\n",
       "      <td>0</td>\n",
       "      <td>[1]</td>\n",
       "      <td>A method for growing a crystal, comprising:wei...</td>\n",
       "      <td>709</td>\n",
       "      <td>A method for growing a crystal, comprising:wei...</td>\n",
       "      <td>369</td>\n",
       "      <td>A method for growing a crystal, comprising:wei...</td>\n",
       "      <td>772</td>\n",
       "    </tr>\n",
       "    <tr>\n",
       "      <th>2</th>\n",
       "      <td>DEVICE FOR TOOTHBRUSH USAGE MONITORING</td>\n",
       "      <td>G,A</td>\n",
       "      <td>G09,A46</td>\n",
       "      <td>G09B,A46B</td>\n",
       "      <td>G09B 19/00,A46B 15/00</td>\n",
       "      <td>[G, A]</td>\n",
       "      <td>[G09, A46]</td>\n",
       "      <td>[G09B, A46B]</td>\n",
       "      <td>[G09B 19/0084, A46B 2200/1066, A46B 15/0002]</td>\n",
       "      <td>There is provided a device for monitoring usag...</td>\n",
       "      <td>...</td>\n",
       "      <td>0</td>\n",
       "      <td>0</td>\n",
       "      <td>0</td>\n",
       "      <td>[2, 3706]</td>\n",
       "      <td>A device for monitoring usage of a toothbrush,...</td>\n",
       "      <td>633</td>\n",
       "      <td>A device for monitoring usage of a toothbrush,...</td>\n",
       "      <td>161</td>\n",
       "      <td>A device for monitoring usage of a toothbrush,...</td>\n",
       "      <td>736</td>\n",
       "    </tr>\n",
       "    <tr>\n",
       "      <th>3</th>\n",
       "      <td>HANDHELD FLEXIBLE ROBOTIC CATHETER FOR ENDOSCO...</td>\n",
       "      <td>A</td>\n",
       "      <td>A61</td>\n",
       "      <td>A61B</td>\n",
       "      <td>A61B 34/00,A61B 34/35,A61B 1/05,A61B 1/018,A61...</td>\n",
       "      <td>[A]</td>\n",
       "      <td>[A61]</td>\n",
       "      <td>[A61B]</td>\n",
       "      <td>[A61B 34/74, A61B 34/35, A61B 1/05, A61B 2034/...</td>\n",
       "      <td>A handheld, steerable catheter robotic system ...</td>\n",
       "      <td>...</td>\n",
       "      <td>0</td>\n",
       "      <td>0</td>\n",
       "      <td>0</td>\n",
       "      <td>[3, 8, 12, 76, 85, 96, 98, 132, 136, 159, 167,...</td>\n",
       "      <td>A surgical arrangement, comprising:an endoscop...</td>\n",
       "      <td>433</td>\n",
       "      <td>A steerable catheter robotic system, comprisin...</td>\n",
       "      <td>172</td>\n",
       "      <td>A steerable catheter robotic system, comprisin...</td>\n",
       "      <td>550</td>\n",
       "    </tr>\n",
       "    <tr>\n",
       "      <th>4</th>\n",
       "      <td>Charging Terminal</td>\n",
       "      <td>G</td>\n",
       "      <td>G06</td>\n",
       "      <td>G06K,G06F</td>\n",
       "      <td>G06K 7/00,G06F 13/42</td>\n",
       "      <td>[G]</td>\n",
       "      <td>[G06]</td>\n",
       "      <td>[G06K, G06F]</td>\n",
       "      <td>[G06K 7/0013, G06F 2213/0042, G06F 13/4282]</td>\n",
       "      <td>A battery-powered device comprising a power in...</td>\n",
       "      <td>...</td>\n",
       "      <td>0</td>\n",
       "      <td>0</td>\n",
       "      <td>0</td>\n",
       "      <td>[4, 80, 185, 193, 250, 293, 328, 410, 428, 490...</td>\n",
       "      <td>A power supply for one or more battery-powered...</td>\n",
       "      <td>472</td>\n",
       "      <td>A system comprising a battery-powered device a...</td>\n",
       "      <td>234</td>\n",
       "      <td>A system comprising a battery-powered device a...</td>\n",
       "      <td>522</td>\n",
       "    </tr>\n",
       "    <tr>\n",
       "      <th>...</th>\n",
       "      <td>...</td>\n",
       "      <td>...</td>\n",
       "      <td>...</td>\n",
       "      <td>...</td>\n",
       "      <td>...</td>\n",
       "      <td>...</td>\n",
       "      <td>...</td>\n",
       "      <td>...</td>\n",
       "      <td>...</td>\n",
       "      <td>...</td>\n",
       "      <td>...</td>\n",
       "      <td>...</td>\n",
       "      <td>...</td>\n",
       "      <td>...</td>\n",
       "      <td>...</td>\n",
       "      <td>...</td>\n",
       "      <td>...</td>\n",
       "      <td>...</td>\n",
       "      <td>...</td>\n",
       "      <td>...</td>\n",
       "      <td>...</td>\n",
       "    </tr>\n",
       "    <tr>\n",
       "      <th>4995</th>\n",
       "      <td>COMPOSITE YARN AND METHOD OF MAKING A CARBON N...</td>\n",
       "      <td>C,D</td>\n",
       "      <td>C01,D01,D02</td>\n",
       "      <td>C01B,D01F,D02G</td>\n",
       "      <td>C01B 32/16,C01B 32/168,D01F 9/12,D02G 3/02</td>\n",
       "      <td>[C, B, D]</td>\n",
       "      <td>[C01, B82, D02, D01]</td>\n",
       "      <td>[C01B, B82Y, D02G, D01F]</td>\n",
       "      <td>[C01B 32/16, C01B 32/168, B82Y 30/00, D02G 3/0...</td>\n",
       "      <td>A method of making a carbon nanotube composite...</td>\n",
       "      <td>...</td>\n",
       "      <td>0</td>\n",
       "      <td>0</td>\n",
       "      <td>0</td>\n",
       "      <td>[890, 1032, 2132, 3843, 4995]</td>\n",
       "      <td>A method of making a carbon nanotube composite...</td>\n",
       "      <td>220</td>\n",
       "      <td>A method of making a carbon nanotube composite...</td>\n",
       "      <td>65</td>\n",
       "      <td>A method of making a carbon nanotube composite...</td>\n",
       "      <td>281</td>\n",
       "    </tr>\n",
       "    <tr>\n",
       "      <th>4996</th>\n",
       "      <td>TECHNOLOGIES FOR CADDY ASSEMBLIES</td>\n",
       "      <td>B</td>\n",
       "      <td>B62,B65,B25</td>\n",
       "      <td>B62B,B65D,B25H</td>\n",
       "      <td>B62B 3/00,B65D 71/52,B65D 21/02,B62B 5/06,B62B...</td>\n",
       "      <td>[B]</td>\n",
       "      <td>[B62, B65, B25]</td>\n",
       "      <td>[B62B, B65D, B25H]</td>\n",
       "      <td>[B62B 3/006, B65D 71/0003, B65D 21/0212, B25H ...</td>\n",
       "      <td>A container system including a storage base th...</td>\n",
       "      <td>...</td>\n",
       "      <td>0</td>\n",
       "      <td>0</td>\n",
       "      <td>0</td>\n",
       "      <td>[4996]</td>\n",
       "      <td>A storage system comprising a first storage ba...</td>\n",
       "      <td>519</td>\n",
       "      <td>A storage system comprising a first storage ba...</td>\n",
       "      <td>239</td>\n",
       "      <td>A storage system comprising a first storage ba...</td>\n",
       "      <td>627</td>\n",
       "    </tr>\n",
       "    <tr>\n",
       "      <th>4997</th>\n",
       "      <td>HUMERAL AND GLENOID ARTICULAR SURFACE IMPLANT ...</td>\n",
       "      <td>A</td>\n",
       "      <td>A61</td>\n",
       "      <td>A61F</td>\n",
       "      <td>A61F 2/40,A61F 2/30</td>\n",
       "      <td>[A]</td>\n",
       "      <td>[A61]</td>\n",
       "      <td>[A61F]</td>\n",
       "      <td>[A61F 2/4003, A61F 2/4081, A61F 2/30749, A61F ...</td>\n",
       "      <td>A shoulder implant system comprising a glenoid...</td>\n",
       "      <td>...</td>\n",
       "      <td>0</td>\n",
       "      <td>0</td>\n",
       "      <td>0</td>\n",
       "      <td>[9, 25, 85, 160, 208, 263, 322, 344, 375, 520,...</td>\n",
       "      <td>A shoulder implant system comprising:a glenoid...</td>\n",
       "      <td>409</td>\n",
       "      <td>A shoulder implant system comprising:a glenoid...</td>\n",
       "      <td>194</td>\n",
       "      <td>A shoulder implant system comprising:a glenoid...</td>\n",
       "      <td>540</td>\n",
       "    </tr>\n",
       "    <tr>\n",
       "      <th>4998</th>\n",
       "      <td>NOISE CANCELLING SOUNDBAR DEVICE AND SYSTEM</td>\n",
       "      <td>H</td>\n",
       "      <td>H04</td>\n",
       "      <td>H04R</td>\n",
       "      <td>H04R 3/02</td>\n",
       "      <td>[H]</td>\n",
       "      <td>[H04]</td>\n",
       "      <td>[H04R]</td>\n",
       "      <td>[H04R 3/02]</td>\n",
       "      <td>A noise cancelling soundbar that may be integr...</td>\n",
       "      <td>...</td>\n",
       "      <td>0</td>\n",
       "      <td>0</td>\n",
       "      <td>0</td>\n",
       "      <td>[50, 80, 172, 379, 535, 633, 657, 660, 687, 69...</td>\n",
       "      <td>A noise cancelling soundbar, comprising:one or...</td>\n",
       "      <td>203</td>\n",
       "      <td>A noise cancelling soundbar, comprising:one or...</td>\n",
       "      <td>42</td>\n",
       "      <td>A noise cancelling soundbar, comprising:one or...</td>\n",
       "      <td>308</td>\n",
       "    </tr>\n",
       "    <tr>\n",
       "      <th>4999</th>\n",
       "      <td>BROAD HOST RANGE GENETIC TOOLS FOR ENGINEERING...</td>\n",
       "      <td>C</td>\n",
       "      <td>C12</td>\n",
       "      <td>C12N</td>\n",
       "      <td>C12N 15/82,C12N 1/12</td>\n",
       "      <td>[C]</td>\n",
       "      <td>[C12]</td>\n",
       "      <td>[C12N]</td>\n",
       "      <td>[C12N 15/8209, C12N 1/12]</td>\n",
       "      <td>Disclosed herein are a suite of genetic tools ...</td>\n",
       "      <td>...</td>\n",
       "      <td>0</td>\n",
       "      <td>0</td>\n",
       "      <td>0</td>\n",
       "      <td>[39, 176, 230, 231, 241, 259, 351, 519, 558, 6...</td>\n",
       "      <td>A method for transforming an algal chloroplast...</td>\n",
       "      <td>149</td>\n",
       "      <td>A method for transforming an algal nucleus, th...</td>\n",
       "      <td>75</td>\n",
       "      <td>A method for transforming an algal chloroplast...</td>\n",
       "      <td>189</td>\n",
       "    </tr>\n",
       "  </tbody>\n",
       "</table>\n",
       "<p>5000 rows × 682 columns</p>\n",
       "</div>"
      ],
      "text/plain": [
       "                                      publication_title sections  \\\n",
       "0                  HANGING POCKET WITH TAMPER DETECTION        B   \n",
       "1     CRYSTALS FOR DETECTING NEUTRONS, GAMMA RAYS, A...      C,G   \n",
       "2                DEVICE FOR TOOTHBRUSH USAGE MONITORING      G,A   \n",
       "3     HANDHELD FLEXIBLE ROBOTIC CATHETER FOR ENDOSCO...        A   \n",
       "4                                     Charging Terminal        G   \n",
       "...                                                 ...      ...   \n",
       "4995  COMPOSITE YARN AND METHOD OF MAKING A CARBON N...      C,D   \n",
       "4996                  TECHNOLOGIES FOR CADDY ASSEMBLIES        B   \n",
       "4997  HUMERAL AND GLENOID ARTICULAR SURFACE IMPLANT ...        A   \n",
       "4998        NOISE CANCELLING SOUNDBAR DEVICE AND SYSTEM        H   \n",
       "4999  BROAD HOST RANGE GENETIC TOOLS FOR ENGINEERING...        C   \n",
       "\n",
       "     section_classes section_class_subclasses  \\\n",
       "0                B65                     B65D   \n",
       "1        C07,G01,C30           C07F,G01T,C30B   \n",
       "2            G09,A46                G09B,A46B   \n",
       "3                A61                     A61B   \n",
       "4                G06                G06K,G06F   \n",
       "...              ...                      ...   \n",
       "4995     C01,D01,D02           C01B,D01F,D02G   \n",
       "4996     B62,B65,B25           B62B,B65D,B25H   \n",
       "4997             A61                     A61F   \n",
       "4998             H04                     H04R   \n",
       "4999             C12                     C12N   \n",
       "\n",
       "                          section_class_subclass_groups cpc_sections  \\\n",
       "0                      B65D 75/14,B65D 75/52,B65D 75/56          [B]   \n",
       "1             C07F 5/00,G01T 1/202,G01T 3/06,C30B 15/00       [C, G]   \n",
       "2                                 G09B 19/00,A46B 15/00       [G, A]   \n",
       "3     A61B 34/00,A61B 34/35,A61B 1/05,A61B 1/018,A61...          [A]   \n",
       "4                                  G06K 7/00,G06F 13/42          [G]   \n",
       "...                                                 ...          ...   \n",
       "4995         C01B 32/16,C01B 32/168,D01F 9/12,D02G 3/02    [C, B, D]   \n",
       "4996  B62B 3/00,B65D 71/52,B65D 21/02,B62B 5/06,B62B...          [B]   \n",
       "4997                                A61F 2/40,A61F 2/30          [A]   \n",
       "4998                                          H04R 3/02          [H]   \n",
       "4999                               C12N 15/82,C12N 1/12          [C]   \n",
       "\n",
       "       cpc_section_classes cpc_section_class_subclasses  \\\n",
       "0                    [B65]                       [B65D]   \n",
       "1          [C07, C30, G01]           [C07F, C30B, G01T]   \n",
       "2               [G09, A46]                 [G09B, A46B]   \n",
       "3                    [A61]                       [A61B]   \n",
       "4                    [G06]                 [G06K, G06F]   \n",
       "...                    ...                          ...   \n",
       "4995  [C01, B82, D02, D01]     [C01B, B82Y, D02G, D01F]   \n",
       "4996       [B62, B65, B25]           [B62B, B65D, B25H]   \n",
       "4997                 [A61]                       [A61F]   \n",
       "4998                 [H04]                       [H04R]   \n",
       "4999                 [C12]                       [C12N]   \n",
       "\n",
       "                      cpc_section_class_subclass_groups  \\\n",
       "0     [B65D 75/14, B65D 2575/565, B65D 75/566, B65D ...   \n",
       "1     [C07F 5/003, C30B 15/002, G01T 3/06, G01T 1/2023]   \n",
       "2          [G09B 19/0084, A46B 2200/1066, A46B 15/0002]   \n",
       "3     [A61B 34/74, A61B 34/35, A61B 1/05, A61B 2034/...   \n",
       "4           [G06K 7/0013, G06F 2213/0042, G06F 13/4282]   \n",
       "...                                                 ...   \n",
       "4995  [C01B 32/16, C01B 32/168, B82Y 30/00, D02G 3/0...   \n",
       "4996  [B62B 3/006, B65D 71/0003, B65D 21/0212, B25H ...   \n",
       "4997  [A61F 2/4003, A61F 2/4081, A61F 2/30749, A61F ...   \n",
       "4998                                        [H04R 3/02]   \n",
       "4999                          [C12N 15/8209, C12N 1/12]   \n",
       "\n",
       "                                               abstract  ... G16Y  G06J  E99Z  \\\n",
       "0     A hanging pocket for point-of-sale display is ...  ...    0     0     0   \n",
       "1     The present disclosure discloses a method for ...  ...    0     0     0   \n",
       "2     There is provided a device for monitoring usag...  ...    0     0     0   \n",
       "3     A handheld, steerable catheter robotic system ...  ...    0     0     0   \n",
       "4     A battery-powered device comprising a power in...  ...    0     0     0   \n",
       "...                                                 ...  ...  ...   ...   ...   \n",
       "4995  A method of making a carbon nanotube composite...  ...    0     0     0   \n",
       "4996  A container system including a storage base th...  ...    0     0     0   \n",
       "4997  A shoulder implant system comprising a glenoid...  ...    0     0     0   \n",
       "4998  A noise cancelling soundbar that may be integr...  ...    0     0     0   \n",
       "4999  Disclosed herein are a suite of genetic tools ...  ...    0     0     0   \n",
       "\n",
       "                                           relv_patents  \\\n",
       "0     [0, 239, 245, 309, 401, 613, 764, 1061, 1067, ...   \n",
       "1                                                   [1]   \n",
       "2                                             [2, 3706]   \n",
       "3     [3, 8, 12, 76, 85, 96, 98, 132, 136, 159, 167,...   \n",
       "4     [4, 80, 185, 193, 250, 293, 328, 410, 428, 490...   \n",
       "...                                                 ...   \n",
       "4995                      [890, 1032, 2132, 3843, 4995]   \n",
       "4996                                             [4996]   \n",
       "4997  [9, 25, 85, 160, 208, 263, 322, 344, 375, 520,...   \n",
       "4998  [50, 80, 172, 379, 535, 633, 657, 660, 687, 69...   \n",
       "4999  [39, 176, 230, 231, 241, 259, 351, 519, 558, 6...   \n",
       "\n",
       "                                            major claim  len_k_3  \\\n",
       "0     A hanging pocket for point-of-sale display, th...      476   \n",
       "1     A method for growing a crystal, comprising:wei...      709   \n",
       "2     A device for monitoring usage of a toothbrush,...      633   \n",
       "3     A surgical arrangement, comprising:an endoscop...      433   \n",
       "4     A power supply for one or more battery-powered...      472   \n",
       "...                                                 ...      ...   \n",
       "4995  A method of making a carbon nanotube composite...      220   \n",
       "4996  A storage system comprising a first storage ba...      519   \n",
       "4997  A shoulder implant system comprising:a glenoid...      409   \n",
       "4998  A noise cancelling soundbar, comprising:one or...      203   \n",
       "4999  A method for transforming an algal chloroplast...      149   \n",
       "\n",
       "                                          major claim 1  len_k_1  \\\n",
       "0     A hanging pocket for point-of-sale display, th...      134   \n",
       "1     A method for growing a crystal, comprising:wei...      369   \n",
       "2     A device for monitoring usage of a toothbrush,...      161   \n",
       "3     A steerable catheter robotic system, comprisin...      172   \n",
       "4     A system comprising a battery-powered device a...      234   \n",
       "...                                                 ...      ...   \n",
       "4995  A method of making a carbon nanotube composite...       65   \n",
       "4996  A storage system comprising a first storage ba...      239   \n",
       "4997  A shoulder implant system comprising:a glenoid...      194   \n",
       "4998  A noise cancelling soundbar, comprising:one or...       42   \n",
       "4999  A method for transforming an algal nucleus, th...       75   \n",
       "\n",
       "                                          major claim 5  len_k_5  \n",
       "0     A hanging pocket for point-of-sale display, th...      546  \n",
       "1     A method for growing a crystal, comprising:wei...      772  \n",
       "2     A device for monitoring usage of a toothbrush,...      736  \n",
       "3     A steerable catheter robotic system, comprisin...      550  \n",
       "4     A system comprising a battery-powered device a...      522  \n",
       "...                                                 ...      ...  \n",
       "4995  A method of making a carbon nanotube composite...      281  \n",
       "4996  A storage system comprising a first storage ba...      627  \n",
       "4997  A shoulder implant system comprising:a glenoid...      540  \n",
       "4998  A noise cancelling soundbar, comprising:one or...      308  \n",
       "4999  A method for transforming an algal chloroplast...      189  \n",
       "\n",
       "[5000 rows x 682 columns]"
      ]
     },
     "execution_count": 8,
     "metadata": {},
     "output_type": "execute_result"
    }
   ],
   "source": [
    "test_df"
   ]
  },
  {
   "cell_type": "code",
   "execution_count": 9,
   "metadata": {},
   "outputs": [],
   "source": [
    "class PatentDataset(Dataset):\n",
    "    \"\"\"\n",
    "    Pass pandas dataframe, and tokeizer along with the max token length[128 default]\n",
    "    \n",
    "    Example: \n",
    "    -------\n",
    "    train_dataset = ToxicCommentsDataset(\n",
    "      train_df,\n",
    "      tokenizer,\n",
    "      max_token_len=MAX_TOKEN_COUNT\n",
    "    )\n",
    "\n",
    "    sample_item = train_dataset[0]\n",
    "    \n",
    "    \"\"\"\n",
    "    \n",
    "    \n",
    "    def __init__(\n",
    "        self,\n",
    "        data: pd.DataFrame,\n",
    "        tokenizer: BertTokenizer,\n",
    "        max_token_len: int = 512,\n",
    "        test= False\n",
    "    ):\n",
    "        self.data = data\n",
    "        self.tokenizer = tokenizer\n",
    "        self.max_token_len = max_token_len\n",
    "        self.test = test\n",
    "        \n",
    "    \n",
    "    def __len__(self):\n",
    "        return len(self.data)\n",
    "    \n",
    "    \n",
    "    def __getitem__(self, index: int):\n",
    "        data_row = self.data.iloc[index]\n",
    "        comment_text = data_row['major claim']\n",
    "#         comment_text = \"\".join(data_row['claims'])\n",
    "\n",
    "        if not self.test:\n",
    "            label_3 = data_row[LABEL_COLUMNS_3]\n",
    "            label_2 = data_row[LABEL_COLUMNS_2]\n",
    "            label_1 = data_row[LABEL_COLUMNS_1]\n",
    "            \n",
    "        else:\n",
    "            \n",
    "            label_3 = data_row[LABEL_COLUMNS_3]\n",
    "        \n",
    "        encoding = self.tokenizer.encode_plus(\n",
    "            comment_text,\n",
    "            max_length=self.max_token_len,\n",
    "            padding=\"max_length\",\n",
    "            truncation=True,\n",
    "            add_special_tokens=True, # [CLS] & [SEP]\n",
    "            return_token_type_ids=False,\n",
    "            return_attention_mask=True, #attention_mask\n",
    "            return_tensors='pt',\n",
    "        )\n",
    "        \n",
    "        if not self.test:\n",
    "            return dict(\n",
    "            comment_text=comment_text,\n",
    "            input_ids = encoding[\"input_ids\"].flatten(),\n",
    "            attention_mask=encoding[\"attention_mask\"].flatten(),\n",
    "            label_1=torch.FloatTensor(label_1),\n",
    "            label_2=torch.FloatTensor(label_2),\n",
    "            label_3=torch.FloatTensor(label_3),\n",
    "                \n",
    "        )\n",
    "        else:\n",
    "            return dict(\n",
    "                comment_text=comment_text,\n",
    "                input_ids = encoding[\"input_ids\"].flatten(),\n",
    "                attention_mask=encoding[\"attention_mask\"].flatten(),\n",
    "                label_3=torch.FloatTensor(label_3)\n",
    "            )\n",
    "        "
   ]
  },
  {
   "cell_type": "code",
   "execution_count": 70,
   "metadata": {},
   "outputs": [],
   "source": [
    "class PatentDataset(Dataset):\n",
    "    \"\"\"\n",
    "    Pass pandas dataframe, and tokeizer along with the max token length[128 default]\n",
    "    \n",
    "    Example: \n",
    "    -------\n",
    "    train_dataset = ToxicCommentsDataset(\n",
    "      train_df,\n",
    "      tokenizer,\n",
    "      max_token_len=MAX_TOKEN_COUNT\n",
    "    )\n",
    "\n",
    "    sample_item = train_dataset[0]\n",
    "    \n",
    "    \"\"\"\n",
    "    \n",
    "    \n",
    "    def __init__(\n",
    "        self,\n",
    "        data: pd.DataFrame,\n",
    "        tokenizer: BertTokenizer,\n",
    "        max_token_len: int = 512\n",
    "    ):\n",
    "        self.data = data\n",
    "        self.tokenizer = tokenizer\n",
    "        self.max_token_len = max_token_len\n",
    "        \n",
    "    \n",
    "    def __len__(self):\n",
    "        return len(self.data)\n",
    "    \n",
    "    \n",
    "    def __getitem__(self, index: int):\n",
    "        data_row = self.data.iloc[index]\n",
    "        comment_text = data_row['major claim 5']\n",
    "        query = data_row.publication_title.lower()\n",
    "        \n",
    "        encoding = self.tokenizer.batch_encode_plus(\n",
    "            [query, comment_text],\n",
    "            max_length=self.max_token_len,\n",
    "            padding=\"max_length\",\n",
    "            truncation=True,\n",
    "            add_special_tokens=True,\n",
    "            return_tensors='pt',\n",
    "        )\n",
    "        \n",
    "        return dict(\n",
    "            index = index,\n",
    "            comment_text=comment_text,\n",
    "            query = query,\n",
    "            input_ids = encoding[\"input_ids\"],\n",
    "            attention_mask=encoding[\"attention_mask\"]\n",
    "        )\n"
   ]
  },
  {
   "cell_type": "code",
   "execution_count": 57,
   "metadata": {},
   "outputs": [],
   "source": [
    "train_dataset = PatentDataset(\n",
    "  train_df,\n",
    "  tokenizer,\n",
    "  max_token_len=128\n",
    ")\n",
    "\n",
    "val_dataset = PatentDataset(\n",
    "  val_df,\n",
    "  tokenizer,\n",
    "  max_token_len=128,\n",
    "  test = True\n",
    ")\n",
    "\n",
    "train_dataloader = DataLoader(train_dataset, batch_size=BATCH_SIZE, shuffle=True,drop_last = True,pin_memory=True)\n",
    "val_dataloader = DataLoader(val_dataset, batch_size=BATCH_SIZE, shuffle=False, drop_last = True,pin_memory=True)"
   ]
  },
  {
   "cell_type": "code",
   "execution_count": 26,
   "metadata": {},
   "outputs": [],
   "source": [
    "test_dataset = PatentDataset(\n",
    "  test_df,\n",
    "  tokenizer,\n",
    "  max_token_len=512,\n",
    "  test = True\n",
    ")\n",
    "test_dataloader = DataLoader(test_dataset, batch_size=32, shuffle=False,drop_last=True)"
   ]
  },
  {
   "cell_type": "code",
   "execution_count": 11,
   "metadata": {},
   "outputs": [
    {
     "name": "stderr",
     "output_type": "stream",
     "text": [
      "Some weights of the model checkpoint at bert-base-uncased were not used when initializing BertModel: ['cls.seq_relationship.weight', 'cls.predictions.transform.LayerNorm.weight', 'cls.predictions.transform.dense.weight', 'cls.seq_relationship.bias', 'cls.predictions.transform.dense.bias', 'cls.predictions.bias', 'cls.predictions.decoder.weight', 'cls.predictions.transform.LayerNorm.bias']\n",
      "- This IS expected if you are initializing BertModel from the checkpoint of a model trained on another task or with another architecture (e.g. initializing a BertForSequenceClassification model from a BertForPreTraining model).\n",
      "- This IS NOT expected if you are initializing BertModel from the checkpoint of a model that you expect to be exactly identical (initializing a BertForSequenceClassification model from a BertForSequenceClassification model).\n"
     ]
    }
   ],
   "source": [
    "Bert_model = BertModel.from_pretrained(BERT_MODEL_NAME,return_dict = True).to(device)\n",
    "Tags_df = pd.read_feather(\"Tags.feather\")"
   ]
  },
  {
   "cell_type": "code",
   "execution_count": 12,
   "metadata": {},
   "outputs": [],
   "source": [
    "class Tags_datasets(Dataset):\n",
    "    \n",
    "    def __init__(\n",
    "        self,\n",
    "        data: pd.DataFrame,\n",
    "        tokenizer: BertTokenizer,\n",
    "        max_token_len: int = 512\n",
    "    ):\n",
    "        self.data = data\n",
    "        self.tokenizer = tokenizer\n",
    "        self.max_token_len = max_token_len\n",
    "    \n",
    "    def __len__(self):\n",
    "        return len(self.data)\n",
    "    \n",
    "        \n",
    "    def __getitem__(self, index: int):\n",
    "        data_row = self.data.iloc[index]\n",
    "        labels = data_row.Label\n",
    "        tags = data_row.Tags\n",
    "        \n",
    "        encoding = self.tokenizer.encode_plus(\n",
    "            tags,\n",
    "            max_length=self.max_token_len,\n",
    "            padding=\"max_length\",\n",
    "            truncation=True,\n",
    "            return_tensors='pt',\n",
    "        )\n",
    "        \n",
    "        return dict(\n",
    "            index=index,\n",
    "            label = labels,\n",
    "            input_ids=encoding['input_ids'].flatten(),\n",
    "            attention_mask = encoding['attention_mask'].flatten()\n",
    "        )"
   ]
  },
  {
   "cell_type": "code",
   "execution_count": 13,
   "metadata": {},
   "outputs": [],
   "source": [
    "Tags_dataset = Tags_datasets(data = Tags_df,tokenizer = tokenizer, max_token_len = MAX_TOKEN_COUNT)\n",
    "Tags_dataloader = DataLoader(Tags_dataset, batch_size = 1)"
   ]
  },
  {
   "cell_type": "code",
   "execution_count": 14,
   "metadata": {},
   "outputs": [
    {
     "data": {
      "application/vnd.jupyter.widget-view+json": {
       "model_id": "3f4354626953492cb9c464235b3dbbef",
       "version_major": 2,
       "version_minor": 0
      },
      "text/plain": [
       "  0%|          | 0/674 [00:00<?, ?it/s]"
      ]
     },
     "metadata": {},
     "output_type": "display_data"
    }
   ],
   "source": [
    "tags_embeddings = {}\n",
    "\n",
    "for step,batch in tqdm(enumerate(Tags_dataloader),total = len(Tags_dataloader)):\n",
    "    label = batch['label'][0]\n",
    "    input_ids = batch['input_ids'].to(device)\n",
    "    attention_mask = batch['attention_mask'].to(device)\n",
    "    \n",
    "    with torch.no_grad():\n",
    "        output = Bert_model(input_ids,attention_mask = attention_mask)\n",
    "    tag_embeddings = output.pooler_output.detach().cpu()\n",
    "    tags_embeddings[label] = tag_embeddings\n",
    "\n",
    "\n"
   ]
  },
  {
   "cell_type": "code",
   "execution_count": 15,
   "metadata": {},
   "outputs": [],
   "source": [
    "tags_embedding = np.concatenate([tags_embeddings[key] for key in LABEL_COLUMNS_3],axis = 0)\n",
    "tags_embedding = torch.tensor(tags_embedding)"
   ]
  },
  {
   "cell_type": "code",
   "execution_count": 16,
   "metadata": {},
   "outputs": [],
   "source": [
    "tags_embedding = tags_embedding.to(device)"
   ]
  },
  {
   "cell_type": "code",
   "execution_count": 17,
   "metadata": {},
   "outputs": [],
   "source": [
    "# Contrastive learning loss funcation\n",
    "\n",
    "class ConLoss(nn.Module):\n",
    "    \n",
    "    def __init__(self, temperature = 0.1):\n",
    "        super().__init__()\n",
    "        self.temperature = temperature\n",
    "        \n",
    "    def forward(self, embeddings, label_1,label_2,label_3):\n",
    "       \n",
    "        # embeddings (batch_size,bert_hidden_layer) , labels (batch_size,num_classes)\n",
    "        similarities = F.cosine_similarity(embeddings.unsqueeze(1),embeddings.unsqueeze(0),dim=2)/self.temperature\n",
    "#         print(similarities)\n",
    "        \n",
    "        # mask\n",
    "        logits_mask = ~torch.eye(BATCH_SIZE,dtype=torch.bool).to(device)\n",
    "        labels_mask = ~torch.eye(BATCH_SIZE,dtype=torch.bool).to(device)\n",
    "\n",
    "        exp_logits = torch.exp(similarities) * logits_mask\n",
    "        loss = torch.log(exp_logits.sum(1,keepdim=True)) - similarities\n",
    "        \n",
    "        # labels \n",
    "        weight_1 = torch.matmul(label_1,label_1.T)\n",
    "        weight_2 = torch.matmul(label_2,label_2.T)\n",
    "        weight_3 = torch.matmul(label_3,label_3.T)\n",
    "\n",
    "        weight_1 = weight_1 / torch.diag(weight_1)\n",
    "        weight_1 = weight_1 * labels_mask\n",
    "        weight_1 = torch.where(weight_1!=1,torch.zeros_like(weight_1).to(device),weight_1)\n",
    "        weight_1 = weight_1/torch.sum(weight_1)\n",
    "        \n",
    "        weight_2 = weight_2 / torch.diag(weight_2)\n",
    "        weight_2 = weight_2 * labels_mask\n",
    "        weight_2 = torch.where(weight_2!=1,torch.zeros_like(weight_2).to(device),weight_2)\n",
    "        weight_2 = weight_2/torch.sum(weight_2)\n",
    "        \n",
    "        weight_3 = weight_3 / torch.diag(weight_3)\n",
    "        weight_3 = weight_3 * labels_mask\n",
    "        weight_3 = torch.where(weight_3!=1,torch.zeros_like(weight_3).to(device),weight_3)\n",
    "        weight_3 = weight_3/torch.sum(weight_3)\n",
    "        \n",
    "        weight = weight_1*0.2 + weight_2*0.3 + weight_3*0.5\n",
    "#         print(weight)\n",
    "        \n",
    "        loss = weight * loss\n",
    "        loss = torch.mean(loss)\n",
    "        return loss\n",
    "        \n"
   ]
  },
  {
   "cell_type": "code",
   "execution_count": 18,
   "metadata": {},
   "outputs": [],
   "source": [
    "class BertNetwork(nn.Module):\n",
    "\n",
    "    def __init__(self, n_classes: int,labels_embeddings: torch.Tensor, n_training_steps=None, n_warmup_steps=None):\n",
    "        super().__init__()\n",
    "        self.bert = BertModel.from_pretrained(BERT_MODEL_NAME, return_dict=True) #load the pretrained bert model\n",
    "        self.classifier = nn.Linear(self.bert.config.hidden_size, n_classes) # add a linear layer to the bert\n",
    "        self.n_training_steps = n_training_steps\n",
    "        self.n_warmup_steps = n_warmup_steps\n",
    "        self.criterion = nn.BCEWithLogitsLoss()\n",
    "        self.Weight_1 = nn.Linear(n_classes,1)\n",
    "        self.dropout = nn.Dropout(self.bert.config.hidden_dropout_prob)\n",
    "        self.batch_labels_embeddings = labels_embeddings.expand(BATCH_SIZE,n_classes,self.bert.config.hidden_size)\n",
    "        self.batch_labels_embeddings = self.batch_labels_embeddings.transpose(1, 2) # batch_size * 768 * 664\n",
    "        self.batch_labels_embeddings.requires_grad = False\n",
    "        \n",
    "    def forward(self, input_ids, attention_mask):\n",
    "        outputs = self.bert(input_ids, attention_mask=attention_mask)\n",
    "        outputs = outputs.last_hidden_state\n",
    "        \n",
    "        # label-wise attention\n",
    "        att = torch.bmm(outputs,self.batch_labels_embeddings)\n",
    "        att = F.softmax(att,dim=1)\n",
    "        joint_labels_output = torch.bmm(outputs.transpose(1,2),att)\n",
    "        joint_labels_output = F.relu(self.Weight_1(joint_labels_output).squeeze(2))\n",
    "\n",
    "        return joint_labels_output"
   ]
  },
  {
   "cell_type": "code",
   "execution_count": 19,
   "metadata": {},
   "outputs": [],
   "source": [
    "class Classifier(nn.Module):\n",
    "    \n",
    "    def __init__(self, n_classes: int ):\n",
    "        super().__init__()\n",
    "        self.classifier = nn.Linear(768,n_classes)\n",
    "        self.dropout = nn.Dropout(0.10)\n",
    "        self.criterion = nn.BCEWithLogitsLoss()\n",
    "        \n",
    "    def forward(self,embeddings,labels = None):\n",
    "        \n",
    "        output = self.classifier(self.dropout(embeddings))\n",
    "        \n",
    "        if labels is not None:\n",
    "            loss = self.criterion(output,labels)\n",
    "            output = (loss,output)\n",
    "        \n",
    "        return output"
   ]
  },
  {
   "cell_type": "code",
   "execution_count": 20,
   "metadata": {},
   "outputs": [
    {
     "name": "stderr",
     "output_type": "stream",
     "text": [
      "Some weights of the model checkpoint at bert-base-uncased were not used when initializing BertModel: ['cls.seq_relationship.weight', 'cls.predictions.transform.LayerNorm.weight', 'cls.predictions.transform.dense.weight', 'cls.seq_relationship.bias', 'cls.predictions.transform.dense.bias', 'cls.predictions.bias', 'cls.predictions.decoder.weight', 'cls.predictions.transform.LayerNorm.bias']\n",
      "- This IS expected if you are initializing BertModel from the checkpoint of a model trained on another task or with another architecture (e.g. initializing a BertForSequenceClassification model from a BertForPreTraining model).\n",
      "- This IS NOT expected if you are initializing BertModel from the checkpoint of a model that you expect to be exactly identical (initializing a BertForSequenceClassification model from a BertForSequenceClassification model).\n"
     ]
    }
   ],
   "source": [
    "model = BertNetwork(len(LABEL_COLUMNS_3),tags_embedding).to(device)\n",
    "Conloss =  ConLoss().to(device)\n",
    "classifier = Classifier(len(LABEL_COLUMNS_3)).to(device)\n",
    "# N_EPOCHS = EPOCHS\n",
    "\n",
    "# steps_per_epoch=len(train_df) // BATCH_SIZE\n",
    "# total_training_steps = steps_per_epoch * N_EPOCHS\n",
    "# warmup_steps = total_training_steps // 10\n",
    "# warmup_steps, total_training_steps"
   ]
  },
  {
   "cell_type": "code",
   "execution_count": 21,
   "metadata": {},
   "outputs": [
    {
     "name": "stderr",
     "output_type": "stream",
     "text": [
      "/root/miniconda3/lib/python3.8/site-packages/transformers/optimization.py:306: FutureWarning: This implementation of AdamW is deprecated and will be removed in a future version. Use the PyTorch implementation torch.optim.AdamW instead, or set `no_deprecation_warning=True` to disable this warning\n",
      "  warnings.warn(\n"
     ]
    },
    {
     "ename": "NameError",
     "evalue": "name 'warmup_steps' is not defined",
     "output_type": "error",
     "traceback": [
      "\u001b[0;31m---------------------------------------------------------------------------\u001b[0m",
      "\u001b[0;31mNameError\u001b[0m                                 Traceback (most recent call last)",
      "\u001b[0;32m/tmp/ipykernel_21948/221077631.py\u001b[0m in \u001b[0;36m<module>\u001b[0;34m\u001b[0m\n\u001b[1;32m      9\u001b[0m scheduler = get_linear_schedule_with_warmup(\n\u001b[1;32m     10\u001b[0m     \u001b[0moptimizer\u001b[0m\u001b[0;34m,\u001b[0m\u001b[0;34m\u001b[0m\u001b[0;34m\u001b[0m\u001b[0m\n\u001b[0;32m---> 11\u001b[0;31m     \u001b[0mnum_warmup_steps\u001b[0m\u001b[0;34m=\u001b[0m\u001b[0mwarmup_steps\u001b[0m\u001b[0;34m,\u001b[0m\u001b[0;34m\u001b[0m\u001b[0;34m\u001b[0m\u001b[0m\n\u001b[0m\u001b[1;32m     12\u001b[0m     \u001b[0mnum_training_steps\u001b[0m\u001b[0;34m=\u001b[0m\u001b[0mtotal_training_steps\u001b[0m\u001b[0;34m\u001b[0m\u001b[0;34m\u001b[0m\u001b[0m\n\u001b[1;32m     13\u001b[0m )\n",
      "\u001b[0;31mNameError\u001b[0m: name 'warmup_steps' is not defined"
     ]
    }
   ],
   "source": [
    "# optimizer = AdamW(model.parameters(), lr=2e-4)\n",
    "\n",
    "optimizer = AdamW([\n",
    "                {'params': model.parameters()},\n",
    "                {'params': classifier.parameters()}],\n",
    "                lr=1e-4\n",
    ")\n",
    "\n",
    "scheduler = get_linear_schedule_with_warmup(\n",
    "    optimizer,\n",
    "    num_warmup_steps=warmup_steps,\n",
    "    num_training_steps=total_training_steps\n",
    ")"
   ]
  },
  {
   "cell_type": "code",
   "execution_count": 21,
   "metadata": {},
   "outputs": [],
   "source": [
    "from sklearn.metrics import roc_auc_score\n",
    "from sklearn.metrics import precision_score\n",
    "\n",
    "# function for evaluating the model\n",
    "def evaluate(mydataloader):\n",
    "\n",
    "    print(\"\\nEvaluating...\")\n",
    "    #t0 = time.time()\n",
    "    # deactivate dropout layers\n",
    "    model.eval()\n",
    "    classifier.eval()\n",
    "    total_loss, total_accuracy = 0, 0\n",
    "\n",
    "    # empty list to save the model predictions\n",
    "    total_preds = []\n",
    "    total_labels = []\n",
    "\n",
    "    # iterate over batches\n",
    "    for step,batch in tqdm(enumerate(mydataloader),total=len(mydataloader),desc='Eval'):\n",
    "\n",
    "        input_ids = batch[\"input_ids\"].to(device)\n",
    "        attention_mask = batch[\"attention_mask\"].to(device)\n",
    "#         label_1 = batch['label_1'].to(device)\n",
    "#         label_2 = batch['label_2'].to(device)\n",
    "        label_3 = batch['label_3'].to(device)\n",
    "        # deactivate autograd\n",
    "        with autocast():\n",
    "            with torch.no_grad():\n",
    "                outputs = model(input_ids, attention_mask)\n",
    "#                 loss1 = Conloss(outputs,label_1=label_1,label_2=label_2,label_3=label_3)\n",
    "                loss2,outputs = classifier(outputs,label_3)\n",
    "#                 if step%1000 ==0:\n",
    "#                     print(f\"loss contrastive :{loss1}  loss classifier: {loss2}\")\n",
    "                outputs = torch.sigmoid(outputs)\n",
    "\n",
    "#                 loss = loss1 +loss2\n",
    "                loss = loss2\n",
    "                total_loss = total_loss + loss.float().item()\n",
    "\n",
    "                outputs = outputs.detach().float().cpu().numpy()\n",
    "                labels = label_3.detach().float().cpu().numpy()\n",
    "                total_preds.append(outputs)\n",
    "                total_labels.append(labels)\n",
    "\n",
    "\n",
    "    # compute the validation loss of the epoch\n",
    "    avg_loss = total_loss / len(mydataloader)\n",
    "\n",
    "    total_preds  = np.concatenate(total_preds, axis=0)\n",
    "    total_labels = np.concatenate(total_labels, axis=0)\n",
    "    model.train()\n",
    "    print(f\"Evaluate loss {total_loss / len(mydataloader)}\")\n",
    "    return avg_loss, total_preds, total_labels"
   ]
  },
  {
   "cell_type": "code",
   "execution_count": 22,
   "metadata": {},
   "outputs": [],
   "source": [
    "# function to train the model\n",
    "def train():\n",
    "    \n",
    "    now=time.strftime('%Y-%m-%d %H:%M:%S', time.localtime())\n",
    "    best_valid_loss = float('inf')\n",
    "    model.train()\n",
    "    classifier.train()\n",
    "    total_loss, total_accuracy = 0, 0\n",
    "    avg_loss = 0\n",
    "    scaler = GradScaler()\n",
    "\n",
    "    # empty list to save model predictions\n",
    "    total_preds=[]\n",
    "    # iterate over batches\n",
    "    for step,batch in tqdm(enumerate(train_dataloader),total=len(train_dataloader),desc=\"Train\"):\n",
    "        \n",
    "        if step%10000 == 0 and step!=0:\n",
    "            valid_loss,_,_ = evaluate(val_dataloader)\n",
    "            if valid_loss < best_valid_loss:\n",
    "                best_valid_loss = valid_loss\n",
    "                torch.save(model.state_dict(), f\"./model/Classfication_Contrastive_model{now}.pt\")\n",
    "        input_ids = batch[\"input_ids\"].to(device)\n",
    "        attention_mask = batch[\"attention_mask\"].to(device)\n",
    "        label_1 = batch['label_1'].to(device)\n",
    "        label_2 = batch['label_2'].to(device)\n",
    "        label_3 = batch['label_3'].to(device)  \n",
    "        if step > 0.8*len(train_dataloader):\n",
    "            with autocast():\n",
    "                outputs = model(input_ids, attention_mask)\n",
    "                loss1 = Conloss(outputs,label_1=label_1,label_2=label_2,label_3=label_3)\n",
    "                loss2,_ = classifier(outputs,label_3)\n",
    "                loss = loss1 + loss2\n",
    "\n",
    "            optimizer.zero_grad()\n",
    "            if step%100 == 0:\n",
    "                print(f\"STEP {step}: loss contrastive :{loss1}  loss classifier: {loss2}\")\n",
    "        else:\n",
    "            with autocast():\n",
    "                outputs = model(input_ids, attention_mask)\n",
    "                loss,_ = classifier(outputs,label_3)\n",
    "            optimizer.zero_grad()\n",
    "            if step%100 == 0:\n",
    "                print(f\"STEP {step}: loss classifier: {loss}\")\n",
    "        # add on to the total loss\n",
    "        total_loss = total_loss + loss.item()\n",
    "        scaler.scale(loss).backward()\n",
    "\n",
    "        scaler.unscale_(optimizer)\n",
    "        # clip the the gradients to 1.0. It helps in preventing the exploding gradient problem\n",
    "        torch.nn.utils.clip_grad_norm_(model.parameters(), 1.0)\n",
    "\n",
    "        scaler.step(optimizer)\n",
    "        scheduler.step()\n",
    "        scaler.update()\n",
    "        # model predictions are stored on GPU. So, push it to CPU\n",
    "        outputs=outputs.detach().float().cpu().numpy()\n",
    "\n",
    "        # append the model predictions\n",
    "        total_preds.append(outputs)\n",
    "\n",
    "    # compute the training loss of the epoch\n",
    "    avg_loss = total_loss / len(train_dataloader)\n",
    "    print(f\"{step}: {avg_loss}\")\n",
    "  \n",
    "\n",
    "    # predictions are in the form of (no. of batches, size of batch, no. of classes).\n",
    "    # reshape the predictions in form of (number of samples, no. of classes)\n",
    "    total_preds  = np.concatenate(total_preds, axis=0)\n",
    "\n",
    "    #returns the loss and predictions\n",
    "    return avg_loss, total_preds"
   ]
  },
  {
   "cell_type": "code",
   "execution_count": 61,
   "metadata": {
    "collapsed": true,
    "jupyter": {
     "outputs_hidden": true
    },
    "tags": []
   },
   "outputs": [
    {
     "data": {
      "application/vnd.jupyter.widget-view+json": {
       "model_id": "20a517f0777c459cbaa6de3aa3920880",
       "version_major": 2,
       "version_minor": 0
      },
      "text/plain": [
       "Train:   0%|          | 0/62484 [00:00<?, ?it/s]"
      ]
     },
     "metadata": {},
     "output_type": "display_data"
    },
    {
     "name": "stdout",
     "output_type": "stream",
     "text": [
      "STEP 0: loss classifier: 0.696835994720459\n",
      "STEP 100: loss classifier: 0.6866838335990906\n",
      "STEP 200: loss classifier: 0.6118441224098206\n",
      "STEP 300: loss classifier: 0.48675498366355896\n",
      "STEP 400: loss classifier: 0.3268370032310486\n",
      "STEP 500: loss classifier: 0.17784930765628815\n",
      "STEP 600: loss classifier: 0.07813026756048203\n",
      "STEP 700: loss classifier: 0.03694222867488861\n",
      "STEP 800: loss classifier: 0.02514052577316761\n",
      "STEP 900: loss classifier: 0.016979707404971123\n",
      "STEP 1000: loss classifier: 0.016611317172646523\n",
      "STEP 1100: loss classifier: 0.013959872536361217\n",
      "STEP 1200: loss classifier: 0.016774598509073257\n",
      "STEP 1300: loss classifier: 0.014382103458046913\n",
      "STEP 1400: loss classifier: 0.016049057245254517\n",
      "STEP 1500: loss classifier: 0.01432554330676794\n",
      "STEP 1600: loss classifier: 0.010497689247131348\n",
      "STEP 1700: loss classifier: 0.010595165193080902\n",
      "STEP 1800: loss classifier: 0.011892544105648994\n",
      "STEP 1900: loss classifier: 0.009349433705210686\n",
      "STEP 2000: loss classifier: 0.01074804738163948\n",
      "STEP 2100: loss classifier: 0.010138209909200668\n",
      "STEP 2200: loss classifier: 0.008175714872777462\n",
      "STEP 2300: loss classifier: 0.010153326205909252\n",
      "STEP 2400: loss classifier: 0.008726424537599087\n",
      "STEP 2500: loss classifier: 0.009638352319598198\n",
      "STEP 2600: loss classifier: 0.010709119960665703\n",
      "STEP 2700: loss classifier: 0.00903633888810873\n",
      "STEP 2800: loss classifier: 0.008176553063094616\n",
      "STEP 2900: loss classifier: 0.0086985994130373\n",
      "STEP 3000: loss classifier: 0.006676221266388893\n",
      "STEP 3100: loss classifier: 0.00807491410523653\n",
      "STEP 3200: loss classifier: 0.007647581398487091\n",
      "STEP 3300: loss classifier: 0.00816240906715393\n",
      "STEP 3400: loss classifier: 0.009668497368693352\n",
      "STEP 3500: loss classifier: 0.008147486485540867\n",
      "STEP 3600: loss classifier: 0.007984660565853119\n",
      "STEP 3700: loss classifier: 0.006136749871075153\n",
      "STEP 3800: loss classifier: 0.007923278957605362\n",
      "STEP 3900: loss classifier: 0.0065904464572668076\n",
      "STEP 4000: loss classifier: 0.00758230360224843\n",
      "STEP 4100: loss classifier: 0.007442403584718704\n",
      "STEP 4200: loss classifier: 0.00674830749630928\n",
      "STEP 4300: loss classifier: 0.0060998499393463135\n",
      "STEP 4400: loss classifier: 0.007389094214886427\n",
      "STEP 4500: loss classifier: 0.010489728301763535\n",
      "STEP 4600: loss classifier: 0.006396679673343897\n",
      "STEP 4700: loss classifier: 0.007226535119116306\n",
      "STEP 4800: loss classifier: 0.00613813940435648\n",
      "STEP 4900: loss classifier: 0.005790145602077246\n",
      "STEP 5000: loss classifier: 0.007148246746510267\n",
      "STEP 5100: loss classifier: 0.006478430237621069\n",
      "STEP 5200: loss classifier: 0.0074693853966891766\n",
      "STEP 5300: loss classifier: 0.00667002284899354\n",
      "STEP 5400: loss classifier: 0.00787654984742403\n",
      "STEP 5500: loss classifier: 0.005787198431789875\n",
      "STEP 5600: loss classifier: 0.005388262216001749\n",
      "STEP 5700: loss classifier: 0.00729809794574976\n",
      "STEP 5800: loss classifier: 0.007670651655644178\n",
      "STEP 5900: loss classifier: 0.006808563135564327\n",
      "STEP 6000: loss classifier: 0.007593011949211359\n",
      "STEP 6100: loss classifier: 0.0059354668483138084\n",
      "STEP 6200: loss classifier: 0.00630252156406641\n",
      "STEP 6300: loss classifier: 0.0068526905961334705\n",
      "STEP 6400: loss classifier: 0.005780452862381935\n",
      "STEP 6500: loss classifier: 0.009395117871463299\n",
      "STEP 6600: loss classifier: 0.004582063294947147\n",
      "STEP 6700: loss classifier: 0.00800416525453329\n",
      "STEP 6800: loss classifier: 0.004305997863411903\n",
      "STEP 6900: loss classifier: 0.007445793133229017\n",
      "STEP 7000: loss classifier: 0.006348583847284317\n",
      "STEP 7100: loss classifier: 0.006550201214849949\n",
      "STEP 7200: loss classifier: 0.00772358663380146\n",
      "STEP 7300: loss classifier: 0.006688691675662994\n",
      "STEP 7400: loss classifier: 0.00798765942454338\n",
      "STEP 7500: loss classifier: 0.008177923038601875\n",
      "STEP 7600: loss classifier: 0.0076224845834076405\n",
      "STEP 7700: loss classifier: 0.007842782884836197\n",
      "STEP 7800: loss classifier: 0.008326323702931404\n",
      "STEP 7900: loss classifier: 0.009267131797969341\n",
      "STEP 8000: loss classifier: 0.004858170635998249\n",
      "STEP 8100: loss classifier: 0.006299270782619715\n",
      "STEP 8200: loss classifier: 0.00766992662101984\n",
      "STEP 8300: loss classifier: 0.006228596903383732\n",
      "STEP 8400: loss classifier: 0.006321941502392292\n",
      "STEP 8500: loss classifier: 0.0044152988120913506\n",
      "STEP 8600: loss classifier: 0.004981362260878086\n",
      "STEP 8700: loss classifier: 0.006065721623599529\n",
      "STEP 8800: loss classifier: 0.0060020387172698975\n",
      "STEP 8900: loss classifier: 0.006946375127881765\n",
      "STEP 9000: loss classifier: 0.005586479790508747\n",
      "STEP 9100: loss classifier: 0.006035326048731804\n",
      "STEP 9200: loss classifier: 0.008721429854631424\n",
      "STEP 9300: loss classifier: 0.005622249562293291\n",
      "STEP 9400: loss classifier: 0.00957694835960865\n",
      "STEP 9500: loss classifier: 0.005582292098551989\n",
      "STEP 9600: loss classifier: 0.005980675108730793\n",
      "STEP 9700: loss classifier: 0.004792972933501005\n",
      "STEP 9800: loss classifier: 0.005103536415845156\n",
      "STEP 9900: loss classifier: 0.005664924159646034\n",
      "\n",
      "Evaluating...\n"
     ]
    },
    {
     "data": {
      "application/vnd.jupyter.widget-view+json": {
       "model_id": "4e2fa3b5dd554aa3a383c83c7bae59ab",
       "version_major": 2,
       "version_minor": 0
      },
      "text/plain": [
       "Eval:   0%|          | 0/1634 [00:00<?, ?it/s]"
      ]
     },
     "metadata": {},
     "output_type": "display_data"
    },
    {
     "name": "stdout",
     "output_type": "stream",
     "text": [
      "Evaluate loss 0.005978638397454486\n",
      "STEP 10000: loss classifier: 0.006370674353092909\n",
      "STEP 10100: loss classifier: 0.006044535432010889\n",
      "STEP 10200: loss classifier: 0.004869301337748766\n",
      "STEP 10300: loss classifier: 0.0069182259030640125\n",
      "STEP 10400: loss classifier: 0.00613055843859911\n",
      "STEP 10500: loss classifier: 0.00784684531390667\n",
      "STEP 10600: loss classifier: 0.0044477032497525215\n",
      "STEP 10700: loss classifier: 0.004617116414010525\n",
      "STEP 10800: loss classifier: 0.006067123729735613\n",
      "STEP 10900: loss classifier: 0.006700961384922266\n",
      "STEP 11000: loss classifier: 0.005228016991168261\n",
      "STEP 11100: loss classifier: 0.006753817666321993\n",
      "STEP 11200: loss classifier: 0.0034376299008727074\n",
      "STEP 11300: loss classifier: 0.005387620534747839\n",
      "STEP 11400: loss classifier: 0.006699678022414446\n",
      "STEP 11500: loss classifier: 0.006231413222849369\n",
      "STEP 11600: loss classifier: 0.006203899625688791\n",
      "STEP 11700: loss classifier: 0.005159177351742983\n",
      "STEP 11800: loss classifier: 0.00621421355754137\n",
      "STEP 11900: loss classifier: 0.006256741005927324\n",
      "STEP 12000: loss classifier: 0.006987581495195627\n",
      "STEP 12100: loss classifier: 0.006613045930862427\n",
      "STEP 12200: loss classifier: 0.00461264094337821\n",
      "STEP 12300: loss classifier: 0.00458343792706728\n",
      "STEP 12400: loss classifier: 0.005344840232282877\n",
      "STEP 12500: loss classifier: 0.006436287425458431\n",
      "STEP 12600: loss classifier: 0.006436442490667105\n",
      "STEP 12700: loss classifier: 0.007331341039389372\n",
      "STEP 12800: loss classifier: 0.004839278757572174\n",
      "STEP 12900: loss classifier: 0.0049480111338198185\n",
      "STEP 13000: loss classifier: 0.004482410382479429\n",
      "STEP 13100: loss classifier: 0.005241946782916784\n",
      "STEP 13200: loss classifier: 0.0053423685021698475\n",
      "STEP 13300: loss classifier: 0.006009876262396574\n",
      "STEP 13400: loss classifier: 0.0058921040035784245\n",
      "STEP 13500: loss classifier: 0.006639985833317041\n",
      "STEP 13600: loss classifier: 0.006738618481904268\n",
      "STEP 13700: loss classifier: 0.005737491883337498\n",
      "STEP 13800: loss classifier: 0.006406327243894339\n",
      "STEP 13900: loss classifier: 0.003664756892248988\n",
      "STEP 14000: loss classifier: 0.005533750168979168\n",
      "STEP 14100: loss classifier: 0.006457940209656954\n",
      "STEP 14200: loss classifier: 0.005767563357949257\n",
      "STEP 14300: loss classifier: 0.005561275407671928\n",
      "STEP 14400: loss classifier: 0.005668284371495247\n",
      "STEP 14500: loss classifier: 0.005938288755714893\n",
      "STEP 14600: loss classifier: 0.004844618495553732\n",
      "STEP 14700: loss classifier: 0.005986813455820084\n",
      "STEP 14800: loss classifier: 0.004533774219453335\n",
      "STEP 14900: loss classifier: 0.006943640764802694\n",
      "STEP 15000: loss classifier: 0.005367659963667393\n",
      "STEP 15100: loss classifier: 0.005771929863840342\n",
      "STEP 15200: loss classifier: 0.0059357392601668835\n",
      "STEP 15300: loss classifier: 0.006980855483561754\n",
      "STEP 15400: loss classifier: 0.0060247150249779224\n",
      "STEP 15500: loss classifier: 0.0055620851926505566\n",
      "STEP 15600: loss classifier: 0.00540061853826046\n",
      "STEP 15700: loss classifier: 0.005604205187410116\n",
      "STEP 15800: loss classifier: 0.006228580139577389\n",
      "STEP 15900: loss classifier: 0.0037600744981318712\n",
      "STEP 16000: loss classifier: 0.005337283946573734\n",
      "STEP 16100: loss classifier: 0.004194646142423153\n",
      "STEP 16200: loss classifier: 0.005112743470817804\n",
      "STEP 16300: loss classifier: 0.005921071860939264\n",
      "STEP 16400: loss classifier: 0.005704662762582302\n",
      "STEP 16500: loss classifier: 0.0050417049787938595\n",
      "STEP 16600: loss classifier: 0.007451457902789116\n",
      "STEP 16700: loss classifier: 0.003923988901078701\n",
      "STEP 16800: loss classifier: 0.003656941931694746\n",
      "STEP 16900: loss classifier: 0.005384194664657116\n",
      "STEP 17000: loss classifier: 0.007111034356057644\n",
      "STEP 17100: loss classifier: 0.005127912852913141\n",
      "STEP 17200: loss classifier: 0.004337353631854057\n",
      "STEP 17300: loss classifier: 0.004081185907125473\n",
      "STEP 17400: loss classifier: 0.004407048225402832\n",
      "STEP 17500: loss classifier: 0.005544977728277445\n",
      "STEP 17600: loss classifier: 0.004722976591438055\n",
      "STEP 17700: loss classifier: 0.007184892892837524\n",
      "STEP 17800: loss classifier: 0.0054647731594741344\n",
      "STEP 17900: loss classifier: 0.006225351709872484\n",
      "STEP 18000: loss classifier: 0.007295365445315838\n",
      "STEP 18100: loss classifier: 0.004411676898598671\n",
      "STEP 18200: loss classifier: 0.0057287076488137245\n",
      "STEP 18300: loss classifier: 0.004972471855580807\n",
      "STEP 18400: loss classifier: 0.006447776686400175\n",
      "STEP 18500: loss classifier: 0.0056025683879852295\n",
      "STEP 18600: loss classifier: 0.005233470816165209\n",
      "STEP 18700: loss classifier: 0.006477655377238989\n",
      "STEP 18800: loss classifier: 0.007829348556697369\n",
      "STEP 18900: loss classifier: 0.005265354178845882\n",
      "STEP 19000: loss classifier: 0.005822279024869204\n",
      "STEP 19100: loss classifier: 0.004459199961274862\n",
      "STEP 19200: loss classifier: 0.005465223453938961\n",
      "STEP 19300: loss classifier: 0.007887642830610275\n",
      "STEP 19400: loss classifier: 0.004004713613539934\n",
      "STEP 19500: loss classifier: 0.006084507796913385\n",
      "STEP 19600: loss classifier: 0.0037677979562431574\n",
      "STEP 19700: loss classifier: 0.0052426597103476524\n",
      "STEP 19800: loss classifier: 0.006140945013612509\n",
      "STEP 19900: loss classifier: 0.005283353850245476\n",
      "\n",
      "Evaluating...\n"
     ]
    },
    {
     "data": {
      "application/vnd.jupyter.widget-view+json": {
       "model_id": "47b1dd1604c8440badbee4311cce6d94",
       "version_major": 2,
       "version_minor": 0
      },
      "text/plain": [
       "Eval:   0%|          | 0/1634 [00:00<?, ?it/s]"
      ]
     },
     "metadata": {},
     "output_type": "display_data"
    },
    {
     "name": "stdout",
     "output_type": "stream",
     "text": [
      "Evaluate loss 0.005428622953959648\n",
      "STEP 20000: loss classifier: 0.005561721045523882\n",
      "STEP 20100: loss classifier: 0.005197197198867798\n",
      "STEP 20200: loss classifier: 0.007044336758553982\n",
      "STEP 20300: loss classifier: 0.003769069677218795\n",
      "STEP 20400: loss classifier: 0.006686290726065636\n",
      "STEP 20500: loss classifier: 0.0061054350808262825\n",
      "STEP 20600: loss classifier: 0.0033906998578459024\n",
      "STEP 20700: loss classifier: 0.008492987602949142\n",
      "STEP 20800: loss classifier: 0.005174014717340469\n",
      "STEP 20900: loss classifier: 0.004294730722904205\n",
      "STEP 21000: loss classifier: 0.0052061243914067745\n",
      "STEP 21100: loss classifier: 0.005837242119014263\n",
      "STEP 21200: loss classifier: 0.005567563232034445\n",
      "STEP 21300: loss classifier: 0.005708690732717514\n",
      "STEP 21400: loss classifier: 0.005733351688832045\n",
      "STEP 21500: loss classifier: 0.006456073839217424\n",
      "STEP 21600: loss classifier: 0.005778762511909008\n",
      "STEP 21700: loss classifier: 0.006687090266495943\n",
      "STEP 21800: loss classifier: 0.005479385145008564\n",
      "STEP 21900: loss classifier: 0.004080928396433592\n",
      "STEP 22000: loss classifier: 0.0035778756719082594\n",
      "STEP 22100: loss classifier: 0.004199963063001633\n",
      "STEP 22200: loss classifier: 0.00489638838917017\n",
      "STEP 22300: loss classifier: 0.004282327368855476\n",
      "STEP 22400: loss classifier: 0.005659232381731272\n",
      "STEP 22500: loss classifier: 0.004941856954246759\n",
      "STEP 22600: loss classifier: 0.005080014001578093\n",
      "STEP 22700: loss classifier: 0.004600103944540024\n",
      "STEP 22800: loss classifier: 0.005710792727768421\n",
      "STEP 22900: loss classifier: 0.004231057595461607\n",
      "STEP 23000: loss classifier: 0.007718195207417011\n",
      "STEP 23100: loss classifier: 0.006654681637883186\n",
      "STEP 23200: loss classifier: 0.005602613091468811\n",
      "STEP 23300: loss classifier: 0.003810025053098798\n",
      "STEP 23400: loss classifier: 0.0058007678017020226\n",
      "STEP 23500: loss classifier: 0.007253507152199745\n",
      "STEP 23600: loss classifier: 0.008191549219191074\n",
      "STEP 23700: loss classifier: 0.004144445061683655\n",
      "STEP 23800: loss classifier: 0.0046382201835513115\n",
      "STEP 23900: loss classifier: 0.003791005350649357\n",
      "STEP 24000: loss classifier: 0.003520010272040963\n",
      "STEP 24100: loss classifier: 0.004047025460749865\n",
      "STEP 24200: loss classifier: 0.005747747141867876\n",
      "STEP 24300: loss classifier: 0.004573129583150148\n",
      "STEP 24400: loss classifier: 0.0031539846677333117\n",
      "STEP 24500: loss classifier: 0.007724416442215443\n",
      "STEP 24600: loss classifier: 0.005404445808380842\n",
      "STEP 24700: loss classifier: 0.004332118667662144\n",
      "STEP 24800: loss classifier: 0.006444107741117477\n",
      "STEP 24900: loss classifier: 0.0046431939117610455\n",
      "STEP 25000: loss classifier: 0.0038615751545876265\n",
      "STEP 25100: loss classifier: 0.0052778092212975025\n",
      "STEP 25200: loss classifier: 0.004371931776404381\n",
      "STEP 25300: loss classifier: 0.003978566732257605\n",
      "STEP 25400: loss classifier: 0.004922532010823488\n",
      "STEP 25500: loss classifier: 0.0052312156185507774\n",
      "STEP 25600: loss classifier: 0.004289592616260052\n",
      "STEP 25700: loss classifier: 0.003949606325477362\n",
      "STEP 25800: loss classifier: 0.0034922424238175154\n",
      "STEP 25900: loss classifier: 0.006118575111031532\n",
      "STEP 26000: loss classifier: 0.005250994581729174\n",
      "STEP 26100: loss classifier: 0.004620015621185303\n",
      "STEP 26200: loss classifier: 0.0047282874584198\n",
      "STEP 26300: loss classifier: 0.003956655506044626\n",
      "STEP 26400: loss classifier: 0.005234906915575266\n",
      "STEP 26500: loss classifier: 0.006705521605908871\n",
      "STEP 26600: loss classifier: 0.005090649239718914\n",
      "STEP 26700: loss classifier: 0.004888318479061127\n",
      "STEP 26800: loss classifier: 0.004898646380752325\n",
      "STEP 26900: loss classifier: 0.002875020494684577\n",
      "STEP 27000: loss classifier: 0.004878207575529814\n",
      "STEP 27100: loss classifier: 0.004657316952943802\n",
      "STEP 27200: loss classifier: 0.004795239306986332\n",
      "STEP 27300: loss classifier: 0.005038803908973932\n",
      "STEP 27400: loss classifier: 0.0066841463558375835\n",
      "STEP 27500: loss classifier: 0.0048490106128156185\n",
      "STEP 27600: loss classifier: 0.004030557349324226\n",
      "STEP 27700: loss classifier: 0.005887396167963743\n",
      "STEP 27800: loss classifier: 0.003867127001285553\n",
      "STEP 27900: loss classifier: 0.006944404914975166\n",
      "STEP 28000: loss classifier: 0.005302702076733112\n",
      "STEP 28100: loss classifier: 0.00682843429967761\n",
      "STEP 28200: loss classifier: 0.004711374640464783\n",
      "STEP 28300: loss classifier: 0.0052117155864834785\n",
      "STEP 28400: loss classifier: 0.005375707056373358\n",
      "STEP 28500: loss classifier: 0.005348553415387869\n",
      "STEP 28600: loss classifier: 0.006224936340004206\n",
      "STEP 28700: loss classifier: 0.006907095201313496\n",
      "STEP 28800: loss classifier: 0.0046823532320559025\n",
      "STEP 28900: loss classifier: 0.005114270374178886\n",
      "STEP 29000: loss classifier: 0.003822267521172762\n",
      "STEP 29100: loss classifier: 0.0034234831109642982\n",
      "STEP 29200: loss classifier: 0.005590865388512611\n",
      "STEP 29300: loss classifier: 0.005301794968545437\n",
      "STEP 29400: loss classifier: 0.004734467249363661\n",
      "STEP 29500: loss classifier: 0.0039619873277843\n",
      "STEP 29600: loss classifier: 0.005202058237046003\n",
      "STEP 29700: loss classifier: 0.0051490445621311665\n",
      "STEP 29800: loss classifier: 0.004835295956581831\n",
      "STEP 29900: loss classifier: 0.005026470869779587\n",
      "\n",
      "Evaluating...\n"
     ]
    },
    {
     "data": {
      "application/vnd.jupyter.widget-view+json": {
       "model_id": "b03e9f54c4604c00a5a195904443a202",
       "version_major": 2,
       "version_minor": 0
      },
      "text/plain": [
       "Eval:   0%|          | 0/1634 [00:00<?, ?it/s]"
      ]
     },
     "metadata": {},
     "output_type": "display_data"
    },
    {
     "name": "stdout",
     "output_type": "stream",
     "text": [
      "Evaluate loss 0.005170335033919886\n",
      "STEP 30000: loss classifier: 0.0058003924787044525\n",
      "STEP 30100: loss classifier: 0.004046924877911806\n",
      "STEP 30200: loss classifier: 0.0043790386989712715\n",
      "STEP 30300: loss classifier: 0.0035818128380924463\n",
      "STEP 30400: loss classifier: 0.004240267910063267\n",
      "STEP 30500: loss classifier: 0.004001943860203028\n",
      "STEP 30600: loss classifier: 0.006408420391380787\n",
      "STEP 30700: loss classifier: 0.0050154561176896095\n",
      "STEP 30800: loss classifier: 0.005374009255319834\n",
      "STEP 30900: loss classifier: 0.005669669713824987\n",
      "STEP 31000: loss classifier: 0.0058445860631763935\n",
      "STEP 31100: loss classifier: 0.00479606119915843\n",
      "STEP 31200: loss classifier: 0.006175150163471699\n",
      "STEP 31300: loss classifier: 0.0051244087517261505\n",
      "STEP 31400: loss classifier: 0.005372172221541405\n",
      "STEP 31500: loss classifier: 0.004675024654716253\n",
      "STEP 31600: loss classifier: 0.005710679572075605\n",
      "STEP 31700: loss classifier: 0.0062867156229913235\n",
      "STEP 31800: loss classifier: 0.005522147286683321\n",
      "STEP 31900: loss classifier: 0.003345641540363431\n",
      "STEP 32000: loss classifier: 0.005143478512763977\n",
      "STEP 32100: loss classifier: 0.004450807347893715\n",
      "STEP 32200: loss classifier: 0.0066324081271886826\n",
      "STEP 32300: loss classifier: 0.005227567162364721\n",
      "STEP 32400: loss classifier: 0.004884757101535797\n",
      "STEP 32500: loss classifier: 0.006395162548869848\n",
      "STEP 32600: loss classifier: 0.006289844401180744\n",
      "STEP 32700: loss classifier: 0.005686857271939516\n",
      "STEP 32800: loss classifier: 0.00470037991181016\n",
      "STEP 32900: loss classifier: 0.0049056303687393665\n",
      "STEP 33000: loss classifier: 0.005895070265978575\n",
      "STEP 33100: loss classifier: 0.0047844164073467255\n",
      "STEP 33200: loss classifier: 0.004979337565600872\n",
      "STEP 33300: loss classifier: 0.003952105063945055\n",
      "STEP 33400: loss classifier: 0.004638675134629011\n",
      "STEP 33500: loss classifier: 0.003612713422626257\n",
      "STEP 33600: loss classifier: 0.0037489603273570538\n",
      "STEP 33700: loss classifier: 0.0052790408954024315\n",
      "STEP 33800: loss classifier: 0.00476720230653882\n",
      "STEP 33900: loss classifier: 0.005183210596442223\n",
      "STEP 34000: loss classifier: 0.005612766835838556\n",
      "STEP 34100: loss classifier: 0.004834998399019241\n",
      "STEP 34200: loss classifier: 0.00609437795355916\n",
      "STEP 34300: loss classifier: 0.005277711432427168\n",
      "STEP 34400: loss classifier: 0.0042851888574659824\n",
      "STEP 34500: loss classifier: 0.005533432587981224\n",
      "STEP 34600: loss classifier: 0.004334989003837109\n",
      "STEP 34700: loss classifier: 0.0030151992104947567\n",
      "STEP 34800: loss classifier: 0.005406516138464212\n",
      "STEP 34900: loss classifier: 0.005357218906283379\n",
      "STEP 35000: loss classifier: 0.00434885686263442\n",
      "STEP 35100: loss classifier: 0.004373197443783283\n",
      "STEP 35200: loss classifier: 0.005665881093591452\n",
      "STEP 35300: loss classifier: 0.002542787929996848\n",
      "STEP 35400: loss classifier: 0.004389156121760607\n",
      "STEP 35500: loss classifier: 0.0038492369931191206\n",
      "STEP 35600: loss classifier: 0.006722982041537762\n",
      "STEP 35700: loss classifier: 0.003720942186191678\n",
      "STEP 35800: loss classifier: 0.005846720654517412\n",
      "STEP 35900: loss classifier: 0.00550200417637825\n",
      "STEP 36000: loss classifier: 0.004294583573937416\n",
      "STEP 36100: loss classifier: 0.004659851081669331\n",
      "STEP 36200: loss classifier: 0.005774801596999168\n",
      "STEP 36300: loss classifier: 0.0038637539837509394\n",
      "STEP 36400: loss classifier: 0.005657244473695755\n",
      "STEP 36500: loss classifier: 0.0027448248583823442\n",
      "STEP 36600: loss classifier: 0.004130633547902107\n",
      "STEP 36700: loss classifier: 0.006481386721134186\n",
      "STEP 36800: loss classifier: 0.004940988030284643\n",
      "STEP 36900: loss classifier: 0.006146320141851902\n",
      "STEP 37000: loss classifier: 0.005233333446085453\n",
      "STEP 37100: loss classifier: 0.004800212569534779\n",
      "STEP 37200: loss classifier: 0.0051123108714818954\n",
      "STEP 37300: loss classifier: 0.004427738022059202\n",
      "STEP 37400: loss classifier: 0.005126240663230419\n",
      "STEP 37500: loss classifier: 0.008066289126873016\n",
      "STEP 37600: loss classifier: 0.0038796004373580217\n",
      "STEP 37700: loss classifier: 0.005342354066669941\n",
      "STEP 37800: loss classifier: 0.005436602979898453\n",
      "STEP 37900: loss classifier: 0.004056695383042097\n",
      "STEP 38000: loss classifier: 0.005691207945346832\n",
      "STEP 38100: loss classifier: 0.004943819250911474\n",
      "STEP 38200: loss classifier: 0.004899316933006048\n",
      "STEP 38300: loss classifier: 0.0049942536279559135\n",
      "STEP 38400: loss classifier: 0.005837162956595421\n",
      "STEP 38500: loss classifier: 0.003985138610005379\n",
      "STEP 38600: loss classifier: 0.00553766917437315\n",
      "STEP 38700: loss classifier: 0.0056899008341133595\n",
      "STEP 38800: loss classifier: 0.005603116936981678\n",
      "STEP 38900: loss classifier: 0.0050512016750872135\n",
      "STEP 39000: loss classifier: 0.004289298318326473\n",
      "STEP 39100: loss classifier: 0.00603897450491786\n",
      "STEP 39200: loss classifier: 0.005138810724020004\n",
      "STEP 39300: loss classifier: 0.005673320963978767\n",
      "STEP 39400: loss classifier: 0.004241417162120342\n",
      "STEP 39500: loss classifier: 0.005325743928551674\n",
      "STEP 39600: loss classifier: 0.0038424255326390266\n",
      "STEP 39700: loss classifier: 0.004375151824206114\n",
      "STEP 39800: loss classifier: 0.003850132692605257\n",
      "STEP 39900: loss classifier: 0.005144168622791767\n",
      "\n",
      "Evaluating...\n"
     ]
    },
    {
     "data": {
      "application/vnd.jupyter.widget-view+json": {
       "model_id": "5cd4bb21bda54e2dadbd5ce72d8c7275",
       "version_major": 2,
       "version_minor": 0
      },
      "text/plain": [
       "Eval:   0%|          | 0/1634 [00:00<?, ?it/s]"
      ]
     },
     "metadata": {},
     "output_type": "display_data"
    },
    {
     "name": "stdout",
     "output_type": "stream",
     "text": [
      "Evaluate loss 0.004976469489479052\n",
      "STEP 40000: loss classifier: 0.005623955745249987\n",
      "STEP 40100: loss classifier: 0.005047837272286415\n",
      "STEP 40200: loss classifier: 0.0053216200321912766\n",
      "STEP 40300: loss classifier: 0.0049312240444123745\n",
      "STEP 40400: loss classifier: 0.005876623559743166\n",
      "STEP 40500: loss classifier: 0.004297416657209396\n",
      "STEP 40600: loss classifier: 0.005449454765766859\n",
      "STEP 40700: loss classifier: 0.006088507827371359\n",
      "STEP 40800: loss classifier: 0.0048995064571499825\n",
      "STEP 40900: loss classifier: 0.004243119619786739\n",
      "STEP 41000: loss classifier: 0.005238858051598072\n",
      "STEP 41100: loss classifier: 0.004821889102458954\n",
      "STEP 41200: loss classifier: 0.0054689254611730576\n",
      "STEP 41300: loss classifier: 0.004065410699695349\n",
      "STEP 41400: loss classifier: 0.004671755712479353\n",
      "STEP 41500: loss classifier: 0.004774031694978476\n",
      "STEP 41600: loss classifier: 0.004659207072108984\n",
      "STEP 41700: loss classifier: 0.005677947774529457\n",
      "STEP 41800: loss classifier: 0.004407290834933519\n",
      "STEP 41900: loss classifier: 0.0037997220642864704\n",
      "STEP 42000: loss classifier: 0.007250058930367231\n",
      "STEP 42100: loss classifier: 0.006173169706016779\n",
      "STEP 42200: loss classifier: 0.005277959629893303\n",
      "STEP 42300: loss classifier: 0.004829140845686197\n",
      "STEP 42400: loss classifier: 0.0038746874779462814\n",
      "STEP 42500: loss classifier: 0.0050084954127669334\n",
      "STEP 42600: loss classifier: 0.006741862278431654\n",
      "STEP 42700: loss classifier: 0.006328442599624395\n",
      "STEP 42800: loss classifier: 0.004784449469298124\n",
      "STEP 42900: loss classifier: 0.003124586306512356\n",
      "STEP 43000: loss classifier: 0.004383784253150225\n",
      "STEP 43100: loss classifier: 0.004001924768090248\n",
      "STEP 43200: loss classifier: 0.004062570631504059\n",
      "STEP 43300: loss classifier: 0.004678667057305574\n",
      "STEP 43400: loss classifier: 0.00524803576990962\n",
      "STEP 43500: loss classifier: 0.0038449345156550407\n",
      "STEP 43600: loss classifier: 0.0048113418743014336\n",
      "STEP 43700: loss classifier: 0.005533873103559017\n",
      "STEP 43800: loss classifier: 0.003738419385626912\n",
      "STEP 43900: loss classifier: 0.004671643488109112\n",
      "STEP 44000: loss classifier: 0.005123638082295656\n",
      "STEP 44100: loss classifier: 0.004327801987528801\n",
      "STEP 44200: loss classifier: 0.005744331981986761\n",
      "STEP 44300: loss classifier: 0.0056677162647247314\n",
      "STEP 44400: loss classifier: 0.005728292744606733\n",
      "STEP 44500: loss classifier: 0.0064046927727758884\n",
      "STEP 44600: loss classifier: 0.004844392649829388\n",
      "STEP 44700: loss classifier: 0.004800654016435146\n",
      "STEP 44800: loss classifier: 0.005422941874712706\n",
      "STEP 44900: loss classifier: 0.004759997129440308\n",
      "STEP 45000: loss classifier: 0.004726325161755085\n",
      "STEP 45100: loss classifier: 0.004785842727869749\n",
      "STEP 45200: loss classifier: 0.005189035087823868\n",
      "STEP 45300: loss classifier: 0.004507387522608042\n",
      "STEP 45400: loss classifier: 0.004289870150387287\n",
      "STEP 45500: loss classifier: 0.005402673035860062\n",
      "STEP 45600: loss classifier: 0.004416205454617739\n",
      "STEP 45700: loss classifier: 0.006231287494301796\n",
      "STEP 45800: loss classifier: 0.004537696484476328\n",
      "STEP 45900: loss classifier: 0.004414163995534182\n",
      "STEP 46000: loss classifier: 0.0035388246178627014\n",
      "STEP 46100: loss classifier: 0.0059935892932116985\n",
      "STEP 46200: loss classifier: 0.0063190096989274025\n",
      "STEP 46300: loss classifier: 0.003553189570084214\n",
      "STEP 46400: loss classifier: 0.004773092921823263\n",
      "STEP 46500: loss classifier: 0.004118341952562332\n",
      "STEP 46600: loss classifier: 0.00404213136062026\n",
      "STEP 46700: loss classifier: 0.0035382374189794064\n",
      "STEP 46800: loss classifier: 0.006274021230638027\n",
      "STEP 46900: loss classifier: 0.005786460358649492\n",
      "STEP 47000: loss classifier: 0.00481011625379324\n",
      "STEP 47100: loss classifier: 0.004180658143013716\n",
      "STEP 47200: loss classifier: 0.004235109314322472\n",
      "STEP 47300: loss classifier: 0.004632176365703344\n",
      "STEP 47400: loss classifier: 0.0059771002270281315\n",
      "STEP 47500: loss classifier: 0.003807725850492716\n",
      "STEP 47600: loss classifier: 0.004718865267932415\n",
      "STEP 47700: loss classifier: 0.004986891523003578\n",
      "STEP 47800: loss classifier: 0.004833942279219627\n",
      "STEP 47900: loss classifier: 0.0031272845808416605\n",
      "STEP 48000: loss classifier: 0.006393514107912779\n",
      "STEP 48100: loss classifier: 0.004713825415819883\n",
      "STEP 48200: loss classifier: 0.004033091478049755\n",
      "STEP 48300: loss classifier: 0.004160599317401648\n",
      "STEP 48400: loss classifier: 0.0045930189080536366\n",
      "STEP 48500: loss classifier: 0.004826143383979797\n",
      "STEP 48600: loss classifier: 0.0050921449437737465\n",
      "STEP 48700: loss classifier: 0.005007462110370398\n",
      "STEP 48800: loss classifier: 0.003729230957105756\n",
      "STEP 48900: loss classifier: 0.004611112643033266\n",
      "STEP 49000: loss classifier: 0.004477670881897211\n",
      "STEP 49100: loss classifier: 0.004932930693030357\n",
      "STEP 49200: loss classifier: 0.003992502111941576\n",
      "STEP 49300: loss classifier: 0.00553266704082489\n",
      "STEP 49400: loss classifier: 0.0053373463451862335\n",
      "STEP 49500: loss classifier: 0.003597153350710869\n",
      "STEP 49600: loss classifier: 0.004426886793226004\n",
      "STEP 49700: loss classifier: 0.0062082018703222275\n",
      "STEP 49800: loss classifier: 0.004570418503135443\n",
      "STEP 49900: loss classifier: 0.00446527823805809\n",
      "\n",
      "Evaluating...\n"
     ]
    },
    {
     "data": {
      "application/vnd.jupyter.widget-view+json": {
       "model_id": "5da6e67ca67b4c67b40efec27cc7c4d9",
       "version_major": 2,
       "version_minor": 0
      },
      "text/plain": [
       "Eval:   0%|          | 0/1634 [00:00<?, ?it/s]"
      ]
     },
     "metadata": {},
     "output_type": "display_data"
    },
    {
     "name": "stdout",
     "output_type": "stream",
     "text": [
      "Evaluate loss 0.004830921212988683\n",
      "STEP 50000: loss contrastive :0.0024824112188071012  loss classifier: 0.0050393156707286835\n",
      "STEP 50100: loss contrastive :0.002372601069509983  loss classifier: 0.004967344459146261\n",
      "STEP 50200: loss contrastive :0.002595453057438135  loss classifier: 0.006768746301531792\n",
      "STEP 50300: loss contrastive :0.00215713819488883  loss classifier: 0.00464751198887825\n",
      "STEP 50400: loss contrastive :0.002271677367389202  loss classifier: 0.003812925424426794\n",
      "STEP 50500: loss contrastive :0.0020808596163988113  loss classifier: 0.004746583290398121\n",
      "STEP 50600: loss contrastive :0.0028657400980591774  loss classifier: 0.0035457215271890163\n",
      "STEP 50700: loss contrastive :0.0022403262555599213  loss classifier: 0.00668055284768343\n",
      "STEP 50800: loss contrastive :0.002136874245479703  loss classifier: 0.004098310600966215\n",
      "STEP 50900: loss contrastive :0.0024957910645753145  loss classifier: 0.007210681680589914\n",
      "STEP 51000: loss contrastive :0.0027286240365356207  loss classifier: 0.005223391577601433\n",
      "STEP 51100: loss contrastive :0.002206749515607953  loss classifier: 0.004513265565037727\n",
      "STEP 51200: loss contrastive :0.002385334111750126  loss classifier: 0.005760758649557829\n",
      "STEP 51300: loss contrastive :0.0022555373143404722  loss classifier: 0.004094215575605631\n",
      "STEP 51400: loss contrastive :0.002649107715114951  loss classifier: 0.005123937036842108\n",
      "STEP 51500: loss contrastive :0.0025665229186415672  loss classifier: 0.005419534165412188\n",
      "STEP 51600: loss contrastive :0.002097729127854109  loss classifier: 0.003226783825084567\n",
      "STEP 51700: loss contrastive :0.0021939005237072706  loss classifier: 0.004998588468879461\n",
      "STEP 51800: loss contrastive :0.002412538044154644  loss classifier: 0.003975996281951666\n",
      "STEP 51900: loss contrastive :0.0024268347769975662  loss classifier: 0.00512903044000268\n",
      "STEP 52000: loss contrastive :0.0021838857792317867  loss classifier: 0.0041566709987819195\n",
      "STEP 52100: loss contrastive :0.0024609605316072702  loss classifier: 0.0060095833614468575\n",
      "STEP 52200: loss contrastive :0.002377724274992943  loss classifier: 0.0048066675662994385\n",
      "STEP 52300: loss contrastive :0.0024460211861878633  loss classifier: 0.004699699580669403\n",
      "STEP 52400: loss contrastive :0.0026455451734364033  loss classifier: 0.005505440291017294\n",
      "STEP 52500: loss contrastive :0.002208720427006483  loss classifier: 0.006418060045689344\n",
      "STEP 52600: loss contrastive :0.002214837586507201  loss classifier: 0.006672979798167944\n",
      "STEP 52700: loss contrastive :0.0022729281336069107  loss classifier: 0.005998889449983835\n",
      "STEP 52800: loss contrastive :0.0022834870032966137  loss classifier: 0.005693591665476561\n",
      "STEP 52900: loss contrastive :0.0022981232032179832  loss classifier: 0.003916449844837189\n",
      "STEP 53000: loss contrastive :0.0022423849441111088  loss classifier: 0.004423697013407946\n",
      "STEP 53100: loss contrastive :0.0024345675483345985  loss classifier: 0.00600276468321681\n",
      "STEP 53200: loss contrastive :0.002030382864177227  loss classifier: 0.004547765478491783\n",
      "STEP 53300: loss contrastive :0.002251845318824053  loss classifier: 0.004183314274996519\n",
      "STEP 53400: loss contrastive :0.0021827234886586666  loss classifier: 0.005576568190008402\n",
      "STEP 53500: loss contrastive :0.0020450628362596035  loss classifier: 0.0048715765587985516\n",
      "STEP 53600: loss contrastive :0.0024848065804690123  loss classifier: 0.003695782972499728\n",
      "STEP 53700: loss contrastive :0.002410006010904908  loss classifier: 0.004535098094493151\n",
      "STEP 53800: loss contrastive :0.002119743498042226  loss classifier: 0.004498994909226894\n",
      "STEP 53900: loss contrastive :0.002556893276050687  loss classifier: 0.0055527715012431145\n",
      "STEP 54000: loss contrastive :0.002050182316452265  loss classifier: 0.00558108277618885\n",
      "STEP 54100: loss contrastive :0.002027050592005253  loss classifier: 0.0045760213397443295\n",
      "STEP 54200: loss contrastive :0.002245655283331871  loss classifier: 0.005369960330426693\n",
      "STEP 54300: loss contrastive :0.002054007025435567  loss classifier: 0.005160431377589703\n",
      "STEP 54400: loss contrastive :0.002033174503594637  loss classifier: 0.004498220980167389\n",
      "STEP 54500: loss contrastive :0.002357521327212453  loss classifier: 0.004172189626842737\n",
      "STEP 54600: loss contrastive :0.001819772645831108  loss classifier: 0.0051721083000302315\n",
      "STEP 54700: loss contrastive :0.002140736673027277  loss classifier: 0.006828643847256899\n",
      "STEP 54800: loss contrastive :0.002234802348539233  loss classifier: 0.0036403245758265257\n",
      "STEP 54900: loss contrastive :0.002263191621750593  loss classifier: 0.004274972248822451\n",
      "STEP 55000: loss contrastive :0.002349111018702388  loss classifier: 0.005397215485572815\n",
      "STEP 55100: loss contrastive :0.002571933902800083  loss classifier: 0.005143421236425638\n",
      "STEP 55200: loss contrastive :0.0020263316109776497  loss classifier: 0.004228850360959768\n",
      "STEP 55300: loss contrastive :0.002289771568030119  loss classifier: 0.006248033605515957\n",
      "STEP 55400: loss contrastive :0.0023209061473608017  loss classifier: 0.002215286251157522\n",
      "STEP 55500: loss contrastive :0.0028921575285494328  loss classifier: 0.005057895556092262\n",
      "STEP 55600: loss contrastive :0.002579144202172756  loss classifier: 0.006772161927074194\n",
      "STEP 55700: loss contrastive :0.002136120805516839  loss classifier: 0.0032909216824918985\n",
      "STEP 55800: loss contrastive :0.002415255643427372  loss classifier: 0.004608591552823782\n",
      "STEP 55900: loss contrastive :0.002235401188954711  loss classifier: 0.0065091499127447605\n",
      "STEP 56000: loss contrastive :0.0023696860298514366  loss classifier: 0.005054991226643324\n",
      "STEP 56100: loss contrastive :0.0024068839848041534  loss classifier: 0.005467679817229509\n",
      "STEP 56200: loss contrastive :0.0021776414941996336  loss classifier: 0.00532527407631278\n",
      "STEP 56300: loss contrastive :0.00274514383636415  loss classifier: 0.005229877308011055\n",
      "STEP 56400: loss contrastive :0.0026862751692533493  loss classifier: 0.0036490820348262787\n",
      "STEP 56500: loss contrastive :0.0022244343999773264  loss classifier: 0.0033077572006732225\n",
      "STEP 56600: loss contrastive :0.002118996111676097  loss classifier: 0.005503421649336815\n",
      "STEP 56700: loss contrastive :0.002437630435451865  loss classifier: 0.004935895558446646\n",
      "STEP 56800: loss contrastive :0.0021853609941899776  loss classifier: 0.005629029590636492\n",
      "STEP 56900: loss contrastive :0.0021916392724961042  loss classifier: 0.004867048468440771\n",
      "STEP 57000: loss contrastive :0.0026540388353168964  loss classifier: 0.004145634826272726\n",
      "STEP 57100: loss contrastive :0.001766228349879384  loss classifier: 0.003015014575794339\n",
      "STEP 57200: loss contrastive :0.0024339151568710804  loss classifier: 0.005804076790809631\n",
      "STEP 57300: loss contrastive :0.0020130202174186707  loss classifier: 0.005737119819968939\n",
      "STEP 57400: loss contrastive :0.002153171692043543  loss classifier: 0.004285786300897598\n",
      "STEP 57500: loss contrastive :0.0025902949273586273  loss classifier: 0.0060373651795089245\n",
      "STEP 57600: loss contrastive :0.0022714268416166306  loss classifier: 0.004428057465702295\n",
      "STEP 57700: loss contrastive :0.0025496715679764748  loss classifier: 0.00381124927662313\n",
      "STEP 57800: loss contrastive :0.00215516472235322  loss classifier: 0.004882505163550377\n",
      "STEP 57900: loss contrastive :0.0018762241816148162  loss classifier: 0.003666043048724532\n",
      "STEP 58000: loss contrastive :0.0022503703366965055  loss classifier: 0.005230715032666922\n",
      "STEP 58100: loss contrastive :0.002783057279884815  loss classifier: 0.0043650222942233086\n",
      "STEP 58200: loss contrastive :0.0030756075866520405  loss classifier: 0.006044633220881224\n",
      "STEP 58300: loss contrastive :0.0026491538155823946  loss classifier: 0.005042454227805138\n",
      "STEP 58400: loss contrastive :0.0025507532991468906  loss classifier: 0.0036053082440048456\n",
      "STEP 58500: loss contrastive :0.0019747656770050526  loss classifier: 0.0049714636988937855\n",
      "STEP 58600: loss contrastive :0.0026436233893036842  loss classifier: 0.004201741889119148\n",
      "STEP 58700: loss contrastive :0.0020332434214651585  loss classifier: 0.0037449118681252003\n",
      "STEP 58800: loss contrastive :0.0024486747570335865  loss classifier: 0.005460627377033234\n",
      "STEP 58900: loss contrastive :0.001964547671377659  loss classifier: 0.005785845220088959\n",
      "STEP 59000: loss contrastive :0.002439767587929964  loss classifier: 0.004384750500321388\n",
      "STEP 59100: loss contrastive :0.002084695268422365  loss classifier: 0.004753720015287399\n",
      "STEP 59200: loss contrastive :0.002331575145944953  loss classifier: 0.004981693346053362\n",
      "STEP 59300: loss contrastive :0.0021584918722510338  loss classifier: 0.004432830959558487\n",
      "STEP 59400: loss contrastive :0.002695190254598856  loss classifier: 0.004623796790838242\n",
      "STEP 59500: loss contrastive :0.0024575619027018547  loss classifier: 0.004722493700683117\n",
      "STEP 59600: loss contrastive :0.0018784224521368742  loss classifier: 0.002976951887831092\n",
      "STEP 59700: loss contrastive :0.0026849706191569567  loss classifier: 0.005712732672691345\n",
      "STEP 59800: loss contrastive :0.0023451270535588264  loss classifier: 0.005413058679550886\n",
      "STEP 59900: loss contrastive :0.0023714331910014153  loss classifier: 0.004389799665659666\n",
      "\n",
      "Evaluating...\n"
     ]
    },
    {
     "data": {
      "application/vnd.jupyter.widget-view+json": {
       "model_id": "dadb70f6d96a45dfb2239eab9d6163c6",
       "version_major": 2,
       "version_minor": 0
      },
      "text/plain": [
       "Eval:   0%|          | 0/1634 [00:00<?, ?it/s]"
      ]
     },
     "metadata": {},
     "output_type": "display_data"
    },
    {
     "name": "stdout",
     "output_type": "stream",
     "text": [
      "Evaluate loss 0.004754467493845344\n",
      "STEP 60000: loss contrastive :0.002252733800560236  loss classifier: 0.005830623209476471\n",
      "STEP 60100: loss contrastive :0.0020912408363074064  loss classifier: 0.003475956851616502\n",
      "STEP 60200: loss contrastive :0.0021371012553572655  loss classifier: 0.0050851828418672085\n",
      "STEP 60300: loss contrastive :0.0019107551779597998  loss classifier: 0.004580551292747259\n",
      "STEP 60400: loss contrastive :0.0023849462158977985  loss classifier: 0.0032797595486044884\n",
      "STEP 60500: loss contrastive :0.0026334747672080994  loss classifier: 0.005540740676224232\n",
      "STEP 60600: loss contrastive :0.002154694637283683  loss classifier: 0.0035012983717024326\n",
      "STEP 60700: loss contrastive :0.00249245367012918  loss classifier: 0.004863784182816744\n",
      "STEP 60800: loss contrastive :0.0020233187824487686  loss classifier: 0.004493313375860453\n",
      "STEP 60900: loss contrastive :0.002182740718126297  loss classifier: 0.0047423094511032104\n",
      "STEP 61000: loss contrastive :0.002106591360643506  loss classifier: 0.005706578493118286\n",
      "STEP 61100: loss contrastive :0.0022397185675799847  loss classifier: 0.004754766821861267\n",
      "STEP 61200: loss contrastive :0.0020252412650734186  loss classifier: 0.0054313610307872295\n",
      "STEP 61300: loss contrastive :0.002163484925404191  loss classifier: 0.00468976516276598\n",
      "STEP 61400: loss contrastive :0.0024339514784514904  loss classifier: 0.005503409542143345\n",
      "STEP 61500: loss contrastive :0.002426309045404196  loss classifier: 0.005189048126339912\n",
      "STEP 61600: loss contrastive :0.002134786918759346  loss classifier: 0.00358289061114192\n",
      "STEP 61700: loss contrastive :0.002342929132282734  loss classifier: 0.0037484390195459127\n",
      "STEP 61800: loss contrastive :0.0024053941015154123  loss classifier: 0.003337786765769124\n",
      "STEP 61900: loss contrastive :0.002393107395619154  loss classifier: 0.005336768925189972\n",
      "STEP 62000: loss contrastive :0.002379756420850754  loss classifier: 0.004617849364876747\n",
      "STEP 62100: loss contrastive :0.00211154343560338  loss classifier: 0.006298743654042482\n",
      "STEP 62200: loss contrastive :0.002151354681700468  loss classifier: 0.004968617111444473\n",
      "STEP 62300: loss contrastive :0.0021014721132814884  loss classifier: 0.0048262556083500385\n",
      "STEP 62400: loss contrastive :0.0022778187412768602  loss classifier: 0.005232088267803192\n",
      "62483: 0.010391181339950675\n"
     ]
    }
   ],
   "source": [
    "train_loss, _ = train()"
   ]
  },
  {
   "cell_type": "code",
   "execution_count": 51,
   "metadata": {},
   "outputs": [
    {
     "data": {
      "text/plain": [
       "<All keys matched successfully>"
      ]
     },
     "execution_count": 51,
     "metadata": {},
     "output_type": "execute_result"
    }
   ],
   "source": [
    "model.load_state_dict(torch.load(\"./model/CoPatE_lr_5e-5_2022-04-30 16:25:40.pt\"))"
   ]
  },
  {
   "cell_type": "code",
   "execution_count": 30,
   "metadata": {},
   "outputs": [],
   "source": [
    "batch = next(iter(test_dataloader))"
   ]
  },
  {
   "cell_type": "code",
   "execution_count": 31,
   "metadata": {},
   "outputs": [],
   "source": [
    "input_ids = batch['input_ids']"
   ]
  },
  {
   "cell_type": "code",
   "execution_count": 34,
   "metadata": {},
   "outputs": [
    {
     "data": {
      "text/plain": [
       "torch.Size([2, 32, 512])"
      ]
     },
     "execution_count": 34,
     "metadata": {},
     "output_type": "execute_result"
    }
   ],
   "source": [
    "input_ids.transpose(0,1).shape"
   ]
  },
  {
   "cell_type": "code",
   "execution_count": 72,
   "metadata": {},
   "outputs": [
    {
     "data": {
      "application/vnd.jupyter.widget-view+json": {
       "model_id": "09a4afaae5104a10a9566ac3b2b3960f",
       "version_major": 2,
       "version_minor": 0
      },
      "text/plain": [
       "  0%|          | 0/156 [00:00<?, ?it/s]"
      ]
     },
     "metadata": {},
     "output_type": "display_data"
    }
   ],
   "source": [
    "query_patent = {}\n",
    "for step,batch in tqdm(enumerate(test_dataloader),total = len(test_dataloader)):\n",
    "    input_ids = batch['input_ids'].transpose(0,1).to(device)\n",
    "    attention_mask = batch['attention_mask'].transpose(0,1).to(device)\n",
    "    with autocast():\n",
    "        with torch.no_grad():\n",
    "            query_cls_embedding = model.bert(input_ids[0],attention_mask[0]).last_hidden_state[:,0]\n",
    "            patent_cls_embedding = model.bert(input_ids[1],attention_mask[1]).last_hidden_state[:,0]\n",
    "    index = batch['index']\n",
    "    for i,patent in enumerate(index):\n",
    "        q = query_cls_embedding[i].detach().float().cpu()\n",
    "        v = patent_cls_embedding[i].detach().float().cpu()\n",
    "        query_patent[int(patent)] = (q,v)"
   ]
  },
  {
   "cell_type": "code",
   "execution_count": 73,
   "metadata": {},
   "outputs": [],
   "source": [
    "query_list = [v[0] for v in query_patent.values()]\n",
    "patent_list = [v[1] for v in query_patent.values()]\n",
    "\n",
    "query_matrix = torch.vstack(query_list)\n",
    "patent_matrix = torch.vstack(patent_list)"
   ]
  },
  {
   "cell_type": "code",
   "execution_count": 74,
   "metadata": {},
   "outputs": [
    {
     "data": {
      "application/vnd.jupyter.widget-view+json": {
       "model_id": "578e14d806494ffa90b1f3e7f1d2abf6",
       "version_major": 2,
       "version_minor": 0
      },
      "text/plain": [
       "  0%|          | 0/4992 [00:00<?, ?it/s]"
      ]
     },
     "metadata": {},
     "output_type": "display_data"
    },
    {
     "name": "stdout",
     "output_type": "stream",
     "text": [
      "Top@100 precision: 0.241\n",
      "Top@100 recall: 0.503\n",
      "Top@200 precision: 0.197\n",
      "Top@200 recall: 0.619\n",
      "Top@500 precision: 0.130\n",
      "Top@500 recall: 0.769\n"
     ]
    }
   ],
   "source": [
    "# K= 5\n",
    "\n",
    "K0 = 100\n",
    "K1 = 200\n",
    "K2 = 500\n",
    "\n",
    "precision_0 = []\n",
    "recall_0 = []\n",
    "\n",
    "precision_1 = []\n",
    "recall_1 = []\n",
    "\n",
    "precision_2 = []\n",
    "recall_2 = []\n",
    "\n",
    "# for i in tqdm(range(len(query_matrix))):\n",
    "for i in tqdm(range(len(query_matrix))):    \n",
    "    relv_patents = test_df['relv_patents'][i]\n",
    "    similarities = F.cosine_similarity(query_matrix[i].expand_as(patent_matrix),patent_matrix)\n",
    "    \n",
    "    _,indices_0 = torch.topk(similarities,k=K0)\n",
    "    indices_0 = indices_0.numpy()\n",
    "    retrievaled = len(np.intersect1d(indices_0,relv_patents))\n",
    "\n",
    "    precision_0.append(retrievaled/K0)\n",
    "    recall_0.append(retrievaled/len(relv_patents))\n",
    "    \n",
    "    _,indices_1 = torch.topk(similarities,k=K1)\n",
    "    indices_1 = indices_1.numpy()\n",
    "    retrievaled = len(np.intersect1d(indices_1,relv_patents))\n",
    "    precision_1.append(retrievaled/K1)\n",
    "    recall_1.append(retrievaled/len(relv_patents))\n",
    "    \n",
    "    _,indices_2 = torch.topk(similarities,k=K2)\n",
    "    indices_2 = indices_2.numpy()\n",
    "    retrievaled = len(np.intersect1d(indices_2,relv_patents))\n",
    "    precision_2.append(retrievaled/K2)\n",
    "    recall_2.append(retrievaled/len(relv_patents))\n",
    "\n",
    "print(f\"Top@{K0} precision: {np.mean(precision_0):.3f}\")\n",
    "print(f\"Top@{K0} recall: {np.mean(recall_0):.3f}\")\n",
    "print(f\"Top@{K1} precision: {np.mean(precision_1):.3f}\")\n",
    "print(f\"Top@{K1} recall: {np.mean(recall_1):.3f}\")\n",
    "print(f\"Top@{K2} precision: {np.mean(precision_2):.3f}\")\n",
    "print(f\"Top@{K2} recall: {np.mean(recall_2):.3f}\")"
   ]
  },
  {
   "cell_type": "code",
   "execution_count": 61,
   "metadata": {},
   "outputs": [
    {
     "data": {
      "application/vnd.jupyter.widget-view+json": {
       "model_id": "4d0e77456d5d4e03aea2c4e01c9d1c30",
       "version_major": 2,
       "version_minor": 0
      },
      "text/plain": [
       "  0%|          | 0/4992 [00:00<?, ?it/s]"
      ]
     },
     "metadata": {},
     "output_type": "display_data"
    },
    {
     "name": "stdout",
     "output_type": "stream",
     "text": [
      "Top@100 precision: 0.240\n",
      "Top@100 recall: 0.504\n",
      "Top@200 precision: 0.196\n",
      "Top@200 recall: 0.617\n",
      "Top@500 precision: 0.130\n",
      "Top@500 recall: 0.768\n"
     ]
    }
   ],
   "source": [
    "# K=3\n",
    "\n",
    "K0 = 100\n",
    "K1 = 200\n",
    "K2 = 500\n",
    "\n",
    "precision_0 = []\n",
    "recall_0 = []\n",
    "\n",
    "precision_1 = []\n",
    "recall_1 = []\n",
    "\n",
    "precision_2 = []\n",
    "recall_2 = []\n",
    "\n",
    "# for i in tqdm(range(len(query_matrix))):\n",
    "for i in tqdm(range(len(query_matrix))):    \n",
    "    relv_patents = test_df['relv_patents'][i]\n",
    "    similarities = F.cosine_similarity(query_matrix[i].expand_as(patent_matrix),patent_matrix)\n",
    "    \n",
    "    _,indices_0 = torch.topk(similarities,k=K0)\n",
    "    indices_0 = indices_0.numpy()\n",
    "    retrievaled = len(np.intersect1d(indices_0,relv_patents))\n",
    "\n",
    "    precision_0.append(retrievaled/K0)\n",
    "    recall_0.append(retrievaled/len(relv_patents))\n",
    "    \n",
    "    _,indices_1 = torch.topk(similarities,k=K1)\n",
    "    indices_1 = indices_1.numpy()\n",
    "    retrievaled = len(np.intersect1d(indices_1,relv_patents))\n",
    "    precision_1.append(retrievaled/K1)\n",
    "    recall_1.append(retrievaled/len(relv_patents))\n",
    "    \n",
    "    _,indices_2 = torch.topk(similarities,k=K2)\n",
    "    indices_2 = indices_2.numpy()\n",
    "    retrievaled = len(np.intersect1d(indices_2,relv_patents))\n",
    "    precision_2.append(retrievaled/K2)\n",
    "    recall_2.append(retrievaled/len(relv_patents))\n",
    "\n",
    "print(f\"Top@{K0} precision: {np.mean(precision_0):.3f}\")\n",
    "print(f\"Top@{K0} recall: {np.mean(recall_0):.3f}\")\n",
    "print(f\"Top@{K1} precision: {np.mean(precision_1):.3f}\")\n",
    "print(f\"Top@{K1} recall: {np.mean(recall_1):.3f}\")\n",
    "print(f\"Top@{K2} precision: {np.mean(precision_2):.3f}\")\n",
    "print(f\"Top@{K2} recall: {np.mean(recall_2):.3f}\")"
   ]
  },
  {
   "cell_type": "code",
   "execution_count": 69,
   "metadata": {},
   "outputs": [
    {
     "data": {
      "application/vnd.jupyter.widget-view+json": {
       "model_id": "bf7793db10de4b368535e62761067723",
       "version_major": 2,
       "version_minor": 0
      },
      "text/plain": [
       "  0%|          | 0/4992 [00:00<?, ?it/s]"
      ]
     },
     "metadata": {},
     "output_type": "display_data"
    },
    {
     "name": "stdout",
     "output_type": "stream",
     "text": [
      "Top@100 precision: 0.235\n",
      "Top@100 recall: 0.4927\n",
      "Top@200 precision: 0.193\n",
      "Top@200 recall: 0.6064\n",
      "Top@500 precision: 0.128\n",
      "Top@500 recall: 0.7597\n"
     ]
    }
   ],
   "source": [
    "# K = 1\n",
    "\n",
    "K0 = 100\n",
    "K1 = 200\n",
    "K2 = 500\n",
    "\n",
    "precision_0 = []\n",
    "recall_0 = []\n",
    "\n",
    "precision_1 = []\n",
    "recall_1 = []\n",
    "\n",
    "precision_2 = []\n",
    "recall_2 = []\n",
    "\n",
    "# for i in tqdm(range(len(query_matrix))):\n",
    "for i in tqdm(range(len(query_matrix))):    \n",
    "    relv_patents = test_df['relv_patents'][i]\n",
    "    similarities = F.cosine_similarity(query_matrix[i].expand_as(patent_matrix),patent_matrix)\n",
    "    \n",
    "    _,indices_0 = torch.topk(similarities,k=K0)\n",
    "    indices_0 = indices_0.numpy()\n",
    "    retrievaled = len(np.intersect1d(indices_0,relv_patents))\n",
    "\n",
    "    precision_0.append(retrievaled/K0)\n",
    "    recall_0.append(retrievaled/len(relv_patents))\n",
    "    \n",
    "    _,indices_1 = torch.topk(similarities,k=K1)\n",
    "    indices_1 = indices_1.numpy()\n",
    "    retrievaled = len(np.intersect1d(indices_1,relv_patents))\n",
    "    precision_1.append(retrievaled/K1)\n",
    "    recall_1.append(retrievaled/len(relv_patents))\n",
    "    \n",
    "    _,indices_2 = torch.topk(similarities,k=K2)\n",
    "    indices_2 = indices_2.numpy()\n",
    "    retrievaled = len(np.intersect1d(indices_2,relv_patents))\n",
    "    precision_2.append(retrievaled/K2)\n",
    "    recall_2.append(retrievaled/len(relv_patents))\n",
    "\n",
    "print(f\"Top@{K0} precision: {np.mean(precision_0):.3f}\")\n",
    "print(f\"Top@{K0} recall: {np.mean(recall_0):.4f}\")\n",
    "print(f\"Top@{K1} precision: {np.mean(precision_1):.3f}\")\n",
    "print(f\"Top@{K1} recall: {np.mean(recall_1):.4f}\")\n",
    "print(f\"Top@{K2} precision: {np.mean(precision_2):.3f}\")\n",
    "print(f\"Top@{K2} recall: {np.mean(recall_2):.4f}\")"
   ]
  },
  {
   "cell_type": "code",
   "execution_count": 46,
   "metadata": {},
   "outputs": [
    {
     "data": {
      "application/vnd.jupyter.widget-view+json": {
       "model_id": "aa0cd1d3c28a46118ffb81b00d77ae5f",
       "version_major": 2,
       "version_minor": 0
      },
      "text/plain": [
       "  0%|          | 0/4992 [00:00<?, ?it/s]"
      ]
     },
     "metadata": {},
     "output_type": "display_data"
    },
    {
     "name": "stdout",
     "output_type": "stream",
     "text": [
      "0.3677164846379532\n"
     ]
    }
   ],
   "source": [
    "# compute the MAP\n",
    "\n",
    "K = 100\n",
    "\n",
    "precision = []\n",
    "recall= []\n",
    "\n",
    "\n",
    "def precision(results,ground_truths,k:int):\n",
    "\n",
    "    relevances = [1 if d in ground_truths else 0 for d in results[:k]]\n",
    "    return sum(relevances)/ k \n",
    "\n",
    "def average_precison(patent_id:int,k:int):\n",
    "    \n",
    "    P_k = []\n",
    "    similarities = F.cosine_similarity(query_matrix[patent_id].expand_as(patent_matrix),patent_matrix)\n",
    "    _,results = torch.topk(similarities,k=K)\n",
    "    ground_truths = test_df['relv_patents'][patent_id]\n",
    "    results = results.tolist()\n",
    "\n",
    "    for i,index in enumerate(results):\n",
    "        if index in ground_truths:\n",
    "            p_k = precision(results,ground_truths,i+1)\n",
    "        else:\n",
    "            p_k = 0\n",
    "            \n",
    "        P_k.append(p_k)\n",
    "     \n",
    "    return sum(P_k)/min(len(ground_truths),K)\n",
    "        \n",
    "                       \n",
    "    \n",
    "def mean_average_precision(K=K):\n",
    "    aps = []\n",
    "    for patent_id in tqdm(range(query_matrix.shape[0])):\n",
    "        ap = average_precison(patent_id,K)\n",
    "        aps.append(ap)\n",
    "\n",
    "    print(mean(aps))\n",
    "            \n",
    "            \n",
    "mean_average_precision(K)"
   ]
  },
  {
   "cell_type": "code",
   "execution_count": 47,
   "metadata": {},
   "outputs": [],
   "source": [
    "from statistics import mean"
   ]
  },
  {
   "cell_type": "code",
   "execution_count": 48,
   "metadata": {},
   "outputs": [
    {
     "data": {
      "application/vnd.jupyter.widget-view+json": {
       "model_id": "a24740dc727c4505826a3c39ae5ad8a9",
       "version_major": 2,
       "version_minor": 0
      },
      "text/plain": [
       "  0%|          | 0/4992 [00:00<?, ?it/s]"
      ]
     },
     "metadata": {},
     "output_type": "display_data"
    },
    {
     "name": "stdout",
     "output_type": "stream",
     "text": [
      "0.7067015726386224\n"
     ]
    }
   ],
   "source": [
    "# reciprocal_rank\n",
    "\n",
    "def reciprocal_rank(patent_id:int,k:int):\n",
    "    \n",
    "    similarities = F.cosine_similarity(query_matrix[patent_id].expand_as(patent_matrix),patent_matrix)\n",
    "    _,results = torch.topk(similarities,k=K)\n",
    "    ground_truths = test_df['relv_patents'][patent_id]\n",
    "    results = results.tolist()\n",
    "    \n",
    "    r_r = 0\n",
    "    for i,index in enumerate(results):\n",
    "        if index in ground_truths:\n",
    "            r_r = 1/(i+1)\n",
    "            break\n",
    "            \n",
    "    return r_r\n",
    "\n",
    "def mean_reciprocal_rank(K=K):\n",
    "    arr = []\n",
    "    for patent_id in tqdm(range(query_matrix.shape[0])):\n",
    "        ap = reciprocal_rank(patent_id,K)\n",
    "        arr.append(ap)\n",
    "\n",
    "    print(mean(arr))\n",
    "    \n",
    "mean_reciprocal_rank(100)"
   ]
  },
  {
   "cell_type": "markdown",
   "metadata": {},
   "source": [
    "## Training"
   ]
  },
  {
   "cell_type": "code",
   "execution_count": 28,
   "metadata": {},
   "outputs": [
    {
     "name": "stderr",
     "output_type": "stream",
     "text": [
      "/root/miniconda3/lib/python3.8/site-packages/sklearn/metrics/_classification.py:1318: UndefinedMetricWarning: Precision is ill-defined and being set to 0.0 in labels with no predicted samples. Use `zero_division` parameter to control this behavior.\n",
      "  _warn_prf(average, modifier, msg_start, len(result))\n",
      "/root/miniconda3/lib/python3.8/site-packages/sklearn/metrics/_classification.py:1318: UndefinedMetricWarning: Recall is ill-defined and being set to 0.0 in labels with no true samples. Use `zero_division` parameter to control this behavior.\n",
      "  _warn_prf(average, modifier, msg_start, len(result))\n",
      "/root/miniconda3/lib/python3.8/site-packages/sklearn/metrics/_classification.py:1580: UndefinedMetricWarning: F-score is ill-defined and being set to 0.0 in labels with no true nor predicted samples. Use `zero_division` parameter to control this behavior.\n",
      "  _warn_prf(average, \"true nor predicted\", \"F-score is\", len(true_sum))\n"
     ]
    }
   ],
   "source": [
    "import numpy as np\n",
    "import pandas as pd\n",
    "from sklearn.metrics import (accuracy_score, precision_score, recall_score, f1_score, roc_auc_score)\n",
    "\n",
    "\n",
    "true = np.array(total_labels)\n",
    "pred = np.array(total_preds>0.5)\n",
    "\n",
    "dic = {\n",
    "    \"Accuracy\" : accuracy_score(true,pred),\n",
    "    \"Precision-micro\" : precision_score(true,pred,average='micro'),\n",
    "    \"Precision-macro\" : precision_score(true,pred,average='macro'),\n",
    "    \"recall-micro\" : recall_score(true,pred,average='micro'),\n",
    "    \"recall-macro\" : recall_score(true,pred,average='macro'),\n",
    "    \"f1_micro\" : f1_score(true,pred,average='micro'),\n",
    "    \"f1-macro\" : f1_score(true,pred,average='macro')\n",
    "}"
   ]
  },
  {
   "cell_type": "code",
   "execution_count": 65,
   "metadata": {},
   "outputs": [
    {
     "data": {
      "text/plain": [
       "{'Accuracy': 0.390224358974359,\n",
       " 'Precision-micro': 0.8120604781997187,\n",
       " 'Precision-macro': 0.42710094868809545,\n",
       " 'recall-micro': 0.5027209403569873,\n",
       " 'recall-macro': 0.2537291381739999,\n",
       " 'f1_micro': 0.6210002688894863,\n",
       " 'f1-macro': 0.30122267995095137}"
      ]
     },
     "execution_count": 65,
     "metadata": {},
     "output_type": "execute_result"
    }
   ],
   "source": [
    "dic"
   ]
  },
  {
   "cell_type": "code",
   "execution_count": 29,
   "metadata": {},
   "outputs": [
    {
     "data": {
      "text/plain": [
       "{'Accuracy': 0.41185897435897434,\n",
       " 'Precision-micro': 0.8182578164186591,\n",
       " 'Precision-macro': 0.43324047869837756,\n",
       " 'recall-micro': 0.5326512842838484,\n",
       " 'recall-macro': 0.276700314323264,\n",
       " 'f1_micro': 0.6452633660755488,\n",
       " 'f1-macro': 0.32074197267429944}"
      ]
     },
     "execution_count": 29,
     "metadata": {},
     "output_type": "execute_result"
    }
   ],
   "source": [
    "dic"
   ]
  },
  {
   "cell_type": "code",
   "execution_count": 34,
   "metadata": {},
   "outputs": [],
   "source": [
    "total_preds = torch.tensor(total_preds)"
   ]
  },
  {
   "cell_type": "code",
   "execution_count": 36,
   "metadata": {},
   "outputs": [
    {
     "data": {
      "text/plain": [
       "tensor([[3.9983e-04, 2.9981e-05, 2.0027e-04,  ..., 1.1921e-07, 1.1921e-07,\n",
       "         0.0000e+00],\n",
       "        [1.6987e-05, 1.4901e-06, 4.1723e-07,  ..., 9.5367e-07, 7.1526e-07,\n",
       "         7.7486e-07],\n",
       "        [6.7186e-04, 5.8174e-04, 1.7262e-04,  ..., 1.3292e-05, 1.5497e-06,\n",
       "         1.6689e-06],\n",
       "        ...,\n",
       "        [2.4438e-06, 2.1458e-06, 6.5565e-07,  ..., 5.7399e-05, 1.9670e-06,\n",
       "         1.7881e-06],\n",
       "        [2.9206e-06, 8.8215e-06, 7.1526e-07,  ..., 1.6868e-04, 5.3644e-07,\n",
       "         2.3842e-07],\n",
       "        [5.5420e-01, 4.0210e-01, 6.7177e-03,  ..., 2.3842e-07, 4.1723e-07,\n",
       "         1.1921e-07]])"
      ]
     },
     "execution_count": 36,
     "metadata": {},
     "output_type": "execute_result"
    }
   ],
   "source": [
    "total_preds"
   ]
  },
  {
   "cell_type": "code",
   "execution_count": 42,
   "metadata": {},
   "outputs": [],
   "source": [
    "total_labels = torch.tensor(total_labels)"
   ]
  },
  {
   "cell_type": "code",
   "execution_count": 44,
   "metadata": {},
   "outputs": [],
   "source": [
    "labels = torch.argmax(total_labels,dim=1,keepdim=True)"
   ]
  },
  {
   "cell_type": "code",
   "execution_count": 45,
   "metadata": {},
   "outputs": [],
   "source": [
    "preds = torch.argmax(total_preds,dim=1,keepdim=True)"
   ]
  },
  {
   "cell_type": "code",
   "execution_count": 60,
   "metadata": {},
   "outputs": [
    {
     "data": {
      "text/plain": [
       "tensor([148])"
      ]
     },
     "execution_count": 60,
     "metadata": {},
     "output_type": "execute_result"
    }
   ],
   "source": [
    "labels[i]"
   ]
  },
  {
   "cell_type": "code",
   "execution_count": 73,
   "metadata": {},
   "outputs": [
    {
     "name": "stdout",
     "output_type": "stream",
     "text": [
      "0.8303285256410257\n",
      "0.5720018696581196\n",
      "0.6773717102463864\n"
     ]
    }
   ],
   "source": [
    "tp = 0\n",
    "fp = 0\n",
    "total = total_labels.shape[0]\n",
    "ls = []\n",
    "\n",
    "for i in range(total_labels.shape[0]):\n",
    "    label = torch.where(total_labels[i])\n",
    "    pr = 1\n",
    "    for l in label[0]:\n",
    "        if l == preds[i]:\n",
    "            tp += 1\n",
    "            break\n",
    "    else:\n",
    "        pr = 0\n",
    "    ls.append(pr/label[0].shape[0])\n",
    "    \n",
    "precision = tp/total\n",
    "recall = np.mean(ls)\n",
    "f1_score = 2*precision*recall / (precision+recall)\n",
    "print(precision)\n",
    "print(recall)\n",
    "print(f1_score)"
   ]
  },
  {
   "cell_type": "code",
   "execution_count": null,
   "metadata": {},
   "outputs": [],
   "source": [
    "for total_labels in "
   ]
  },
  {
   "cell_type": "code",
   "execution_count": 48,
   "metadata": {},
   "outputs": [
    {
     "data": {
      "text/plain": [
       "tensor([[ True],\n",
       "        [ True],\n",
       "        [ True],\n",
       "        ...,\n",
       "        [False],\n",
       "        [ True],\n",
       "        [ True]])"
      ]
     },
     "execution_count": 48,
     "metadata": {},
     "output_type": "execute_result"
    }
   ],
   "source": [
    "labels == preds"
   ]
  },
  {
   "cell_type": "code",
   "execution_count": 50,
   "metadata": {},
   "outputs": [
    {
     "data": {
      "text/plain": [
       "0.602363782051282"
      ]
     },
     "execution_count": 50,
     "metadata": {},
     "output_type": "execute_result"
    }
   ],
   "source": [
    "precision_score(labels,preds,average='micro')"
   ]
  },
  {
   "cell_type": "code",
   "execution_count": null,
   "metadata": {},
   "outputs": [],
   "source": [
    "def evalTop1(model, loader):\n",
    "    model.eval()\n",
    "    \n",
    "    correct = 0\n",
    "    total = len(loader.dataset)\n",
    "\n",
    "    for x,y in loader:\n",
    "        x,y = x.to(device), y.to(device)\n",
    "        with torch.no_grad():\n",
    "            logits = model(x)\n",
    "            pred = logits.argmax(dim=1)\n",
    "            correct += torch.eq(pred, y).sum().float().item()\n",
    "    return correct / total\n"
   ]
  },
  {
   "cell_type": "markdown",
   "metadata": {},
   "source": [
    "## batch_size = 8时的模型测试"
   ]
  },
  {
   "cell_type": "code",
   "execution_count": 66,
   "metadata": {},
   "outputs": [
    {
     "data": {
      "text/plain": [
       "<All keys matched successfully>"
      ]
     },
     "execution_count": 66,
     "metadata": {},
     "output_type": "execute_result"
    }
   ],
   "source": [
    "model.load_state_dict(torch.load(\"./model/Classfication_Contrastive_model2022-04-29 16:49:42.pt\"))"
   ]
  },
  {
   "cell_type": "code",
   "execution_count": 23,
   "metadata": {},
   "outputs": [
    {
     "data": {
      "text/plain": [
       "<All keys matched successfully>"
      ]
     },
     "execution_count": 23,
     "metadata": {},
     "output_type": "execute_result"
    }
   ],
   "source": [
    "model.load_state_dict(torch.load(\"./model/CoPatE_final.pt\"))"
   ]
  },
  {
   "cell_type": "code",
   "execution_count": 24,
   "metadata": {},
   "outputs": [
    {
     "data": {
      "text/plain": [
       "<All keys matched successfully>"
      ]
     },
     "execution_count": 24,
     "metadata": {},
     "output_type": "execute_result"
    }
   ],
   "source": [
    "classifier.load_state_dict(torch.load(\"./model/CoPatE_classifier_final.pt\"))"
   ]
  },
  {
   "cell_type": "code",
   "execution_count": 67,
   "metadata": {},
   "outputs": [],
   "source": [
    "test_df = pd.read_feather(\"2021-sample-5000_retrieval_two.feather\")"
   ]
  },
  {
   "cell_type": "code",
   "execution_count": 68,
   "metadata": {},
   "outputs": [
    {
     "name": "stdout",
     "output_type": "stream",
     "text": [
      "\n",
      "Evaluating...\n"
     ]
    },
    {
     "data": {
      "application/vnd.jupyter.widget-view+json": {
       "model_id": "66aadb13b3f6415ca16a5df7df6d89aa",
       "version_major": 2,
       "version_minor": 0
      },
      "text/plain": [
       "Eval:   0%|          | 0/156 [00:00<?, ?it/s]"
      ]
     },
     "metadata": {},
     "output_type": "display_data"
    },
    {
     "name": "stdout",
     "output_type": "stream",
     "text": [
      "Evaluate loss 0.005460061910502517\n"
     ]
    }
   ],
   "source": [
    "test_dataset = PatentDataset(\n",
    "  test_df,\n",
    "  tokenizer,\n",
    "  max_token_len=128,\n",
    "  test = True\n",
    ")\n",
    "test_dataloader = DataLoader(test_dataset, batch_size=32, shuffle=False,drop_last=True)\n",
    "\n",
    "avg_loss, total_preds, total_labels = evaluate(test_dataloader)"
   ]
  },
  {
   "cell_type": "code",
   "execution_count": 27,
   "metadata": {},
   "outputs": [
    {
     "name": "stdout",
     "output_type": "stream",
     "text": [
      "\n",
      "Evaluating...\n"
     ]
    },
    {
     "data": {
      "application/vnd.jupyter.widget-view+json": {
       "model_id": "a8f4e5e94d18491d9b613bd9f7d91dde",
       "version_major": 2,
       "version_minor": 0
      },
      "text/plain": [
       "Eval:   0%|          | 0/156 [00:00<?, ?it/s]"
      ]
     },
     "metadata": {},
     "output_type": "display_data"
    },
    {
     "name": "stdout",
     "output_type": "stream",
     "text": [
      "Evaluate loss 0.005001947419562687\n"
     ]
    }
   ],
   "source": [
    "avg_loss, total_preds, total_labels = evaluate(test_dataloader)"
   ]
  },
  {
   "cell_type": "code",
   "execution_count": 76,
   "metadata": {},
   "outputs": [],
   "source": [
    "data = patent_matrix.numpy()"
   ]
  },
  {
   "cell_type": "code",
   "execution_count": 77,
   "metadata": {},
   "outputs": [
    {
     "data": {
      "text/plain": [
       "array([[-0.01514346,  0.5677625 , -0.07924097, ..., -0.47089866,\n",
       "        -0.22311102, -0.12973738],\n",
       "       [-0.11729708, -0.15167144, -0.66343474, ...,  0.7703791 ,\n",
       "         0.3370954 ,  0.40730044],\n",
       "       [ 0.07710651,  0.69955975,  0.23274456, ..., -0.35187572,\n",
       "        -0.8279639 , -0.17830679],\n",
       "       ...,\n",
       "       [-0.9070438 ,  1.4368451 , -0.7047645 , ..., -0.9063978 ,\n",
       "         0.50868225, -0.68990016],\n",
       "       [-0.38762587,  0.36194578,  0.42073044, ..., -0.55101323,\n",
       "         0.27085465,  0.03920824],\n",
       "       [-0.2689549 ,  0.6793076 ,  0.034377  , ..., -0.48134428,\n",
       "        -1.2723379 , -0.5952577 ]], dtype=float32)"
      ]
     },
     "execution_count": 77,
     "metadata": {},
     "output_type": "execute_result"
    }
   ],
   "source": [
    "data"
   ]
  },
  {
   "cell_type": "code",
   "execution_count": null,
   "metadata": {},
   "outputs": [],
   "source": []
  },
  {
   "cell_type": "code",
   "execution_count": 80,
   "metadata": {},
   "outputs": [
    {
     "name": "stderr",
     "output_type": "stream",
     "text": [
      "/root/miniconda3/lib/python3.8/site-packages/sklearn/manifold/_t_sne.py:780: FutureWarning: The default initialization in TSNE will change from 'random' to 'pca' in 1.2.\n",
      "  warnings.warn(\n",
      "/root/miniconda3/lib/python3.8/site-packages/sklearn/manifold/_t_sne.py:790: FutureWarning: The default learning rate in TSNE will change from 200.0 to 'auto' in 1.2.\n",
      "  warnings.warn(\n"
     ]
    }
   ],
   "source": [
    "from sklearn.manifold import TSNE\n",
    "from sklearn.datasets import load_iris,load_digits\n",
    "from sklearn.decomposition import PCA\n",
    "import matplotlib.pyplot as plt\n",
    "import os\n",
    "\n",
    "digits = load_digits()\n",
    "X_tsne = TSNE(n_components=2).fit_transform(data)\n",
    "\n",
    "X_pca = PCA(n_components=2).fit_transform(data)\n",
    "\n",
    "ckpt_dir=\"images\"\n",
    "if not os.path.exists(ckpt_dir):\n",
    "    os.makedirs(ckpt_dir)\n",
    "\n",
    "\n",
    "\n"
   ]
  },
  {
   "cell_type": "code",
   "execution_count": 194,
   "metadata": {},
   "outputs": [
    {
     "data": {
      "text/plain": [
       "0       None\n",
       "1       None\n",
       "2       None\n",
       "3       None\n",
       "4       None\n",
       "        ... \n",
       "4995    None\n",
       "4996    None\n",
       "4997    None\n",
       "4998    None\n",
       "4999    None\n",
       "Name: cpc_sections, Length: 5000, dtype: object"
      ]
     },
     "execution_count": 194,
     "metadata": {},
     "output_type": "execute_result"
    }
   ],
   "source": [
    "label1 = {}\n",
    "\n",
    "def addlabel1(x):\n",
    "    for i in x:\n",
    "        if i in label1:\n",
    "            label1[i] +=1\n",
    "        else:\n",
    "            label1[i] = 1\n",
    "        \n",
    "test_df.cpc_sections.apply(addlabel1)"
   ]
  },
  {
   "cell_type": "code",
   "execution_count": 127,
   "metadata": {},
   "outputs": [],
   "source": [
    "label = test_df.cpc_sections.value_counts()"
   ]
  },
  {
   "cell_type": "code",
   "execution_count": 149,
   "metadata": {},
   "outputs": [],
   "source": [
    "label = test_df.cpc_sections.apply(len)"
   ]
  },
  {
   "cell_type": "code",
   "execution_count": 161,
   "metadata": {},
   "outputs": [],
   "source": [
    "paten = label[label==1].index"
   ]
  },
  {
   "cell_type": "code",
   "execution_count": 163,
   "metadata": {},
   "outputs": [],
   "source": [
    "df = test_df.iloc[paten]"
   ]
  },
  {
   "cell_type": "code",
   "execution_count": 168,
   "metadata": {},
   "outputs": [
    {
     "data": {
      "text/plain": [
       "Int64Index([   0,    3,    4,    5,    7,    9,   11,   12,   13,   14,\n",
       "            ...\n",
       "            4989, 4990, 4991, 4992, 4993, 4994, 4996, 4997, 4998, 4999],\n",
       "           dtype='int64', length=3381)"
      ]
     },
     "execution_count": 168,
     "metadata": {},
     "output_type": "execute_result"
    }
   ],
   "source": [
    "paten"
   ]
  },
  {
   "cell_type": "code",
   "execution_count": 171,
   "metadata": {},
   "outputs": [],
   "source": [
    "data = data[paten[:-8]]"
   ]
  },
  {
   "cell_type": "code",
   "execution_count": 164,
   "metadata": {},
   "outputs": [
    {
     "data": {
      "text/html": [
       "<div>\n",
       "<style scoped>\n",
       "    .dataframe tbody tr th:only-of-type {\n",
       "        vertical-align: middle;\n",
       "    }\n",
       "\n",
       "    .dataframe tbody tr th {\n",
       "        vertical-align: top;\n",
       "    }\n",
       "\n",
       "    .dataframe thead th {\n",
       "        text-align: right;\n",
       "    }\n",
       "</style>\n",
       "<table border=\"1\" class=\"dataframe\">\n",
       "  <thead>\n",
       "    <tr style=\"text-align: right;\">\n",
       "      <th></th>\n",
       "      <th>publication_title</th>\n",
       "      <th>sections</th>\n",
       "      <th>section_classes</th>\n",
       "      <th>section_class_subclasses</th>\n",
       "      <th>section_class_subclass_groups</th>\n",
       "      <th>cpc_sections</th>\n",
       "      <th>cpc_section_classes</th>\n",
       "      <th>cpc_section_class_subclasses</th>\n",
       "      <th>cpc_section_class_subclass_groups</th>\n",
       "      <th>abstract</th>\n",
       "      <th>...</th>\n",
       "      <th>G16Y</th>\n",
       "      <th>G06J</th>\n",
       "      <th>E99Z</th>\n",
       "      <th>relv_patents</th>\n",
       "      <th>major claim</th>\n",
       "      <th>len_k_3</th>\n",
       "      <th>major claim 1</th>\n",
       "      <th>len_k_1</th>\n",
       "      <th>major claim 5</th>\n",
       "      <th>len_k_5</th>\n",
       "    </tr>\n",
       "  </thead>\n",
       "  <tbody>\n",
       "    <tr>\n",
       "      <th>0</th>\n",
       "      <td>HANGING POCKET WITH TAMPER DETECTION</td>\n",
       "      <td>B</td>\n",
       "      <td>B65</td>\n",
       "      <td>B65D</td>\n",
       "      <td>B65D 75/14,B65D 75/52,B65D 75/56</td>\n",
       "      <td>[B]</td>\n",
       "      <td>[B65]</td>\n",
       "      <td>[B65D]</td>\n",
       "      <td>[B65D 75/14, B65D 2575/565, B65D 75/566, B65D ...</td>\n",
       "      <td>A hanging pocket for point-of-sale display is ...</td>\n",
       "      <td>...</td>\n",
       "      <td>0</td>\n",
       "      <td>0</td>\n",
       "      <td>0</td>\n",
       "      <td>[0, 239, 245, 309, 401, 613, 764, 1061, 1067, ...</td>\n",
       "      <td>A hanging pocket for point-of-sale display, th...</td>\n",
       "      <td>476</td>\n",
       "      <td>A hanging pocket for point-of-sale display, th...</td>\n",
       "      <td>134</td>\n",
       "      <td>A hanging pocket for point-of-sale display, th...</td>\n",
       "      <td>546</td>\n",
       "    </tr>\n",
       "    <tr>\n",
       "      <th>3</th>\n",
       "      <td>HANDHELD FLEXIBLE ROBOTIC CATHETER FOR ENDOSCO...</td>\n",
       "      <td>A</td>\n",
       "      <td>A61</td>\n",
       "      <td>A61B</td>\n",
       "      <td>A61B 34/00,A61B 34/35,A61B 1/05,A61B 1/018,A61...</td>\n",
       "      <td>[A]</td>\n",
       "      <td>[A61]</td>\n",
       "      <td>[A61B]</td>\n",
       "      <td>[A61B 34/74, A61B 34/35, A61B 1/05, A61B 2034/...</td>\n",
       "      <td>A handheld, steerable catheter robotic system ...</td>\n",
       "      <td>...</td>\n",
       "      <td>0</td>\n",
       "      <td>0</td>\n",
       "      <td>0</td>\n",
       "      <td>[3, 8, 12, 76, 85, 96, 98, 132, 136, 159, 167,...</td>\n",
       "      <td>A surgical arrangement, comprising:an endoscop...</td>\n",
       "      <td>433</td>\n",
       "      <td>A steerable catheter robotic system, comprisin...</td>\n",
       "      <td>172</td>\n",
       "      <td>A steerable catheter robotic system, comprisin...</td>\n",
       "      <td>550</td>\n",
       "    </tr>\n",
       "    <tr>\n",
       "      <th>4</th>\n",
       "      <td>Charging Terminal</td>\n",
       "      <td>G</td>\n",
       "      <td>G06</td>\n",
       "      <td>G06K,G06F</td>\n",
       "      <td>G06K 7/00,G06F 13/42</td>\n",
       "      <td>[G]</td>\n",
       "      <td>[G06]</td>\n",
       "      <td>[G06K, G06F]</td>\n",
       "      <td>[G06K 7/0013, G06F 2213/0042, G06F 13/4282]</td>\n",
       "      <td>A battery-powered device comprising a power in...</td>\n",
       "      <td>...</td>\n",
       "      <td>0</td>\n",
       "      <td>0</td>\n",
       "      <td>0</td>\n",
       "      <td>[4, 80, 185, 193, 250, 293, 328, 410, 428, 490...</td>\n",
       "      <td>A power supply for one or more battery-powered...</td>\n",
       "      <td>472</td>\n",
       "      <td>A system comprising a battery-powered device a...</td>\n",
       "      <td>234</td>\n",
       "      <td>A system comprising a battery-powered device a...</td>\n",
       "      <td>522</td>\n",
       "    </tr>\n",
       "    <tr>\n",
       "      <th>5</th>\n",
       "      <td>Transmittance-Variable Device</td>\n",
       "      <td>G</td>\n",
       "      <td>G02</td>\n",
       "      <td>G02F</td>\n",
       "      <td>G02F 1/139,G02F 1/13363,G02F 1/1335,G02F 1/1337</td>\n",
       "      <td>[G]</td>\n",
       "      <td>[G02]</td>\n",
       "      <td>[G02F]</td>\n",
       "      <td>[G02F 1/1396, G02F 1/133636, G02F 2202/40, G02...</td>\n",
       "      <td>A transmittance-variable device is disclosed h...</td>\n",
       "      <td>...</td>\n",
       "      <td>0</td>\n",
       "      <td>0</td>\n",
       "      <td>0</td>\n",
       "      <td>[5, 68, 145, 166, 178, 198, 294, 359, 363, 458...</td>\n",
       "      <td>A transmittance-variable device, comprising:a ...</td>\n",
       "      <td>383</td>\n",
       "      <td>A transmittance-variable device, comprising:a ...</td>\n",
       "      <td>274</td>\n",
       "      <td>A transmittance-variable device, comprising:a ...</td>\n",
       "      <td>495</td>\n",
       "    </tr>\n",
       "    <tr>\n",
       "      <th>7</th>\n",
       "      <td>MULTILAYER SUBSTRATE</td>\n",
       "      <td>H</td>\n",
       "      <td>H05</td>\n",
       "      <td>H05K</td>\n",
       "      <td>H05K 1/02</td>\n",
       "      <td>[H]</td>\n",
       "      <td>[H05, H01]</td>\n",
       "      <td>[H05K, H01P]</td>\n",
       "      <td>[H05K 1/0298, H01P 3/00, H05K 1/0284]</td>\n",
       "      <td>A multilayer substrate includes an insulator t...</td>\n",
       "      <td>...</td>\n",
       "      <td>0</td>\n",
       "      <td>0</td>\n",
       "      <td>0</td>\n",
       "      <td>[7, 3716, 4844]</td>\n",
       "      <td>A multilayer substrate comprising:an insulator...</td>\n",
       "      <td>308</td>\n",
       "      <td>A multilayer substrate comprising:an insulator...</td>\n",
       "      <td>123</td>\n",
       "      <td>A multilayer substrate comprising:an insulator...</td>\n",
       "      <td>415</td>\n",
       "    </tr>\n",
       "    <tr>\n",
       "      <th>...</th>\n",
       "      <td>...</td>\n",
       "      <td>...</td>\n",
       "      <td>...</td>\n",
       "      <td>...</td>\n",
       "      <td>...</td>\n",
       "      <td>...</td>\n",
       "      <td>...</td>\n",
       "      <td>...</td>\n",
       "      <td>...</td>\n",
       "      <td>...</td>\n",
       "      <td>...</td>\n",
       "      <td>...</td>\n",
       "      <td>...</td>\n",
       "      <td>...</td>\n",
       "      <td>...</td>\n",
       "      <td>...</td>\n",
       "      <td>...</td>\n",
       "      <td>...</td>\n",
       "      <td>...</td>\n",
       "      <td>...</td>\n",
       "      <td>...</td>\n",
       "    </tr>\n",
       "    <tr>\n",
       "      <th>4994</th>\n",
       "      <td>Grain Bin Unloading Conveyor System</td>\n",
       "      <td>B</td>\n",
       "      <td>B65</td>\n",
       "      <td>B65G</td>\n",
       "      <td>B65G 65/42,B65G 21/08,B65G 21/02</td>\n",
       "      <td>[B]</td>\n",
       "      <td>[B65]</td>\n",
       "      <td>[B65G]</td>\n",
       "      <td>[B65G 65/42, B65G 2201/042, B65G 21/02, B65G 2...</td>\n",
       "      <td>An unloading conveyor system for unloading gra...</td>\n",
       "      <td>...</td>\n",
       "      <td>0</td>\n",
       "      <td>0</td>\n",
       "      <td>0</td>\n",
       "      <td>[679, 995, 1378, 1779, 1884, 2487, 2521, 2557,...</td>\n",
       "      <td>An unloading conveyor system for a grain bin c...</td>\n",
       "      <td>171</td>\n",
       "      <td>An unloading conveyor system for a grain bin c...</td>\n",
       "      <td>61</td>\n",
       "      <td>An unloading conveyor system for a grain bin c...</td>\n",
       "      <td>229</td>\n",
       "    </tr>\n",
       "    <tr>\n",
       "      <th>4996</th>\n",
       "      <td>TECHNOLOGIES FOR CADDY ASSEMBLIES</td>\n",
       "      <td>B</td>\n",
       "      <td>B62,B65,B25</td>\n",
       "      <td>B62B,B65D,B25H</td>\n",
       "      <td>B62B 3/00,B65D 71/52,B65D 21/02,B62B 5/06,B62B...</td>\n",
       "      <td>[B]</td>\n",
       "      <td>[B62, B65, B25]</td>\n",
       "      <td>[B62B, B65D, B25H]</td>\n",
       "      <td>[B62B 3/006, B65D 71/0003, B65D 21/0212, B25H ...</td>\n",
       "      <td>A container system including a storage base th...</td>\n",
       "      <td>...</td>\n",
       "      <td>0</td>\n",
       "      <td>0</td>\n",
       "      <td>0</td>\n",
       "      <td>[4996]</td>\n",
       "      <td>A storage system comprising a first storage ba...</td>\n",
       "      <td>519</td>\n",
       "      <td>A storage system comprising a first storage ba...</td>\n",
       "      <td>239</td>\n",
       "      <td>A storage system comprising a first storage ba...</td>\n",
       "      <td>627</td>\n",
       "    </tr>\n",
       "    <tr>\n",
       "      <th>4997</th>\n",
       "      <td>HUMERAL AND GLENOID ARTICULAR SURFACE IMPLANT ...</td>\n",
       "      <td>A</td>\n",
       "      <td>A61</td>\n",
       "      <td>A61F</td>\n",
       "      <td>A61F 2/40,A61F 2/30</td>\n",
       "      <td>[A]</td>\n",
       "      <td>[A61]</td>\n",
       "      <td>[A61F]</td>\n",
       "      <td>[A61F 2/4003, A61F 2/4081, A61F 2/30749, A61F ...</td>\n",
       "      <td>A shoulder implant system comprising a glenoid...</td>\n",
       "      <td>...</td>\n",
       "      <td>0</td>\n",
       "      <td>0</td>\n",
       "      <td>0</td>\n",
       "      <td>[9, 25, 85, 160, 208, 263, 322, 344, 375, 520,...</td>\n",
       "      <td>A shoulder implant system comprising:a glenoid...</td>\n",
       "      <td>409</td>\n",
       "      <td>A shoulder implant system comprising:a glenoid...</td>\n",
       "      <td>194</td>\n",
       "      <td>A shoulder implant system comprising:a glenoid...</td>\n",
       "      <td>540</td>\n",
       "    </tr>\n",
       "    <tr>\n",
       "      <th>4998</th>\n",
       "      <td>NOISE CANCELLING SOUNDBAR DEVICE AND SYSTEM</td>\n",
       "      <td>H</td>\n",
       "      <td>H04</td>\n",
       "      <td>H04R</td>\n",
       "      <td>H04R 3/02</td>\n",
       "      <td>[H]</td>\n",
       "      <td>[H04]</td>\n",
       "      <td>[H04R]</td>\n",
       "      <td>[H04R 3/02]</td>\n",
       "      <td>A noise cancelling soundbar that may be integr...</td>\n",
       "      <td>...</td>\n",
       "      <td>0</td>\n",
       "      <td>0</td>\n",
       "      <td>0</td>\n",
       "      <td>[50, 80, 172, 379, 535, 633, 657, 660, 687, 69...</td>\n",
       "      <td>A noise cancelling soundbar, comprising:one or...</td>\n",
       "      <td>203</td>\n",
       "      <td>A noise cancelling soundbar, comprising:one or...</td>\n",
       "      <td>42</td>\n",
       "      <td>A noise cancelling soundbar, comprising:one or...</td>\n",
       "      <td>308</td>\n",
       "    </tr>\n",
       "    <tr>\n",
       "      <th>4999</th>\n",
       "      <td>BROAD HOST RANGE GENETIC TOOLS FOR ENGINEERING...</td>\n",
       "      <td>C</td>\n",
       "      <td>C12</td>\n",
       "      <td>C12N</td>\n",
       "      <td>C12N 15/82,C12N 1/12</td>\n",
       "      <td>[C]</td>\n",
       "      <td>[C12]</td>\n",
       "      <td>[C12N]</td>\n",
       "      <td>[C12N 15/8209, C12N 1/12]</td>\n",
       "      <td>Disclosed herein are a suite of genetic tools ...</td>\n",
       "      <td>...</td>\n",
       "      <td>0</td>\n",
       "      <td>0</td>\n",
       "      <td>0</td>\n",
       "      <td>[39, 176, 230, 231, 241, 259, 351, 519, 558, 6...</td>\n",
       "      <td>A method for transforming an algal chloroplast...</td>\n",
       "      <td>149</td>\n",
       "      <td>A method for transforming an algal nucleus, th...</td>\n",
       "      <td>75</td>\n",
       "      <td>A method for transforming an algal chloroplast...</td>\n",
       "      <td>189</td>\n",
       "    </tr>\n",
       "  </tbody>\n",
       "</table>\n",
       "<p>3381 rows × 682 columns</p>\n",
       "</div>"
      ],
      "text/plain": [
       "                                      publication_title sections  \\\n",
       "0                  HANGING POCKET WITH TAMPER DETECTION        B   \n",
       "3     HANDHELD FLEXIBLE ROBOTIC CATHETER FOR ENDOSCO...        A   \n",
       "4                                     Charging Terminal        G   \n",
       "5                         Transmittance-Variable Device        G   \n",
       "7                                  MULTILAYER SUBSTRATE        H   \n",
       "...                                                 ...      ...   \n",
       "4994                Grain Bin Unloading Conveyor System        B   \n",
       "4996                  TECHNOLOGIES FOR CADDY ASSEMBLIES        B   \n",
       "4997  HUMERAL AND GLENOID ARTICULAR SURFACE IMPLANT ...        A   \n",
       "4998        NOISE CANCELLING SOUNDBAR DEVICE AND SYSTEM        H   \n",
       "4999  BROAD HOST RANGE GENETIC TOOLS FOR ENGINEERING...        C   \n",
       "\n",
       "     section_classes section_class_subclasses  \\\n",
       "0                B65                     B65D   \n",
       "3                A61                     A61B   \n",
       "4                G06                G06K,G06F   \n",
       "5                G02                     G02F   \n",
       "7                H05                     H05K   \n",
       "...              ...                      ...   \n",
       "4994             B65                     B65G   \n",
       "4996     B62,B65,B25           B62B,B65D,B25H   \n",
       "4997             A61                     A61F   \n",
       "4998             H04                     H04R   \n",
       "4999             C12                     C12N   \n",
       "\n",
       "                          section_class_subclass_groups cpc_sections  \\\n",
       "0                      B65D 75/14,B65D 75/52,B65D 75/56          [B]   \n",
       "3     A61B 34/00,A61B 34/35,A61B 1/05,A61B 1/018,A61...          [A]   \n",
       "4                                  G06K 7/00,G06F 13/42          [G]   \n",
       "5       G02F 1/139,G02F 1/13363,G02F 1/1335,G02F 1/1337          [G]   \n",
       "7                                             H05K 1/02          [H]   \n",
       "...                                                 ...          ...   \n",
       "4994                   B65G 65/42,B65G 21/08,B65G 21/02          [B]   \n",
       "4996  B62B 3/00,B65D 71/52,B65D 21/02,B62B 5/06,B62B...          [B]   \n",
       "4997                                A61F 2/40,A61F 2/30          [A]   \n",
       "4998                                          H04R 3/02          [H]   \n",
       "4999                               C12N 15/82,C12N 1/12          [C]   \n",
       "\n",
       "     cpc_section_classes cpc_section_class_subclasses  \\\n",
       "0                  [B65]                       [B65D]   \n",
       "3                  [A61]                       [A61B]   \n",
       "4                  [G06]                 [G06K, G06F]   \n",
       "5                  [G02]                       [G02F]   \n",
       "7             [H05, H01]                 [H05K, H01P]   \n",
       "...                  ...                          ...   \n",
       "4994               [B65]                       [B65G]   \n",
       "4996     [B62, B65, B25]           [B62B, B65D, B25H]   \n",
       "4997               [A61]                       [A61F]   \n",
       "4998               [H04]                       [H04R]   \n",
       "4999               [C12]                       [C12N]   \n",
       "\n",
       "                      cpc_section_class_subclass_groups  \\\n",
       "0     [B65D 75/14, B65D 2575/565, B65D 75/566, B65D ...   \n",
       "3     [A61B 34/74, A61B 34/35, A61B 1/05, A61B 2034/...   \n",
       "4           [G06K 7/0013, G06F 2213/0042, G06F 13/4282]   \n",
       "5     [G02F 1/1396, G02F 1/133636, G02F 2202/40, G02...   \n",
       "7                 [H05K 1/0298, H01P 3/00, H05K 1/0284]   \n",
       "...                                                 ...   \n",
       "4994  [B65G 65/42, B65G 2201/042, B65G 21/02, B65G 2...   \n",
       "4996  [B62B 3/006, B65D 71/0003, B65D 21/0212, B25H ...   \n",
       "4997  [A61F 2/4003, A61F 2/4081, A61F 2/30749, A61F ...   \n",
       "4998                                        [H04R 3/02]   \n",
       "4999                          [C12N 15/8209, C12N 1/12]   \n",
       "\n",
       "                                               abstract  ... G16Y  G06J  E99Z  \\\n",
       "0     A hanging pocket for point-of-sale display is ...  ...    0     0     0   \n",
       "3     A handheld, steerable catheter robotic system ...  ...    0     0     0   \n",
       "4     A battery-powered device comprising a power in...  ...    0     0     0   \n",
       "5     A transmittance-variable device is disclosed h...  ...    0     0     0   \n",
       "7     A multilayer substrate includes an insulator t...  ...    0     0     0   \n",
       "...                                                 ...  ...  ...   ...   ...   \n",
       "4994  An unloading conveyor system for unloading gra...  ...    0     0     0   \n",
       "4996  A container system including a storage base th...  ...    0     0     0   \n",
       "4997  A shoulder implant system comprising a glenoid...  ...    0     0     0   \n",
       "4998  A noise cancelling soundbar that may be integr...  ...    0     0     0   \n",
       "4999  Disclosed herein are a suite of genetic tools ...  ...    0     0     0   \n",
       "\n",
       "                                           relv_patents  \\\n",
       "0     [0, 239, 245, 309, 401, 613, 764, 1061, 1067, ...   \n",
       "3     [3, 8, 12, 76, 85, 96, 98, 132, 136, 159, 167,...   \n",
       "4     [4, 80, 185, 193, 250, 293, 328, 410, 428, 490...   \n",
       "5     [5, 68, 145, 166, 178, 198, 294, 359, 363, 458...   \n",
       "7                                       [7, 3716, 4844]   \n",
       "...                                                 ...   \n",
       "4994  [679, 995, 1378, 1779, 1884, 2487, 2521, 2557,...   \n",
       "4996                                             [4996]   \n",
       "4997  [9, 25, 85, 160, 208, 263, 322, 344, 375, 520,...   \n",
       "4998  [50, 80, 172, 379, 535, 633, 657, 660, 687, 69...   \n",
       "4999  [39, 176, 230, 231, 241, 259, 351, 519, 558, 6...   \n",
       "\n",
       "                                            major claim  len_k_3  \\\n",
       "0     A hanging pocket for point-of-sale display, th...      476   \n",
       "3     A surgical arrangement, comprising:an endoscop...      433   \n",
       "4     A power supply for one or more battery-powered...      472   \n",
       "5     A transmittance-variable device, comprising:a ...      383   \n",
       "7     A multilayer substrate comprising:an insulator...      308   \n",
       "...                                                 ...      ...   \n",
       "4994  An unloading conveyor system for a grain bin c...      171   \n",
       "4996  A storage system comprising a first storage ba...      519   \n",
       "4997  A shoulder implant system comprising:a glenoid...      409   \n",
       "4998  A noise cancelling soundbar, comprising:one or...      203   \n",
       "4999  A method for transforming an algal chloroplast...      149   \n",
       "\n",
       "                                          major claim 1  len_k_1  \\\n",
       "0     A hanging pocket for point-of-sale display, th...      134   \n",
       "3     A steerable catheter robotic system, comprisin...      172   \n",
       "4     A system comprising a battery-powered device a...      234   \n",
       "5     A transmittance-variable device, comprising:a ...      274   \n",
       "7     A multilayer substrate comprising:an insulator...      123   \n",
       "...                                                 ...      ...   \n",
       "4994  An unloading conveyor system for a grain bin c...       61   \n",
       "4996  A storage system comprising a first storage ba...      239   \n",
       "4997  A shoulder implant system comprising:a glenoid...      194   \n",
       "4998  A noise cancelling soundbar, comprising:one or...       42   \n",
       "4999  A method for transforming an algal nucleus, th...       75   \n",
       "\n",
       "                                          major claim 5  len_k_5  \n",
       "0     A hanging pocket for point-of-sale display, th...      546  \n",
       "3     A steerable catheter robotic system, comprisin...      550  \n",
       "4     A system comprising a battery-powered device a...      522  \n",
       "5     A transmittance-variable device, comprising:a ...      495  \n",
       "7     A multilayer substrate comprising:an insulator...      415  \n",
       "...                                                 ...      ...  \n",
       "4994  An unloading conveyor system for a grain bin c...      229  \n",
       "4996  A storage system comprising a first storage ba...      627  \n",
       "4997  A shoulder implant system comprising:a glenoid...      540  \n",
       "4998  A noise cancelling soundbar, comprising:one or...      308  \n",
       "4999  A method for transforming an algal chloroplast...      189  \n",
       "\n",
       "[3381 rows x 682 columns]"
      ]
     },
     "execution_count": 164,
     "metadata": {},
     "output_type": "execute_result"
    }
   ],
   "source": [
    "df"
   ]
  },
  {
   "cell_type": "code",
   "execution_count": 129,
   "metadata": {},
   "outputs": [
    {
     "data": {
      "text/plain": [
       "[G]          1004\n",
       "[H]           982\n",
       "[A]           594\n",
       "[B]           362\n",
       "[F]           170\n",
       "[C]           162\n",
       "[E]            95\n",
       "[D]            12\n",
       "[B, C]          1\n",
       "[B, E]          1\n",
       "[F, B, C]       1\n",
       "[G, B]          1\n",
       "[F, A, B]       1\n",
       "[G, A]          1\n",
       "[G, A]          1\n",
       "Name: cpc_sections, dtype: int64"
      ]
     },
     "execution_count": 129,
     "metadata": {},
     "output_type": "execute_result"
    }
   ],
   "source": [
    "label[:15]"
   ]
  },
  {
   "cell_type": "code",
   "execution_count": 195,
   "metadata": {},
   "outputs": [],
   "source": [
    "label1 = sorted(label1.items(),key=lambda x: x[1])"
   ]
  },
  {
   "cell_type": "code",
   "execution_count": 196,
   "metadata": {},
   "outputs": [
    {
     "data": {
      "text/plain": [
       "[('D', 30),\n",
       " ('Y', 36),\n",
       " ('E', 195),\n",
       " ('F', 377),\n",
       " ('C', 503),\n",
       " ('B', 907),\n",
       " ('A', 1015),\n",
       " ('H', 1776),\n",
       " ('G', 1980)]"
      ]
     },
     "execution_count": 196,
     "metadata": {},
     "output_type": "execute_result"
    }
   ],
   "source": [
    "label1"
   ]
  },
  {
   "cell_type": "code",
   "execution_count": 197,
   "metadata": {},
   "outputs": [],
   "source": [
    "label1 = [x[0] for x in label1]"
   ]
  },
  {
   "cell_type": "code",
   "execution_count": 198,
   "metadata": {},
   "outputs": [
    {
     "data": {
      "text/plain": [
       "['D', 'Y', 'E', 'F', 'C', 'B', 'A', 'H', 'G']"
      ]
     },
     "execution_count": 198,
     "metadata": {},
     "output_type": "execute_result"
    }
   ],
   "source": [
    "label1"
   ]
  },
  {
   "cell_type": "code",
   "execution_count": 199,
   "metadata": {},
   "outputs": [],
   "source": [
    "def find_class(x):\n",
    "    for k,i in enumerate(label1):\n",
    "        if x == i:\n",
    "            return k\n",
    "    return -1\n",
    "\n",
    "targets = df[:-8].cpc_sections.apply(find_class)\n",
    "            "
   ]
  },
  {
   "cell_type": "code",
   "execution_count": 200,
   "metadata": {},
   "outputs": [
    {
     "data": {
      "text/plain": [
       "8    1004\n",
       "7     980\n",
       "6     591\n",
       "5     360\n",
       "3     170\n",
       "4     161\n",
       "2      95\n",
       "0      12\n",
       "Name: cpc_sections, dtype: int64"
      ]
     },
     "execution_count": 200,
     "metadata": {},
     "output_type": "execute_result"
    }
   ],
   "source": [
    "targets.value_counts()"
   ]
  },
  {
   "cell_type": "code",
   "execution_count": 201,
   "metadata": {},
   "outputs": [],
   "source": [
    "targets = targets.to_list()"
   ]
  },
  {
   "cell_type": "code",
   "execution_count": 245,
   "metadata": {},
   "outputs": [
    {
     "data": {
      "image/png": "[encoded data removed]",
      "text/plain": [
       "<Figure size 1152x576 with 2 Axes>"
      ]
     },
     "metadata": {
      "needs_background": "light"
     },
     "output_type": "display_data"
    }
   ],
   "source": [
    "plt.figure(figsize=(16, 8))\n",
    "plt.subplot(121)\n",
    "plt.scatter(tsne[:, 0], tsne[:, 1],c=targets,label=label1)\n",
    "plt.legend()\n",
    "plt.subplot(122)\n",
    "plt.scatter(tsne[:, 0], tsne[:, 1],c=targets,label=label1)\n",
    "plt.legend()\n",
    "plt.savefig(\"t-sne.png\",dpi=200)"
   ]
  },
  {
   "cell_type": "code",
   "execution_count": 241,
   "metadata": {},
   "outputs": [
    {
     "name": "stderr",
     "output_type": "stream",
     "text": [
      "/root/miniconda3/lib/python3.8/site-packages/sklearn/manifold/_t_sne.py:780: FutureWarning: The default initialization in TSNE will change from 'random' to 'pca' in 1.2.\n",
      "  warnings.warn(\n",
      "/root/miniconda3/lib/python3.8/site-packages/sklearn/manifold/_t_sne.py:819: FutureWarning: 'square_distances' has been introduced in 0.24 to help phase out legacy squaring behavior. The 'legacy' setting will be removed in 1.1 (renaming of 0.26), and the default setting will be changed to True. In 1.3, 'square_distances' will be removed altogether, and distances will be squared by default. Set 'square_distances'=True to silence this warning.\n",
      "  warnings.warn(\n"
     ]
    }
   ],
   "source": [
    "tsne = TSNE(n_components=2, learning_rate=1000, metric='cosine',random_state=42,\n",
    "            n_jobs=-1).fit_transform(data)"
   ]
  },
  {
   "cell_type": "code",
   "execution_count": 236,
   "metadata": {},
   "outputs": [
    {
     "name": "stderr",
     "output_type": "stream",
     "text": [
      "/root/miniconda3/lib/python3.8/site-packages/sklearn/manifold/_t_sne.py:780: FutureWarning: The default initialization in TSNE will change from 'random' to 'pca' in 1.2.\n",
      "  warnings.warn(\n",
      "/root/miniconda3/lib/python3.8/site-packages/sklearn/manifold/_t_sne.py:819: FutureWarning: 'square_distances' has been introduced in 0.24 to help phase out legacy squaring behavior. The 'legacy' setting will be removed in 1.1 (renaming of 0.26), and the default setting will be changed to True. In 1.3, 'square_distances' will be removed altogether, and distances will be squared by default. Set 'square_distances'=True to silence this warning.\n",
      "  warnings.warn(\n"
     ]
    }
   ],
   "source": [
    "from sklearn.manifold import TSNE\n",
    "tsne = TSNE(n_components=2, learning_rate=200, metric='cosine',n_jobs=-1)\n",
    "tsne.fit_transform(data)\n",
    "outs_2d = np.array(tsne.embedding_)\n",
    "\n",
    "\n"
   ]
  },
  {
   "cell_type": "code",
   "execution_count": 239,
   "metadata": {},
   "outputs": [
    {
     "data": {
      "text/plain": [
       "Text(0.5, 1.0, 'feats dimensionality reduction visualization by tSNE,test data')"
      ]
     },
     "execution_count": 239,
     "metadata": {},
     "output_type": "execute_result"
    },
    {
     "data": {
      "image/png": "[encoded data removed]",
      "text/plain": [
       "<Figure size 432x288 with 1 Axes>"
      ]
     },
     "metadata": {
      "needs_background": "light"
     },
     "output_type": "display_data"
    }
   ],
   "source": [
    "import matplotlib.pyplot as plt\n",
    "import matplotlib.colors as mcolors\n",
    "css4 = list(mcolors.CSS4_COLORS.keys())\n",
    "#我选择了一些较清楚的颜色，更多的类时也能画清晰\n",
    "color_ind = [2,7,9,10,11,13,14,16,17,19,20,21,25,28,30,31,32,37,38,40,47,51,\n",
    "         55,60,65,82,85,88,106,110,115,118,120,125,131,135,139,142,146,147]\n",
    "css4 = [css4[v] for v in color_ind]\n",
    "for lbi in range(10):\n",
    "    temp = outs_2d[label1==lbi]\n",
    "    plt.plot(temp[:,0],temp[:,1],'.',color=css4[lbi])\n",
    "plt.title('feats dimensionality reduction visualization by tSNE,test data')\n"
   ]
  },
  {
   "cell_type": "code",
   "execution_count": null,
   "metadata": {},
   "outputs": [],
   "source": []
  }
 ],
 "metadata": {
  "kernelspec": {
   "display_name": "Python 3 (ipykernel)",
   "language": "python",
   "name": "python3"
  },
  "language_info": {
   "codemirror_mode": {
    "name": "ipython",
    "version": 3
   },
   "file_extension": ".py",
   "mimetype": "text/x-python",
   "name": "python",
   "nbconvert_exporter": "python",
   "pygments_lexer": "ipython3",
   "version": "3.8.10"
  },
  "widgets": {
   "application/vnd.jupyter.widget-state+json": {
    "state": {
     "164dc99c25814f6ab80b1620d5bbdccb": {
      "model_module": "@jupyter-widgets/controls",
      "model_module_version": "1.5.0",
      "model_name": "FloatProgressModel",
      "state": {
       "layout": "IPY_MODEL_5445e44543df4f0593767b43681f48f0",
       "max": 86055,
       "style": "IPY_MODEL_ccb7249e92c14924821f89b126e0cacd",
       "value": 85982
      }
     },
     "1d50adeb23e542a5aa98f7de96d6a9d7": {
      "model_module": "@jupyter-widgets/controls",
      "model_module_version": "1.5.0",
      "model_name": "ProgressStyleModel",
      "state": {
       "description_width": ""
      }
     },
     "1e895d0af15b4ff2a6c2ad14a91f5748": {
      "model_module": "@jupyter-widgets/controls",
      "model_module_version": "1.5.0",
      "model_name": "FloatProgressModel",
      "state": {
       "layout": "IPY_MODEL_c903ce8ed8c54437b67158c54da3a22a",
       "max": 10757,
       "style": "IPY_MODEL_f8a513de577440318b252bef4f2da141",
       "value": 9544
      }
     },
     "20a637e61a934dc3a1c79ed24c7cecd1": {
      "model_module": "@jupyter-widgets/controls",
      "model_module_version": "1.5.0",
      "model_name": "HTMLModel",
      "state": {
       "layout": "IPY_MODEL_6ec90b1f56454be6b23a9bbfc75ffcf1",
       "style": "IPY_MODEL_6d5cbecbab2a45b28710fe24e4ac6de6",
       "value": " 85982/86055 [11:24:22&lt;00:35,  2.06it/s]"
      }
     },
     "2748d0831de24a3288e63ff82496a7d9": {
      "model_module": "@jupyter-widgets/controls",
      "model_module_version": "1.5.0",
      "model_name": "FloatProgressModel",
      "state": {
       "layout": "IPY_MODEL_90cfa066ef354ea2b1ee38ef9a5f8099",
       "max": 5,
       "style": "IPY_MODEL_593f5fe9c83d4b85a4fbd9fd447b8e9a"
      }
     },
     "2b90dffa457c429f99c92d510b048761": {
      "model_module": "@jupyter-widgets/controls",
      "model_module_version": "1.5.0",
      "model_name": "DescriptionStyleModel",
      "state": {
       "description_width": ""
      }
     },
     "309c7152a11d4c1381a88e9c451751c9": {
      "model_module": "@jupyter-widgets/controls",
      "model_module_version": "1.5.0",
      "model_name": "DescriptionStyleModel",
      "state": {
       "description_width": ""
      }
     },
     "37e133be36cf4b31a6e83448ade7534b": {
      "model_module": "@jupyter-widgets/controls",
      "model_module_version": "1.5.0",
      "model_name": "FloatProgressModel",
      "state": {
       "layout": "IPY_MODEL_728b2a6ea0f0465282eb7464e28b8f85",
       "max": 86055,
       "style": "IPY_MODEL_1d50adeb23e542a5aa98f7de96d6a9d7",
       "value": 44175
      }
     },
     "3896630326114e08b072c857b038bc1a": {
      "model_module": "@jupyter-widgets/base",
      "model_module_version": "1.2.0",
      "model_name": "LayoutModel",
      "state": {}
     },
     "3a7d8d6da3f54f238b0afea6e7ee2b85": {
      "model_module": "@jupyter-widgets/controls",
      "model_module_version": "1.5.0",
      "model_name": "HTMLModel",
      "state": {
       "layout": "IPY_MODEL_a467379af6fb4610af04419257bcd97e",
       "style": "IPY_MODEL_2b90dffa457c429f99c92d510b048761",
       "value": "Eval:  89%"
      }
     },
     "3ae8ae0bda93481196c4f129a01bf000": {
      "model_module": "@jupyter-widgets/controls",
      "model_module_version": "1.5.0",
      "model_name": "HTMLModel",
      "state": {
       "layout": "IPY_MODEL_f50ae3f29d31451f941bca0d4a03a215",
       "style": "IPY_MODEL_8ee2175173904a2eb2d9aba4753e15d6",
       "value": " 44175/86055 [5:52:16&lt;4:55:35,  2.36it/s]"
      }
     },
     "4314a58991154b8e862b9b2e0aebef2c": {
      "model_module": "@jupyter-widgets/controls",
      "model_module_version": "1.5.0",
      "model_name": "HBoxModel",
      "state": {
       "children": [
        "IPY_MODEL_f12a82db3205424182376a8b167778d1",
        "IPY_MODEL_37e133be36cf4b31a6e83448ade7534b",
        "IPY_MODEL_3ae8ae0bda93481196c4f129a01bf000"
       ],
       "layout": "IPY_MODEL_3896630326114e08b072c857b038bc1a"
      }
     },
     "434444785a7e447e87e0cad98313ad1f": {
      "model_module": "@jupyter-widgets/controls",
      "model_module_version": "1.5.0",
      "model_name": "DescriptionStyleModel",
      "state": {
       "description_width": ""
      }
     },
     "5445e44543df4f0593767b43681f48f0": {
      "model_module": "@jupyter-widgets/base",
      "model_module_version": "1.2.0",
      "model_name": "LayoutModel",
      "state": {}
     },
     "556f902dd03b49fbb6bf7120e444631e": {
      "model_module": "@jupyter-widgets/controls",
      "model_module_version": "1.5.0",
      "model_name": "DescriptionStyleModel",
      "state": {
       "description_width": ""
      }
     },
     "573e3df279c94dcdbcca6d4fbc2baba5": {
      "model_module": "@jupyter-widgets/base",
      "model_module_version": "1.2.0",
      "model_name": "LayoutModel",
      "state": {}
     },
     "593f5fe9c83d4b85a4fbd9fd447b8e9a": {
      "model_module": "@jupyter-widgets/controls",
      "model_module_version": "1.5.0",
      "model_name": "ProgressStyleModel",
      "state": {
       "description_width": ""
      }
     },
     "6c8675f1019348b090dcfd9a695e28ca": {
      "model_module": "@jupyter-widgets/controls",
      "model_module_version": "1.5.0",
      "model_name": "DescriptionStyleModel",
      "state": {
       "description_width": ""
      }
     },
     "6d5cbecbab2a45b28710fe24e4ac6de6": {
      "model_module": "@jupyter-widgets/controls",
      "model_module_version": "1.5.0",
      "model_name": "DescriptionStyleModel",
      "state": {
       "description_width": ""
      }
     },
     "6ec90b1f56454be6b23a9bbfc75ffcf1": {
      "model_module": "@jupyter-widgets/base",
      "model_module_version": "1.2.0",
      "model_name": "LayoutModel",
      "state": {}
     },
     "6ef42ab2cf214b2a9c161320cab5eaf4": {
      "model_module": "@jupyter-widgets/controls",
      "model_module_version": "1.5.0",
      "model_name": "HTMLModel",
      "state": {
       "layout": "IPY_MODEL_e5da622f865b4be589d33d9bf11bff95",
       "style": "IPY_MODEL_309c7152a11d4c1381a88e9c451751c9",
       "value": "  0%"
      }
     },
     "728b2a6ea0f0465282eb7464e28b8f85": {
      "model_module": "@jupyter-widgets/base",
      "model_module_version": "1.2.0",
      "model_name": "LayoutModel",
      "state": {}
     },
     "8ee2175173904a2eb2d9aba4753e15d6": {
      "model_module": "@jupyter-widgets/controls",
      "model_module_version": "1.5.0",
      "model_name": "DescriptionStyleModel",
      "state": {
       "description_width": ""
      }
     },
     "90cfa066ef354ea2b1ee38ef9a5f8099": {
      "model_module": "@jupyter-widgets/base",
      "model_module_version": "1.2.0",
      "model_name": "LayoutModel",
      "state": {}
     },
     "9820aa3240884437b73ec6ac97f9bfeb": {
      "model_module": "@jupyter-widgets/base",
      "model_module_version": "1.2.0",
      "model_name": "LayoutModel",
      "state": {}
     },
     "9a7a893bdc5b4996bb0af662499a1031": {
      "model_module": "@jupyter-widgets/controls",
      "model_module_version": "1.5.0",
      "model_name": "HBoxModel",
      "state": {
       "children": [
        "IPY_MODEL_3a7d8d6da3f54f238b0afea6e7ee2b85",
        "IPY_MODEL_1e895d0af15b4ff2a6c2ad14a91f5748",
        "IPY_MODEL_d8a58dc7a14847c380437b483941f7b8"
       ],
       "layout": "IPY_MODEL_bb728dc1babb44c59b277d6c0fae77d1"
      }
     },
     "9acb681f98d74355b0d50fd3392c7ec2": {
      "model_module": "@jupyter-widgets/base",
      "model_module_version": "1.2.0",
      "model_name": "LayoutModel",
      "state": {}
     },
     "a3685fa7e19d4cc78a84fe0f9a47d392": {
      "model_module": "@jupyter-widgets/base",
      "model_module_version": "1.2.0",
      "model_name": "LayoutModel",
      "state": {}
     },
     "a467379af6fb4610af04419257bcd97e": {
      "model_module": "@jupyter-widgets/base",
      "model_module_version": "1.2.0",
      "model_name": "LayoutModel",
      "state": {}
     },
     "ad8d9ad1431f4ab2961b70feb3bffef4": {
      "model_module": "@jupyter-widgets/base",
      "model_module_version": "1.2.0",
      "model_name": "LayoutModel",
      "state": {}
     },
     "bb728dc1babb44c59b277d6c0fae77d1": {
      "model_module": "@jupyter-widgets/base",
      "model_module_version": "1.2.0",
      "model_name": "LayoutModel",
      "state": {}
     },
     "c0bbf35d93224082a7f0abddb98cecf8": {
      "model_module": "@jupyter-widgets/base",
      "model_module_version": "1.2.0",
      "model_name": "LayoutModel",
      "state": {}
     },
     "c15c1985d6914f08b96560a7231ee0ae": {
      "model_module": "@jupyter-widgets/controls",
      "model_module_version": "1.5.0",
      "model_name": "HTMLModel",
      "state": {
       "layout": "IPY_MODEL_a3685fa7e19d4cc78a84fe0f9a47d392",
       "style": "IPY_MODEL_434444785a7e447e87e0cad98313ad1f",
       "value": " 0/5 [00:00&lt;?, ?it/s]"
      }
     },
     "c903ce8ed8c54437b67158c54da3a22a": {
      "model_module": "@jupyter-widgets/base",
      "model_module_version": "1.2.0",
      "model_name": "LayoutModel",
      "state": {}
     },
     "ccb7249e92c14924821f89b126e0cacd": {
      "model_module": "@jupyter-widgets/controls",
      "model_module_version": "1.5.0",
      "model_name": "ProgressStyleModel",
      "state": {
       "description_width": ""
      }
     },
     "d5e99427fc1a466589e96bf94e2e0b89": {
      "model_module": "@jupyter-widgets/controls",
      "model_module_version": "1.5.0",
      "model_name": "HBoxModel",
      "state": {
       "children": [
        "IPY_MODEL_6ef42ab2cf214b2a9c161320cab5eaf4",
        "IPY_MODEL_2748d0831de24a3288e63ff82496a7d9",
        "IPY_MODEL_c15c1985d6914f08b96560a7231ee0ae"
       ],
       "layout": "IPY_MODEL_c0bbf35d93224082a7f0abddb98cecf8"
      }
     },
     "d8a58dc7a14847c380437b483941f7b8": {
      "model_module": "@jupyter-widgets/controls",
      "model_module_version": "1.5.0",
      "model_name": "HTMLModel",
      "state": {
       "layout": "IPY_MODEL_ad8d9ad1431f4ab2961b70feb3bffef4",
       "style": "IPY_MODEL_f1587b8254aa4fe995d0262ff5c0ff0d",
       "value": " 9544/10757 [25:20&lt;03:20,  6.06it/s]"
      }
     },
     "e5da622f865b4be589d33d9bf11bff95": {
      "model_module": "@jupyter-widgets/base",
      "model_module_version": "1.2.0",
      "model_name": "LayoutModel",
      "state": {}
     },
     "e6911c72c9fb4701bf09e05c358cc971": {
      "model_module": "@jupyter-widgets/controls",
      "model_module_version": "1.5.0",
      "model_name": "HBoxModel",
      "state": {
       "children": [
        "IPY_MODEL_f16d3926bf7d42f3a864c8aaf75d8fa2",
        "IPY_MODEL_164dc99c25814f6ab80b1620d5bbdccb",
        "IPY_MODEL_20a637e61a934dc3a1c79ed24c7cecd1"
       ],
       "layout": "IPY_MODEL_573e3df279c94dcdbcca6d4fbc2baba5"
      }
     },
     "f12a82db3205424182376a8b167778d1": {
      "model_module": "@jupyter-widgets/controls",
      "model_module_version": "1.5.0",
      "model_name": "HTMLModel",
      "state": {
       "layout": "IPY_MODEL_9820aa3240884437b73ec6ac97f9bfeb",
       "style": "IPY_MODEL_6c8675f1019348b090dcfd9a695e28ca",
       "value": "Train:  49%"
      }
     },
     "f1587b8254aa4fe995d0262ff5c0ff0d": {
      "model_module": "@jupyter-widgets/controls",
      "model_module_version": "1.5.0",
      "model_name": "DescriptionStyleModel",
      "state": {
       "description_width": ""
      }
     },
     "f16d3926bf7d42f3a864c8aaf75d8fa2": {
      "model_module": "@jupyter-widgets/controls",
      "model_module_version": "1.5.0",
      "model_name": "HTMLModel",
      "state": {
       "layout": "IPY_MODEL_9acb681f98d74355b0d50fd3392c7ec2",
       "style": "IPY_MODEL_556f902dd03b49fbb6bf7120e444631e",
       "value": "Train: 100%"
      }
     },
     "f50ae3f29d31451f941bca0d4a03a215": {
      "model_module": "@jupyter-widgets/base",
      "model_module_version": "1.2.0",
      "model_name": "LayoutModel",
      "state": {}
     },
     "f8a513de577440318b252bef4f2da141": {
      "model_module": "@jupyter-widgets/controls",
      "model_module_version": "1.5.0",
      "model_name": "ProgressStyleModel",
      "state": {
       "description_width": ""
      }
     }
    },
    "version_major": 2,
    "version_minor": 0
   }
  }
 },
 "nbformat": 4,
 "nbformat_minor": 4
}
