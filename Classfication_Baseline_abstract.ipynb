{
 "cells": [
  {
   "cell_type": "code",
   "execution_count": null,
   "metadata": {},
   "outputs": [],
   "source": [
    "import os\n",
    "import pandas as pd\n",
    "import numpy as np\n",
    "import random\n",
    "from tqdm.auto import tqdm\n",
    "import time\n",
    "import torch\n",
    "import torch.nn as nn\n",
    "from torch.utils.data import Dataset, DataLoader\n",
    "\n",
    "from transformers import BertTokenizerFast as BertTokenizer, BertModel, AdamW, get_linear_schedule_with_warmup\n",
    "from sklearn.model_selection import train_test_split\n",
    "from sklearn.metrics import classification_report, multilabel_confusion_matrix\n",
    "\n",
    "\n",
    "BERT_MODEL_NAME = 'bert-base-uncased'\n",
    "tokenizer = BertTokenizer.from_pretrained('bert-base-uncased')\n",
    "device = torch.device(\"cuda\" if torch.cuda.is_available() else \"cpu\")\n",
    "\n",
    "\n",
    "EPOCHS = 1\n",
    "MAX_TOKEN_COUNT = 512\n",
    "BATCH_SIZE = 32"
   ]
  },
  {
   "cell_type": "code",
   "execution_count": null,
   "metadata": {},
   "outputs": [],
   "source": [
    "from torch.cuda.amp import autocast as autocast\n",
    "from torch.cuda.amp import GradScaler as GradScaler"
   ]
  },
  {
   "cell_type": "code",
   "execution_count": null,
   "metadata": {},
   "outputs": [],
   "source": [
    "def setup_seed(seed):\n",
    "    torch.manual_seed(seed)\n",
    "    torch.cuda.manual_seed_all(seed)\n",
    "    np.random.seed(seed)\n",
    "    random.seed(seed)\n",
    "    torch.backends.cudnn.deterministic = True\n",
    "# 设置随机数种子\n",
    "setup_seed(20)"
   ]
  },
  {
   "cell_type": "code",
   "execution_count": null,
   "metadata": {},
   "outputs": [],
   "source": [
    "%%time \n",
    "train_df=pd.read_feather(\"Hierarchical major.feather\")\n",
    "val_df=pd.read_feather(\"./autodl-nas/CoPatE/USPTO-2M_Validation.feather\")\n",
    "\n",
    "LABEL_COLUMNS=train_df.columns[11:]\n",
    "LABEL_COLUMNS"
   ]
  },
  {
   "cell_type": "code",
   "execution_count": null,
   "metadata": {},
   "outputs": [],
   "source": [
    "LABEL_COLUMNS=train_df.columns[11:-139]\n",
    "LABEL_COLUMNS"
   ]
  },
  {
   "cell_type": "code",
   "execution_count": null,
   "metadata": {},
   "outputs": [],
   "source": [
    "test_df = pd.read_feather(\"Test.feather\")"
   ]
  },
  {
   "cell_type": "code",
   "execution_count": null,
   "metadata": {},
   "outputs": [],
   "source": [
    "LABEL_COLUMNS=test_df.columns[11:-7]\n",
    "LABEL_COLUMNS"
   ]
  },
  {
   "cell_type": "code",
   "execution_count": null,
   "metadata": {},
   "outputs": [],
   "source": [
    "class PatentDataset(Dataset):\n",
    "    \"\"\"\n",
    "    Pass pandas dataframe, and tokeizer along with the max token length[128 default]\n",
    "    \n",
    "    Example: \n",
    "    -------\n",
    "    train_dataset = ToxicCommentsDataset(\n",
    "      train_df,\n",
    "      tokenizer,\n",
    "      max_token_len=MAX_TOKEN_COUNT\n",
    "    )\n",
    "\n",
    "    sample_item = train_dataset[0]\n",
    "    \n",
    "    \"\"\"\n",
    "    \n",
    "    \n",
    "    def __init__(\n",
    "        self,\n",
    "        data: pd.DataFrame,\n",
    "        tokenizer: BertTokenizer,\n",
    "        max_token_len: int = 512,\n",
    "        test= False\n",
    "    ):\n",
    "        self.data = data\n",
    "        self.tokenizer = tokenizer\n",
    "        self.max_token_len = max_token_len\n",
    "        self.test = test\n",
    "        \n",
    "    \n",
    "    def __len__(self):\n",
    "        return len(self.data)\n",
    "    \n",
    "    \n",
    "    def __getitem__(self, index: int):\n",
    "        data_row = self.data.iloc[index]\n",
    "        comment_text = \"\".join(data_row.claims)\n",
    "\n",
    "        if not self.test:\n",
    "            labels = data_row[LABEL_COLUMNS]\n",
    "        \n",
    "        encoding = self.tokenizer.encode_plus(\n",
    "            comment_text,\n",
    "            max_length=self.max_token_len,\n",
    "            padding=\"max_length\",\n",
    "            truncation=True,\n",
    "            add_special_tokens=True, # [CLS] & [SEP]\n",
    "            return_token_type_ids=False,\n",
    "            return_attention_mask=True, #attention_mask\n",
    "            return_tensors='pt',\n",
    "        )\n",
    "        \n",
    "        if not self.test:\n",
    "            return dict(\n",
    "            comment_text=comment_text,\n",
    "            input_ids = encoding[\"input_ids\"].flatten(),\n",
    "            attention_mask=encoding[\"attention_mask\"].flatten(),\n",
    "            labels=torch.FloatTensor(labels)\n",
    "        )\n",
    "        else:\n",
    "            return dict(\n",
    "                comment_text=comment_text,\n",
    "                input_ids = encoding[\"input_ids\"].flatten(),\n",
    "                attention_mask=encoding[\"attention_mask\"].flatten()\n",
    "            )\n",
    "        "
   ]
  },
  {
   "cell_type": "code",
   "execution_count": null,
   "metadata": {},
   "outputs": [],
   "source": [
    "train_dataset = PatentDataset(\n",
    "  train_df,\n",
    "  tokenizer,\n",
    "  max_token_len=MAX_TOKEN_COUNT\n",
    ")\n",
    "\n",
    "val_dataset = PatentDataset(\n",
    "  val_df,\n",
    "  tokenizer,\n",
    "  max_token_len=MAX_TOKEN_COUNT\n",
    ")"
   ]
  },
  {
   "cell_type": "code",
   "execution_count": null,
   "metadata": {},
   "outputs": [],
   "source": [
    "train_dataloader = DataLoader(train_dataset, batch_size=BATCH_SIZE, shuffle=True,drop_last = True)\n",
    "val_dataloader = DataLoader(val_dataset, batch_size=BATCH_SIZE, shuffle=False, drop_last = True)"
   ]
  },
  {
   "cell_type": "code",
   "execution_count": null,
   "metadata": {},
   "outputs": [],
   "source": [
    "class PatentTagger(nn.Module):\n",
    "\n",
    "    def __init__(self, n_classes: int, n_training_steps=None, n_warmup_steps=None):\n",
    "        super().__init__()\n",
    "        self.bert = BertModel.from_pretrained(BERT_MODEL_NAME, return_dict=True) #load the pretrained bert model\n",
    "        self.classifier = nn.Linear(self.bert.config.hidden_size, n_classes) # add a linear layer to the bert\n",
    "        self.n_training_steps = n_training_steps\n",
    "        self.n_warmup_steps = n_warmup_steps\n",
    "        self.criterion = nn.BCEWithLogitsLoss()\n",
    "        self.dropout = nn.Dropout(self.bert.config.hidden_dropout_prob)\n",
    "        \n",
    "    def forward(self, input_ids, attention_mask, labels=None):\n",
    "        output = self.bert(input_ids, attention_mask=attention_mask)\n",
    "        output = self.classifier(self.dropout(output.last_hidden_state[:,0])) \n",
    "        loss = 0\n",
    "        if labels is not None:\n",
    "            loss = self.criterion(output, labels)\n",
    "        return loss, output"
   ]
  },
  {
   "cell_type": "code",
   "execution_count": null,
   "metadata": {},
   "outputs": [],
   "source": [
    "model = PatentTagger(len(LABEL_COLUMNS)).to(device)\n",
    "\n",
    "N_EPOCHS = 1\n",
    "\n",
    "steps_per_epoch=len(train_df) // BATCH_SIZE\n",
    "total_training_steps = steps_per_epoch * N_EPOCHS\n",
    "warmup_steps = total_training_steps // 10\n",
    "warmup_steps, total_training_steps"
   ]
  },
  {
   "cell_type": "code",
   "execution_count": null,
   "metadata": {},
   "outputs": [],
   "source": [
    "optimizer = AdamW(model.parameters(), lr=5e-5)\n",
    "\n",
    "scheduler = get_linear_schedule_with_warmup(\n",
    "    optimizer,\n",
    "    num_warmup_steps=warmup_steps,\n",
    "    num_training_steps=total_training_steps\n",
    ")"
   ]
  },
  {
   "cell_type": "code",
   "execution_count": null,
   "metadata": {},
   "outputs": [],
   "source": [
    "from sklearn.metrics import roc_auc_score\n",
    "from sklearn.metrics import precision_score\n",
    "\n",
    "# function for evaluating the model\n",
    "def evaluate(mydataloader):\n",
    "\n",
    "    print(\"\\nEvaluating...\")\n",
    "    #t0 = time.time()\n",
    "    # deactivate dropout layers\n",
    "    model.eval()\n",
    "\n",
    "    total_loss, total_accuracy = 0, 0\n",
    "\n",
    "    # empty list to save the model predictions\n",
    "    total_preds = []\n",
    "    total_labels = []\n",
    "\n",
    "    # iterate over batches\n",
    "    for step,batch in tqdm(enumerate(mydataloader),total=len(mydataloader)):\n",
    "\n",
    "        input_ids = batch[\"input_ids\"].to(device)\n",
    "        attention_mask = batch[\"attention_mask\"].to(device)\n",
    "        labels = batch[\"labels\"].to(device)   \n",
    "\n",
    "        with autocast():\n",
    "            with torch.no_grad():\n",
    "                loss, outputs = model(input_ids, attention_mask, labels)\n",
    "                outputs = torch.sigmoid(outputs)\n",
    "                \n",
    "        total_loss = total_loss + loss.float().item()\n",
    "        outputs = outputs.detach().float().cpu().numpy()\n",
    "        labels = labels.detach().float().cpu().numpy()\n",
    "        total_preds.append(outputs)\n",
    "        total_labels.append(labels)\n",
    "\n",
    "    avg_loss = total_loss / len(mydataloader)\n",
    "\n",
    "    total_preds  = np.concatenate(total_preds, axis=0)\n",
    "    total_labels = np.concatenate(total_labels, axis=0)\n",
    "\n",
    "    print(f\"Evaluate loss {total_loss / len(mydataloader)}\")\n",
    "    model.train()\n",
    "    return avg_loss, total_preds, total_labels"
   ]
  },
  {
   "cell_type": "code",
   "execution_count": null,
   "metadata": {},
   "outputs": [],
   "source": [
    "# function to train the model\n",
    "def train():\n",
    "    \n",
    "    now=time.strftime('%Y-%m-%d %H:%M:%S', time.localtime())\n",
    "    best_valid_loss = float('inf')\n",
    "    model.train()\n",
    "\n",
    "    total_loss, total_accuracy = 0, 0\n",
    "    avg_loss = 0\n",
    "    scaler = GradScaler()\n",
    "   \n",
    "    # iterate over batches\n",
    "    for step,batch in tqdm(enumerate(train_dataloader),total=len(train_dataloader),desc=\"Train\"):\n",
    "        \n",
    "        if step%10000 == 0 and step!=0:\n",
    "            valid_loss,_,_ = evaluate(val_dataloader)\n",
    "            if valid_loss < best_valid_loss:\n",
    "                best_valid_loss = valid_loss\n",
    "                torch.save(model.state_dict(), f\"./model/BERT-first512.pt\")\n",
    "\n",
    "        input_ids = batch[\"input_ids\"].to(device)\n",
    "        attention_mask = batch[\"attention_mask\"].to(device)\n",
    "        labels = batch[\"labels\"].to(device)     \n",
    "\n",
    "        model.zero_grad() \n",
    "        with autocast():\n",
    "            loss, _ = model(input_ids, attention_mask, labels)\n",
    "            \n",
    "        \n",
    "        scaler.scale(loss).backward()\n",
    "        \n",
    "        if step%100 == 0 :\n",
    "            print(f\"step: {step} loss: {loss}\")\n",
    "            losses.append(loss.float().cpu())\n",
    "        # add on to the total loss\n",
    "        total_loss = total_loss + loss.float().item()\n",
    "        scaler.unscale_(optimizer)\n",
    "        torch.nn.utils.clip_grad_norm_(model.parameters(), 1.0)\n",
    "        scaler.step(optimizer)\n",
    "        scheduler.step()\n",
    "        scaler.update()\n",
    "\n",
    "    # compute the training loss of the epoch\n",
    "    avg_loss = total_loss / len(train_dataloader)\n",
    "\n",
    "    return avg_loss"
   ]
  },
  {
   "cell_type": "code",
   "execution_count": null,
   "metadata": {
    "tags": []
   },
   "outputs": [],
   "source": [
    "import time\n",
    "from tqdm.auto import tqdm\n",
    "losses = []\n",
    "\n",
    "now=time.strftime('%Y-%m-%d %H:%M:%S', time.localtime())\n",
    "print(now)\n",
    "train_loss = train()"
   ]
  },
  {
   "cell_type": "code",
   "execution_count": 44,
   "metadata": {},
   "outputs": [],
   "source": [
    "losses = [t.detach().numpy() for t in losses]"
   ]
  },
  {
   "cell_type": "code",
   "execution_count": 17,
   "metadata": {},
   "outputs": [],
   "source": [
    "import matplotlib.pyplot as plt"
   ]
  },
  {
   "cell_type": "code",
   "execution_count": 46,
   "metadata": {},
   "outputs": [],
   "source": [
    "d=pd.read_csv(\"losses_Tags.csv\")"
   ]
  },
  {
   "cell_type": "code",
   "execution_count": 50,
   "metadata": {},
   "outputs": [],
   "source": [
    "losses_tags = d['0'].to_numpy()"
   ]
  },
  {
   "cell_type": "code",
   "execution_count": 56,
   "metadata": {},
   "outputs": [
    {
     "data": {
      "image/png": "[encoded data removed]",
      "text/plain": [
       "<Figure size 432x288 with 1 Axes>"
      ]
     },
     "metadata": {
      "needs_background": "light"
     },
     "output_type": "display_data"
    }
   ],
   "source": [
    "plt.plot(losses[:40],label='BERT')\n",
    "plt.plot(losses_tags[:40],label='Associate Tags')\n",
    "plt.legend()\n",
    "plt.savefig(\"losses.png\",dpi=200)\n",
    "plt.show()"
   ]
  },
  {
   "cell_type": "code",
   "execution_count": 57,
   "metadata": {},
   "outputs": [],
   "source": [
    "d = pd.DataFrame(losses)"
   ]
  },
  {
   "cell_type": "code",
   "execution_count": 59,
   "metadata": {},
   "outputs": [],
   "source": [
    "d.to_csv(\"losses.csv\")"
   ]
  },
  {
   "cell_type": "code",
   "execution_count": 21,
   "metadata": {},
   "outputs": [],
   "source": [
    "with open(\"untitled.txt\",'r') as fr:\n",
    "    data = fr.readlines()"
   ]
  },
  {
   "cell_type": "code",
   "execution_count": 22,
   "metadata": {},
   "outputs": [],
   "source": [
    "data = [x.split(\":\")[1][:-2] for x in data]"
   ]
  },
  {
   "cell_type": "code",
   "execution_count": 23,
   "metadata": {},
   "outputs": [],
   "source": [
    "data =[ float(x) for x in data]"
   ]
  },
  {
   "cell_type": "code",
   "execution_count": 24,
   "metadata": {},
   "outputs": [],
   "source": [
    "data = np.array(data)"
   ]
  },
  {
   "cell_type": "code",
   "execution_count": 34,
   "metadata": {},
   "outputs": [
    {
     "name": "stderr",
     "output_type": "stream",
     "text": [
      "No handles with labels found to put in legend.\n"
     ]
    },
    {
     "data": {
      "text/plain": [
       "<matplotlib.legend.Legend at 0x7ee97ec51cd0>"
      ]
     },
     "execution_count": 34,
     "metadata": {},
     "output_type": "execute_result"
    },
    {
     "data": {
      "image/png": "[encoded data removed]",
      "text/plain": [
       "<Figure size 432x288 with 1 Axes>"
      ]
     },
     "metadata": {
      "needs_background": "light"
     },
     "output_type": "display_data"
    }
   ],
   "source": [
    "plt.plot(losses[2:28])\n",
    "plt.plot(data[2:28])\n",
    "plt.legend()"
   ]
  },
  {
   "cell_type": "markdown",
   "metadata": {},
   "source": [
    "## 测试"
   ]
  },
  {
   "cell_type": "code",
   "execution_count": 15,
   "metadata": {},
   "outputs": [
    {
     "data": {
      "text/plain": [
       "<All keys matched successfully>"
      ]
     },
     "execution_count": 15,
     "metadata": {},
     "output_type": "execute_result"
    }
   ],
   "source": [
    "model.load_state_dict(torch.load(\"./model/Classfication_abstract_model2022-05-01 16:44:28.pt\"))"
   ]
  },
  {
   "cell_type": "code",
   "execution_count": 14,
   "metadata": {},
   "outputs": [
    {
     "name": "stdout",
     "output_type": "stream",
     "text": [
      "\n",
      "Evaluating...\n"
     ]
    },
    {
     "data": {
      "application/vnd.jupyter.widget-view+json": {
       "model_id": "7e617b13842b486388816171ae5e0ed2",
       "version_major": 2,
       "version_minor": 0
      },
      "text/plain": [
       "HBox(children=(FloatProgress(value=0.0, max=1634.0), HTML(value='')))"
      ]
     },
     "metadata": {},
     "output_type": "display_data"
    },
    {
     "name": "stdout",
     "output_type": "stream",
     "text": [
      "\n",
      "Evaluate loss 0.005177605530700785\n"
     ]
    }
   ],
   "source": [
    "valid_loss,total_preds,total_labels = evaluate(val_dataloader)"
   ]
  },
  {
   "cell_type": "code",
   "execution_count": 15,
   "metadata": {},
   "outputs": [],
   "source": [
    "from sklearn.metrics import accuracy_score, roc_curve, auc,precision_score\n",
    "import matplotlib.pyplot as plt\n",
    "\n",
    "def evaluate_roc(probs, y_true):\n",
    "    \"\"\"\n",
    "    - Print AUC and accuracy on the test set\n",
    "    - Plot ROC\n",
    "    @params    probs (np.array): an array of predicted probabilities with shape (len(y_true), 2)\n",
    "    @params    y_true (np.array): an array of the true values with shape (len(y_true),)\n",
    "    \"\"\"\n",
    "    preds = probs#[:, 1]\n",
    "    fpr, tpr, threshold = roc_curve(y_true, preds)\n",
    "    roc_auc = auc(fpr, tpr)\n",
    "    print(f'AUC: {roc_auc:.4f}')\n",
    "       \n",
    "    # Get accuracy over the test set\n",
    "    y_pred = np.where(preds >= 0.5, 1, 0)\n",
    "    accuracy = accuracy_score(y_true, y_pred)\n",
    "    print(f'Accuracy: {accuracy*100:.2f}%')\n",
    "    \n",
    "    precision = precision_score(y_true,y_pred)\n",
    "    print(f'Precision: {precision*100:.2f}%')\n",
    "    # Plot ROC AUC\n",
    "    plt.title('Receiver Operating Characteristic')\n",
    "    plt.plot(fpr, tpr, 'b', label = 'AUC = %0.2f' % roc_auc)\n",
    "    plt.legend(loc = 'lower right')\n",
    "    plt.plot([0, 1], [0, 1],'r--')\n",
    "    plt.xlim([0, 1])\n",
    "    plt.ylim([0, 1])\n",
    "    plt.ylabel('True Positive Rate')\n",
    "    plt.xlabel('False Positive Rate')\n",
    "    plt.show()"
   ]
  },
  {
   "cell_type": "code",
   "execution_count": 16,
   "metadata": {},
   "outputs": [],
   "source": [
    "from sklearn.metrics import roc_auc_score\n",
    "# function for evaluating the model\n",
    "def evaluate(mydataloader):\n",
    "\n",
    "    print(\"\\nEvaluating...\")\n",
    "    #t0 = time.time()\n",
    "    # deactivate dropout layers\n",
    "    model.eval()\n",
    "\n",
    "    total_loss, total_accuracy = 0, 0\n",
    "\n",
    "    # empty list to save the model predictions\n",
    "    total_preds = []\n",
    "    total_labels = []\n",
    "\n",
    "    # iterate over batches\n",
    "    for step,batch in tqdm(enumerate(mydataloader),total=len(mydataloader)):\n",
    "\n",
    "        input_ids = batch[\"input_ids\"].to(device)\n",
    "        attention_mask = batch[\"attention_mask\"].to(device)\n",
    "        labels = batch[\"labels\"].to(device)   \n",
    "        # deactivate autograd\n",
    "        with torch.no_grad():\n",
    "            \n",
    "            loss, outputs = model(input_ids, attention_mask, labels)\n",
    "\n",
    "            total_loss = total_loss + loss.item()\n",
    "\n",
    "            outputs = outputs.detach().cpu().numpy()\n",
    "            labels = labels.detach().cpu().numpy()\n",
    "            total_preds.append(outputs)\n",
    "            total_labels.append(labels)\n",
    "\n",
    "\n",
    "    # compute the validation loss of the epoch\n",
    "    avg_loss = total_loss / len(val_dataloader)\n",
    "    print(f\"{step}: {avg_loss}\")\n",
    "\n",
    "\n",
    "\n",
    "    # reshape the predictions in form of (number of samples, no. of classes)\n",
    "    total_preds  = np.concatenate(total_preds, axis=0)\n",
    "    total_labels = np.concatenate(total_labels, axis=0)\n",
    "    true = np.array(total_labels)\n",
    "    pred = np.array(total_preds>0.5)\n",
    "    #print(true)\n",
    "    #print(pred)\n",
    "    for i, name in enumerate(LABEL_COLUMNS):\n",
    "        try:\n",
    "            print(f\"{name} roc_auc {roc_auc_score(true[:, i], pred[:, i])}\")\n",
    "        except Exception as e:\n",
    "            print(e)\n",
    "            pass\n",
    "    print(f\"Evaluate loss {total_loss / len(val_dataloader)}\")\n",
    "    \n",
    "    \n",
    "    total_patent=0\n",
    "    acc_patent=0\n",
    "    for pp,pr in zip(pred,true):\n",
    "        total_patent+=1\n",
    "        if all(pp==pr):\n",
    "            acc_patent+=1\n",
    "    print(f\"Predict accuracy num: {acc_patent},total Patent num: {total_patent}, Accuracy: {acc_patent/total_patent*100:.2f}%\")\n",
    "    \n",
    "    return avg_loss, total_preds, total_labels"
   ]
  },
  {
   "cell_type": "code",
   "execution_count": 19,
   "metadata": {},
   "outputs": [
    {
     "name": "stderr",
     "output_type": "stream",
     "text": [
      "/root/miniconda3/lib/python3.8/site-packages/sklearn/metrics/_classification.py:1318: UndefinedMetricWarning: Precision is ill-defined and being set to 0.0 in labels with no predicted samples. Use `zero_division` parameter to control this behavior.\n",
      "  _warn_prf(average, modifier, msg_start, len(result))\n",
      "/root/miniconda3/lib/python3.8/site-packages/sklearn/metrics/_classification.py:1318: UndefinedMetricWarning: Recall is ill-defined and being set to 0.0 in labels with no true samples. Use `zero_division` parameter to control this behavior.\n",
      "  _warn_prf(average, modifier, msg_start, len(result))\n",
      "/root/miniconda3/lib/python3.8/site-packages/sklearn/metrics/_classification.py:1580: UndefinedMetricWarning: F-score is ill-defined and being set to 0.0 in labels with no true nor predicted samples. Use `zero_division` parameter to control this behavior.\n",
      "  _warn_prf(average, \"true nor predicted\", \"F-score is\", len(true_sum))\n"
     ]
    }
   ],
   "source": [
    "import numpy as np\n",
    "import pandas as pd\n",
    "from sklearn.metrics import (accuracy_score, precision_score, recall_score, f1_score, roc_auc_score)\n",
    "\n",
    "\n",
    "true = np.array(total_labels)\n",
    "pred = np.array(total_preds>0.5)\n",
    "\n",
    "dic = {\n",
    "    \"Accuracy\" : accuracy_score(true,pred),\n",
    "    \"Precision-micro\" : precision_score(true,pred,average='micro'),\n",
    "    \"Precision-macro\" : precision_score(true,pred,average='macro'),\n",
    "    \"recall-micro\" : recall_score(true,pred,average='micro'),\n",
    "    \"recall-macro\" : recall_score(true,pred,average='macro'),\n",
    "    \"f1_micro\" : f1_score(true,pred,average='micro'),\n",
    "    \"f1-macro\" : f1_score(true,pred,average='macro')\n",
    "}"
   ]
  },
  {
   "cell_type": "code",
   "execution_count": 20,
   "metadata": {},
   "outputs": [
    {
     "data": {
      "text/plain": [
       "{'Accuracy': 0.3754111842105263,\n",
       " 'Precision-micro': 0.7974184295446397,\n",
       " 'Precision-macro': 0.3862186383017146,\n",
       " 'recall-micro': 0.4965394061174369,\n",
       " 'recall-macro': 0.23593060096168625,\n",
       " 'f1_micro': 0.6119977985690699,\n",
       " 'f1-macro': 0.27780302660087103}"
      ]
     },
     "execution_count": 20,
     "metadata": {},
     "output_type": "execute_result"
    }
   ],
   "source": [
    "# Test-A 5000 scores\n",
    "dic"
   ]
  },
  {
   "cell_type": "code",
   "execution_count": 43,
   "metadata": {},
   "outputs": [
    {
     "data": {
      "text/plain": [
       "{'Accuracy': 0.37504006410256413,\n",
       " 'Precision-micro': 0.7994232005420525,\n",
       " 'Precision-macro': 0.4782887336596196,\n",
       " 'recall-micro': 0.4998533485416327,\n",
       " 'recall-macro': 0.23880155245503887,\n",
       " 'f1_micro': 0.6151028647051746,\n",
       " 'f1-macro': 0.3018871559205054}"
      ]
     },
     "execution_count": 43,
     "metadata": {},
     "output_type": "execute_result"
    }
   ],
   "source": [
    "# Test-A 50000 scores\n",
    "dic"
   ]
  },
  {
   "cell_type": "code",
   "execution_count": 20,
   "metadata": {},
   "outputs": [
    {
     "ename": "NameError",
     "evalue": "name 'dic' is not defined",
     "output_type": "error",
     "traceback": [
      "\u001b[0;31m---------------------------------------------------------------------------\u001b[0m",
      "\u001b[0;31mNameError\u001b[0m                                 Traceback (most recent call last)",
      "\u001b[0;32m/tmp/ipykernel_351043/365400706.py\u001b[0m in \u001b[0;36m<module>\u001b[0;34m\u001b[0m\n\u001b[1;32m      1\u001b[0m \u001b[0;31m# Test 2021-A scores\u001b[0m\u001b[0;34m\u001b[0m\u001b[0;34m\u001b[0m\u001b[0;34m\u001b[0m\u001b[0m\n\u001b[1;32m      2\u001b[0m \u001b[0;31m# learning_rate 5e-5\u001b[0m\u001b[0;34m\u001b[0m\u001b[0;34m\u001b[0m\u001b[0;34m\u001b[0m\u001b[0m\n\u001b[0;32m----> 3\u001b[0;31m \u001b[0mdic\u001b[0m\u001b[0;34m\u001b[0m\u001b[0;34m\u001b[0m\u001b[0m\n\u001b[0m",
      "\u001b[0;31mNameError\u001b[0m: name 'dic' is not defined"
     ]
    }
   ],
   "source": [
    "# Test 2021-A scores\n",
    "# learning_rate 5e-5\n",
    "dic"
   ]
  },
  {
   "cell_type": "code",
   "execution_count": 26,
   "metadata": {},
   "outputs": [
    {
     "data": {
      "text/plain": [
       "{'Accuracy': 0.3426790557199211,\n",
       " 'Precision-micro': 0.8687377221435424,\n",
       " 'Precision-macro': 0.3707975747138592,\n",
       " 'recall-micro': 0.3982917010518731,\n",
       " 'recall-macro': 0.1260669178061862,\n",
       " 'f1_micro': 0.5461767797749323,\n",
       " 'f1-macro': 0.17230378630870097}"
      ]
     },
     "execution_count": 26,
     "metadata": {},
     "output_type": "execute_result"
    }
   ],
   "source": [
    "# Test 2021-A scores\n",
    "# learning_rate 5e-5\n",
    "dic"
   ]
  },
  {
   "cell_type": "code",
   "execution_count": 32,
   "metadata": {},
   "outputs": [
    {
     "data": {
      "text/plain": [
       "{'Accuracy': 0.3416666666666667,\n",
       " 'Precision-micro': 0.8671591098021518,\n",
       " 'Precision-macro': 0.3461082396608983,\n",
       " 'recall-micro': 0.3967615735709628,\n",
       " 'recall-macro': 0.12544875490870652,\n",
       " 'f1_micro': 0.5444256391521215,\n",
       " 'f1-macro': 0.17069473713464509}"
      ]
     },
     "execution_count": 32,
     "metadata": {},
     "output_type": "execute_result"
    }
   ],
   "source": [
    "# Test 2021-A-50000 scores\n",
    "# learning_rate 5e-5\n",
    "dic"
   ]
  },
  {
   "cell_type": "code",
   "execution_count": 21,
   "metadata": {},
   "outputs": [],
   "source": [
    "torch.save(model.state_dict(), f\"./baseline-Classification-USPTO-2M{now}.pt\")"
   ]
  },
  {
   "cell_type": "code",
   "execution_count": 38,
   "metadata": {},
   "outputs": [],
   "source": [
    "# Test 2021-A\n",
    "test_df = pd.read_feather(\"./2021-sample-50000.feather\")"
   ]
  },
  {
   "cell_type": "code",
   "execution_count": 16,
   "metadata": {},
   "outputs": [],
   "source": [
    "test_dataset = PatentDataset(\n",
    "  test_df,\n",
    "  tokenizer,\n",
    "  max_token_len=128\n",
    ")"
   ]
  },
  {
   "cell_type": "code",
   "execution_count": 17,
   "metadata": {},
   "outputs": [],
   "source": [
    "test_dataloader = DataLoader(test_dataset, batch_size=8*BATCH_SIZE, shuffle=True,drop_last = True)"
   ]
  },
  {
   "cell_type": "code",
   "execution_count": 41,
   "metadata": {},
   "outputs": [
    {
     "name": "stdout",
     "output_type": "stream",
     "text": [
      "\n",
      "Evaluating...\n"
     ]
    },
    {
     "data": {
      "application/vnd.jupyter.widget-view+json": {
       "model_id": "ad38d376550c4349858cee9cdf93b013",
       "version_major": 2,
       "version_minor": 0
      },
      "text/plain": [
       "  0%|          | 0/195 [00:00<?, ?it/s]"
      ]
     },
     "metadata": {},
     "output_type": "display_data"
    },
    {
     "name": "stdout",
     "output_type": "stream",
     "text": [
      "Evaluate loss 0.005641902016045955\n"
     ]
    }
   ],
   "source": [
    "avg_loss, total_preds, total_labels = evaluate(test_dataloader)"
   ]
  },
  {
   "cell_type": "code",
   "execution_count": 18,
   "metadata": {},
   "outputs": [
    {
     "name": "stdout",
     "output_type": "stream",
     "text": [
      "\n",
      "Evaluating...\n"
     ]
    },
    {
     "data": {
      "application/vnd.jupyter.widget-view+json": {
       "model_id": "6603290b3d2e46c487b8e15747d13a5f",
       "version_major": 2,
       "version_minor": 0
      },
      "text/plain": [
       "  0%|          | 0/19 [00:00<?, ?it/s]"
      ]
     },
     "metadata": {},
     "output_type": "display_data"
    },
    {
     "name": "stdout",
     "output_type": "stream",
     "text": [
      "Evaluate loss 0.005589187954013285\n"
     ]
    }
   ],
   "source": [
    "avg_loss, total_preds, total_labels = evaluate(test_dataloader)"
   ]
  },
  {
   "cell_type": "code",
   "execution_count": 22,
   "metadata": {},
   "outputs": [],
   "source": [
    "total_labels = torch.tensor(total_labels)\n",
    "total_preds = torch.tensor(total_preds)"
   ]
  },
  {
   "cell_type": "code",
   "execution_count": 24,
   "metadata": {},
   "outputs": [],
   "source": [
    "preds = torch.argmax(total_preds,dim=1,keepdim=True)"
   ]
  },
  {
   "cell_type": "code",
   "execution_count": 25,
   "metadata": {},
   "outputs": [
    {
     "name": "stdout",
     "output_type": "stream",
     "text": [
      "0.8050986842105263\n",
      "0.5528234649122807\n",
      "0.6555271883430036\n"
     ]
    }
   ],
   "source": [
    "tp = 0\n",
    "fp = 0\n",
    "total = total_labels.shape[0]\n",
    "ls = []\n",
    "\n",
    "for i in range(total_labels.shape[0]):\n",
    "    label = torch.where(total_labels[i])\n",
    "    pr = 1\n",
    "    for l in label[0]:\n",
    "        if l == preds[i]:\n",
    "            tp += 1\n",
    "            break\n",
    "    else:\n",
    "        pr = 0\n",
    "    ls.append(pr/label[0].shape[0])\n",
    "    \n",
    "precision = tp/total\n",
    "recall = np.mean(ls)\n",
    "f1_score = 2*precision*recall / (precision+recall)\n",
    "print(precision)\n",
    "print(recall)\n",
    "print(f1_score)"
   ]
  },
  {
   "cell_type": "code",
   "execution_count": null,
   "metadata": {},
   "outputs": [],
   "source": []
  }
 ],
 "metadata": {
  "kernelspec": {
   "display_name": "Python 3 (ipykernel)",
   "language": "python",
   "name": "python3"
  },
  "language_info": {
   "codemirror_mode": {
    "name": "ipython",
    "version": 3
   },
   "file_extension": ".py",
   "mimetype": "text/x-python",
   "name": "python",
   "nbconvert_exporter": "python",
   "pygments_lexer": "ipython3",
   "version": "3.8.10"
  },
  "widgets": {
   "application/vnd.jupyter.widget-state+json": {
    "state": {
     "164dc99c25814f6ab80b1620d5bbdccb": {
      "model_module": "@jupyter-widgets/controls",
      "model_module_version": "1.5.0",
      "model_name": "FloatProgressModel",
      "state": {
       "layout": "IPY_MODEL_5445e44543df4f0593767b43681f48f0",
       "max": 86055,
       "style": "IPY_MODEL_ccb7249e92c14924821f89b126e0cacd",
       "value": 85982
      }
     },
     "1d50adeb23e542a5aa98f7de96d6a9d7": {
      "model_module": "@jupyter-widgets/controls",
      "model_module_version": "1.5.0",
      "model_name": "ProgressStyleModel",
      "state": {
       "description_width": ""
      }
     },
     "1e895d0af15b4ff2a6c2ad14a91f5748": {
      "model_module": "@jupyter-widgets/controls",
      "model_module_version": "1.5.0",
      "model_name": "FloatProgressModel",
      "state": {
       "layout": "IPY_MODEL_c903ce8ed8c54437b67158c54da3a22a",
       "max": 10757,
       "style": "IPY_MODEL_f8a513de577440318b252bef4f2da141",
       "value": 9544
      }
     },
     "20a637e61a934dc3a1c79ed24c7cecd1": {
      "model_module": "@jupyter-widgets/controls",
      "model_module_version": "1.5.0",
      "model_name": "HTMLModel",
      "state": {
       "layout": "IPY_MODEL_6ec90b1f56454be6b23a9bbfc75ffcf1",
       "style": "IPY_MODEL_6d5cbecbab2a45b28710fe24e4ac6de6",
       "value": " 85982/86055 [11:24:22&lt;00:35,  2.06it/s]"
      }
     },
     "2748d0831de24a3288e63ff82496a7d9": {
      "model_module": "@jupyter-widgets/controls",
      "model_module_version": "1.5.0",
      "model_name": "FloatProgressModel",
      "state": {
       "layout": "IPY_MODEL_90cfa066ef354ea2b1ee38ef9a5f8099",
       "max": 5,
       "style": "IPY_MODEL_593f5fe9c83d4b85a4fbd9fd447b8e9a"
      }
     },
     "2b90dffa457c429f99c92d510b048761": {
      "model_module": "@jupyter-widgets/controls",
      "model_module_version": "1.5.0",
      "model_name": "DescriptionStyleModel",
      "state": {
       "description_width": ""
      }
     },
     "309c7152a11d4c1381a88e9c451751c9": {
      "model_module": "@jupyter-widgets/controls",
      "model_module_version": "1.5.0",
      "model_name": "DescriptionStyleModel",
      "state": {
       "description_width": ""
      }
     },
     "37e133be36cf4b31a6e83448ade7534b": {
      "model_module": "@jupyter-widgets/controls",
      "model_module_version": "1.5.0",
      "model_name": "FloatProgressModel",
      "state": {
       "layout": "IPY_MODEL_728b2a6ea0f0465282eb7464e28b8f85",
       "max": 86055,
       "style": "IPY_MODEL_1d50adeb23e542a5aa98f7de96d6a9d7",
       "value": 44175
      }
     },
     "3896630326114e08b072c857b038bc1a": {
      "model_module": "@jupyter-widgets/base",
      "model_module_version": "1.2.0",
      "model_name": "LayoutModel",
      "state": {}
     },
     "3a7d8d6da3f54f238b0afea6e7ee2b85": {
      "model_module": "@jupyter-widgets/controls",
      "model_module_version": "1.5.0",
      "model_name": "HTMLModel",
      "state": {
       "layout": "IPY_MODEL_a467379af6fb4610af04419257bcd97e",
       "style": "IPY_MODEL_2b90dffa457c429f99c92d510b048761",
       "value": "Eval:  89%"
      }
     },
     "3ae8ae0bda93481196c4f129a01bf000": {
      "model_module": "@jupyter-widgets/controls",
      "model_module_version": "1.5.0",
      "model_name": "HTMLModel",
      "state": {
       "layout": "IPY_MODEL_f50ae3f29d31451f941bca0d4a03a215",
       "style": "IPY_MODEL_8ee2175173904a2eb2d9aba4753e15d6",
       "value": " 44175/86055 [5:52:16&lt;4:55:35,  2.36it/s]"
      }
     },
     "4314a58991154b8e862b9b2e0aebef2c": {
      "model_module": "@jupyter-widgets/controls",
      "model_module_version": "1.5.0",
      "model_name": "HBoxModel",
      "state": {
       "children": [
        "IPY_MODEL_f12a82db3205424182376a8b167778d1",
        "IPY_MODEL_37e133be36cf4b31a6e83448ade7534b",
        "IPY_MODEL_3ae8ae0bda93481196c4f129a01bf000"
       ],
       "layout": "IPY_MODEL_3896630326114e08b072c857b038bc1a"
      }
     },
     "434444785a7e447e87e0cad98313ad1f": {
      "model_module": "@jupyter-widgets/controls",
      "model_module_version": "1.5.0",
      "model_name": "DescriptionStyleModel",
      "state": {
       "description_width": ""
      }
     },
     "5445e44543df4f0593767b43681f48f0": {
      "model_module": "@jupyter-widgets/base",
      "model_module_version": "1.2.0",
      "model_name": "LayoutModel",
      "state": {}
     },
     "556f902dd03b49fbb6bf7120e444631e": {
      "model_module": "@jupyter-widgets/controls",
      "model_module_version": "1.5.0",
      "model_name": "DescriptionStyleModel",
      "state": {
       "description_width": ""
      }
     },
     "573e3df279c94dcdbcca6d4fbc2baba5": {
      "model_module": "@jupyter-widgets/base",
      "model_module_version": "1.2.0",
      "model_name": "LayoutModel",
      "state": {}
     },
     "593f5fe9c83d4b85a4fbd9fd447b8e9a": {
      "model_module": "@jupyter-widgets/controls",
      "model_module_version": "1.5.0",
      "model_name": "ProgressStyleModel",
      "state": {
       "description_width": ""
      }
     },
     "6c8675f1019348b090dcfd9a695e28ca": {
      "model_module": "@jupyter-widgets/controls",
      "model_module_version": "1.5.0",
      "model_name": "DescriptionStyleModel",
      "state": {
       "description_width": ""
      }
     },
     "6d5cbecbab2a45b28710fe24e4ac6de6": {
      "model_module": "@jupyter-widgets/controls",
      "model_module_version": "1.5.0",
      "model_name": "DescriptionStyleModel",
      "state": {
       "description_width": ""
      }
     },
     "6ec90b1f56454be6b23a9bbfc75ffcf1": {
      "model_module": "@jupyter-widgets/base",
      "model_module_version": "1.2.0",
      "model_name": "LayoutModel",
      "state": {}
     },
     "6ef42ab2cf214b2a9c161320cab5eaf4": {
      "model_module": "@jupyter-widgets/controls",
      "model_module_version": "1.5.0",
      "model_name": "HTMLModel",
      "state": {
       "layout": "IPY_MODEL_e5da622f865b4be589d33d9bf11bff95",
       "style": "IPY_MODEL_309c7152a11d4c1381a88e9c451751c9",
       "value": "  0%"
      }
     },
     "728b2a6ea0f0465282eb7464e28b8f85": {
      "model_module": "@jupyter-widgets/base",
      "model_module_version": "1.2.0",
      "model_name": "LayoutModel",
      "state": {}
     },
     "8ee2175173904a2eb2d9aba4753e15d6": {
      "model_module": "@jupyter-widgets/controls",
      "model_module_version": "1.5.0",
      "model_name": "DescriptionStyleModel",
      "state": {
       "description_width": ""
      }
     },
     "90cfa066ef354ea2b1ee38ef9a5f8099": {
      "model_module": "@jupyter-widgets/base",
      "model_module_version": "1.2.0",
      "model_name": "LayoutModel",
      "state": {}
     },
     "9820aa3240884437b73ec6ac97f9bfeb": {
      "model_module": "@jupyter-widgets/base",
      "model_module_version": "1.2.0",
      "model_name": "LayoutModel",
      "state": {}
     },
     "9a7a893bdc5b4996bb0af662499a1031": {
      "model_module": "@jupyter-widgets/controls",
      "model_module_version": "1.5.0",
      "model_name": "HBoxModel",
      "state": {
       "children": [
        "IPY_MODEL_3a7d8d6da3f54f238b0afea6e7ee2b85",
        "IPY_MODEL_1e895d0af15b4ff2a6c2ad14a91f5748",
        "IPY_MODEL_d8a58dc7a14847c380437b483941f7b8"
       ],
       "layout": "IPY_MODEL_bb728dc1babb44c59b277d6c0fae77d1"
      }
     },
     "9acb681f98d74355b0d50fd3392c7ec2": {
      "model_module": "@jupyter-widgets/base",
      "model_module_version": "1.2.0",
      "model_name": "LayoutModel",
      "state": {}
     },
     "a3685fa7e19d4cc78a84fe0f9a47d392": {
      "model_module": "@jupyter-widgets/base",
      "model_module_version": "1.2.0",
      "model_name": "LayoutModel",
      "state": {}
     },
     "a467379af6fb4610af04419257bcd97e": {
      "model_module": "@jupyter-widgets/base",
      "model_module_version": "1.2.0",
      "model_name": "LayoutModel",
      "state": {}
     },
     "ad8d9ad1431f4ab2961b70feb3bffef4": {
      "model_module": "@jupyter-widgets/base",
      "model_module_version": "1.2.0",
      "model_name": "LayoutModel",
      "state": {}
     },
     "bb728dc1babb44c59b277d6c0fae77d1": {
      "model_module": "@jupyter-widgets/base",
      "model_module_version": "1.2.0",
      "model_name": "LayoutModel",
      "state": {}
     },
     "c0bbf35d93224082a7f0abddb98cecf8": {
      "model_module": "@jupyter-widgets/base",
      "model_module_version": "1.2.0",
      "model_name": "LayoutModel",
      "state": {}
     },
     "c15c1985d6914f08b96560a7231ee0ae": {
      "model_module": "@jupyter-widgets/controls",
      "model_module_version": "1.5.0",
      "model_name": "HTMLModel",
      "state": {
       "layout": "IPY_MODEL_a3685fa7e19d4cc78a84fe0f9a47d392",
       "style": "IPY_MODEL_434444785a7e447e87e0cad98313ad1f",
       "value": " 0/5 [00:00&lt;?, ?it/s]"
      }
     },
     "c903ce8ed8c54437b67158c54da3a22a": {
      "model_module": "@jupyter-widgets/base",
      "model_module_version": "1.2.0",
      "model_name": "LayoutModel",
      "state": {}
     },
     "ccb7249e92c14924821f89b126e0cacd": {
      "model_module": "@jupyter-widgets/controls",
      "model_module_version": "1.5.0",
      "model_name": "ProgressStyleModel",
      "state": {
       "description_width": ""
      }
     },
     "d5e99427fc1a466589e96bf94e2e0b89": {
      "model_module": "@jupyter-widgets/controls",
      "model_module_version": "1.5.0",
      "model_name": "HBoxModel",
      "state": {
       "children": [
        "IPY_MODEL_6ef42ab2cf214b2a9c161320cab5eaf4",
        "IPY_MODEL_2748d0831de24a3288e63ff82496a7d9",
        "IPY_MODEL_c15c1985d6914f08b96560a7231ee0ae"
       ],
       "layout": "IPY_MODEL_c0bbf35d93224082a7f0abddb98cecf8"
      }
     },
     "d8a58dc7a14847c380437b483941f7b8": {
      "model_module": "@jupyter-widgets/controls",
      "model_module_version": "1.5.0",
      "model_name": "HTMLModel",
      "state": {
       "layout": "IPY_MODEL_ad8d9ad1431f4ab2961b70feb3bffef4",
       "style": "IPY_MODEL_f1587b8254aa4fe995d0262ff5c0ff0d",
       "value": " 9544/10757 [25:20&lt;03:20,  6.06it/s]"
      }
     },
     "e5da622f865b4be589d33d9bf11bff95": {
      "model_module": "@jupyter-widgets/base",
      "model_module_version": "1.2.0",
      "model_name": "LayoutModel",
      "state": {}
     },
     "e6911c72c9fb4701bf09e05c358cc971": {
      "model_module": "@jupyter-widgets/controls",
      "model_module_version": "1.5.0",
      "model_name": "HBoxModel",
      "state": {
       "children": [
        "IPY_MODEL_f16d3926bf7d42f3a864c8aaf75d8fa2",
        "IPY_MODEL_164dc99c25814f6ab80b1620d5bbdccb",
        "IPY_MODEL_20a637e61a934dc3a1c79ed24c7cecd1"
       ],
       "layout": "IPY_MODEL_573e3df279c94dcdbcca6d4fbc2baba5"
      }
     },
     "f12a82db3205424182376a8b167778d1": {
      "model_module": "@jupyter-widgets/controls",
      "model_module_version": "1.5.0",
      "model_name": "HTMLModel",
      "state": {
       "layout": "IPY_MODEL_9820aa3240884437b73ec6ac97f9bfeb",
       "style": "IPY_MODEL_6c8675f1019348b090dcfd9a695e28ca",
       "value": "Train:  49%"
      }
     },
     "f1587b8254aa4fe995d0262ff5c0ff0d": {
      "model_module": "@jupyter-widgets/controls",
      "model_module_version": "1.5.0",
      "model_name": "DescriptionStyleModel",
      "state": {
       "description_width": ""
      }
     },
     "f16d3926bf7d42f3a864c8aaf75d8fa2": {
      "model_module": "@jupyter-widgets/controls",
      "model_module_version": "1.5.0",
      "model_name": "HTMLModel",
      "state": {
       "layout": "IPY_MODEL_9acb681f98d74355b0d50fd3392c7ec2",
       "style": "IPY_MODEL_556f902dd03b49fbb6bf7120e444631e",
       "value": "Train: 100%"
      }
     },
     "f50ae3f29d31451f941bca0d4a03a215": {
      "model_module": "@jupyter-widgets/base",
      "model_module_version": "1.2.0",
      "model_name": "LayoutModel",
      "state": {}
     },
     "f8a513de577440318b252bef4f2da141": {
      "model_module": "@jupyter-widgets/controls",
      "model_module_version": "1.5.0",
      "model_name": "ProgressStyleModel",
      "state": {
       "description_width": ""
      }
     }
    },
    "version_major": 2,
    "version_minor": 0
   }
  }
 },
 "nbformat": 4,
 "nbformat_minor": 4
}
